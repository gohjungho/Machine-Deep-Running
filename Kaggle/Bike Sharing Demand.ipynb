{
 "cells": [
  {
   "cell_type": "code",
   "execution_count": 1,
   "id": "a2a1c964",
   "metadata": {
    "_cell_guid": "b1076dfc-b9ad-4769-8c92-a6c4dae69d19",
    "_uuid": "8f2839f25d086af736a60e9eeb907d3b93b6e0e5",
    "execution": {
     "iopub.execute_input": "2022-01-06T08:39:33.927016Z",
     "iopub.status.busy": "2022-01-06T08:39:33.926333Z",
     "iopub.status.idle": "2022-01-06T08:39:33.934841Z",
     "shell.execute_reply": "2022-01-06T08:39:33.935453Z",
     "shell.execute_reply.started": "2022-01-06T07:43:04.232218Z"
    },
    "papermill": {
     "duration": 0.044566,
     "end_time": "2022-01-06T08:39:33.935813",
     "exception": false,
     "start_time": "2022-01-06T08:39:33.891247",
     "status": "completed"
    },
    "tags": []
   },
   "outputs": [
    {
     "name": "stdout",
     "output_type": "stream",
     "text": [
      "/kaggle/input/bike-sharing-demand/sampleSubmission.csv\n",
      "/kaggle/input/bike-sharing-demand/train.csv\n",
      "/kaggle/input/bike-sharing-demand/test.csv\n"
     ]
    }
   ],
   "source": [
    "# This Python 3 environment comes with many helpful analytics libraries installed\n",
    "# It is defined by the kaggle/python Docker image: https://github.com/kaggle/docker-python\n",
    "# For example, here's several helpful packages to load\n",
    "\n",
    "import numpy as np # linear algebra\n",
    "import pandas as pd # data processing, CSV file I/O (e.g. pd.read_csv)\n",
    "\n",
    "# Input data files are available in the read-only \"../input/\" directory\n",
    "# For example, running this (by clicking run or pressing Shift+Enter) will list all files under the input directory\n",
    "\n",
    "import os\n",
    "for dirname, _, filenames in os.walk('/kaggle/input'):\n",
    "    for filename in filenames:\n",
    "        print(os.path.join(dirname, filename))\n",
    "\n",
    "# You can write up to 20GB to the current directory (/kaggle/working/) that gets preserved as output when you create a version using \"Save & Run All\" \n",
    "# You can also write temporary files to /kaggle/temp/, but they won't be saved outside of the current session"
   ]
  },
  {
   "cell_type": "code",
   "execution_count": 2,
   "id": "4e8d6fed",
   "metadata": {
    "execution": {
     "iopub.execute_input": "2022-01-06T08:39:33.984349Z",
     "iopub.status.busy": "2022-01-06T08:39:33.983528Z",
     "iopub.status.idle": "2022-01-06T08:39:34.029335Z",
     "shell.execute_reply": "2022-01-06T08:39:34.028769Z",
     "shell.execute_reply.started": "2022-01-06T08:01:12.341866Z"
    },
    "papermill": {
     "duration": 0.071644,
     "end_time": "2022-01-06T08:39:34.029527",
     "exception": false,
     "start_time": "2022-01-06T08:39:33.957883",
     "status": "completed"
    },
    "tags": []
   },
   "outputs": [
    {
     "data": {
      "text/html": [
       "<div>\n",
       "<style scoped>\n",
       "    .dataframe tbody tr th:only-of-type {\n",
       "        vertical-align: middle;\n",
       "    }\n",
       "\n",
       "    .dataframe tbody tr th {\n",
       "        vertical-align: top;\n",
       "    }\n",
       "\n",
       "    .dataframe thead th {\n",
       "        text-align: right;\n",
       "    }\n",
       "</style>\n",
       "<table border=\"1\" class=\"dataframe\">\n",
       "  <thead>\n",
       "    <tr style=\"text-align: right;\">\n",
       "      <th></th>\n",
       "      <th>datetime</th>\n",
       "      <th>count</th>\n",
       "    </tr>\n",
       "  </thead>\n",
       "  <tbody>\n",
       "    <tr>\n",
       "      <th>0</th>\n",
       "      <td>2011-01-20 00:00:00</td>\n",
       "      <td>0</td>\n",
       "    </tr>\n",
       "    <tr>\n",
       "      <th>1</th>\n",
       "      <td>2011-01-20 01:00:00</td>\n",
       "      <td>0</td>\n",
       "    </tr>\n",
       "    <tr>\n",
       "      <th>2</th>\n",
       "      <td>2011-01-20 02:00:00</td>\n",
       "      <td>0</td>\n",
       "    </tr>\n",
       "    <tr>\n",
       "      <th>3</th>\n",
       "      <td>2011-01-20 03:00:00</td>\n",
       "      <td>0</td>\n",
       "    </tr>\n",
       "    <tr>\n",
       "      <th>4</th>\n",
       "      <td>2011-01-20 04:00:00</td>\n",
       "      <td>0</td>\n",
       "    </tr>\n",
       "    <tr>\n",
       "      <th>...</th>\n",
       "      <td>...</td>\n",
       "      <td>...</td>\n",
       "    </tr>\n",
       "    <tr>\n",
       "      <th>6488</th>\n",
       "      <td>2012-12-31 19:00:00</td>\n",
       "      <td>0</td>\n",
       "    </tr>\n",
       "    <tr>\n",
       "      <th>6489</th>\n",
       "      <td>2012-12-31 20:00:00</td>\n",
       "      <td>0</td>\n",
       "    </tr>\n",
       "    <tr>\n",
       "      <th>6490</th>\n",
       "      <td>2012-12-31 21:00:00</td>\n",
       "      <td>0</td>\n",
       "    </tr>\n",
       "    <tr>\n",
       "      <th>6491</th>\n",
       "      <td>2012-12-31 22:00:00</td>\n",
       "      <td>0</td>\n",
       "    </tr>\n",
       "    <tr>\n",
       "      <th>6492</th>\n",
       "      <td>2012-12-31 23:00:00</td>\n",
       "      <td>0</td>\n",
       "    </tr>\n",
       "  </tbody>\n",
       "</table>\n",
       "<p>6493 rows × 2 columns</p>\n",
       "</div>"
      ],
      "text/plain": [
       "                 datetime  count\n",
       "0     2011-01-20 00:00:00      0\n",
       "1     2011-01-20 01:00:00      0\n",
       "2     2011-01-20 02:00:00      0\n",
       "3     2011-01-20 03:00:00      0\n",
       "4     2011-01-20 04:00:00      0\n",
       "...                   ...    ...\n",
       "6488  2012-12-31 19:00:00      0\n",
       "6489  2012-12-31 20:00:00      0\n",
       "6490  2012-12-31 21:00:00      0\n",
       "6491  2012-12-31 22:00:00      0\n",
       "6492  2012-12-31 23:00:00      0\n",
       "\n",
       "[6493 rows x 2 columns]"
      ]
     },
     "execution_count": 2,
     "metadata": {},
     "output_type": "execute_result"
    }
   ],
   "source": [
    "sample_submission = pd.read_csv('/kaggle/input/bike-sharing-demand/sampleSubmission.csv')\n",
    "sample_submission"
   ]
  },
  {
   "cell_type": "code",
   "execution_count": 3,
   "id": "ca1e272f",
   "metadata": {
    "execution": {
     "iopub.execute_input": "2022-01-06T08:39:34.078566Z",
     "iopub.status.busy": "2022-01-06T08:39:34.077609Z",
     "iopub.status.idle": "2022-01-06T08:39:34.141047Z",
     "shell.execute_reply": "2022-01-06T08:39:34.141565Z",
     "shell.execute_reply.started": "2022-01-06T08:02:53.397760Z"
    },
    "papermill": {
     "duration": 0.090245,
     "end_time": "2022-01-06T08:39:34.141783",
     "exception": false,
     "start_time": "2022-01-06T08:39:34.051538",
     "status": "completed"
    },
    "tags": []
   },
   "outputs": [],
   "source": [
    "train_df = pd.read_csv('/kaggle/input/bike-sharing-demand/train.csv')\n",
    "test_df = pd.read_csv('/kaggle/input/bike-sharing-demand/test.csv')"
   ]
  },
  {
   "cell_type": "code",
   "execution_count": 4,
   "id": "31c39c1b",
   "metadata": {
    "execution": {
     "iopub.execute_input": "2022-01-06T08:39:34.203677Z",
     "iopub.status.busy": "2022-01-06T08:39:34.202930Z",
     "iopub.status.idle": "2022-01-06T08:39:34.215981Z",
     "shell.execute_reply": "2022-01-06T08:39:34.215430Z",
     "shell.execute_reply.started": "2022-01-06T08:02:58.707513Z"
    },
    "papermill": {
     "duration": 0.052025,
     "end_time": "2022-01-06T08:39:34.216142",
     "exception": false,
     "start_time": "2022-01-06T08:39:34.164117",
     "status": "completed"
    },
    "tags": []
   },
   "outputs": [
    {
     "data": {
      "text/html": [
       "<div>\n",
       "<style scoped>\n",
       "    .dataframe tbody tr th:only-of-type {\n",
       "        vertical-align: middle;\n",
       "    }\n",
       "\n",
       "    .dataframe tbody tr th {\n",
       "        vertical-align: top;\n",
       "    }\n",
       "\n",
       "    .dataframe thead th {\n",
       "        text-align: right;\n",
       "    }\n",
       "</style>\n",
       "<table border=\"1\" class=\"dataframe\">\n",
       "  <thead>\n",
       "    <tr style=\"text-align: right;\">\n",
       "      <th></th>\n",
       "      <th>datetime</th>\n",
       "      <th>season</th>\n",
       "      <th>holiday</th>\n",
       "      <th>workingday</th>\n",
       "      <th>weather</th>\n",
       "      <th>temp</th>\n",
       "      <th>atemp</th>\n",
       "      <th>humidity</th>\n",
       "      <th>windspeed</th>\n",
       "      <th>casual</th>\n",
       "      <th>registered</th>\n",
       "      <th>count</th>\n",
       "    </tr>\n",
       "  </thead>\n",
       "  <tbody>\n",
       "    <tr>\n",
       "      <th>0</th>\n",
       "      <td>2011-01-01 00:00:00</td>\n",
       "      <td>1</td>\n",
       "      <td>0</td>\n",
       "      <td>0</td>\n",
       "      <td>1</td>\n",
       "      <td>9.84</td>\n",
       "      <td>14.395</td>\n",
       "      <td>81</td>\n",
       "      <td>0.0000</td>\n",
       "      <td>3</td>\n",
       "      <td>13</td>\n",
       "      <td>16</td>\n",
       "    </tr>\n",
       "    <tr>\n",
       "      <th>1</th>\n",
       "      <td>2011-01-01 01:00:00</td>\n",
       "      <td>1</td>\n",
       "      <td>0</td>\n",
       "      <td>0</td>\n",
       "      <td>1</td>\n",
       "      <td>9.02</td>\n",
       "      <td>13.635</td>\n",
       "      <td>80</td>\n",
       "      <td>0.0000</td>\n",
       "      <td>8</td>\n",
       "      <td>32</td>\n",
       "      <td>40</td>\n",
       "    </tr>\n",
       "    <tr>\n",
       "      <th>2</th>\n",
       "      <td>2011-01-01 02:00:00</td>\n",
       "      <td>1</td>\n",
       "      <td>0</td>\n",
       "      <td>0</td>\n",
       "      <td>1</td>\n",
       "      <td>9.02</td>\n",
       "      <td>13.635</td>\n",
       "      <td>80</td>\n",
       "      <td>0.0000</td>\n",
       "      <td>5</td>\n",
       "      <td>27</td>\n",
       "      <td>32</td>\n",
       "    </tr>\n",
       "    <tr>\n",
       "      <th>3</th>\n",
       "      <td>2011-01-01 03:00:00</td>\n",
       "      <td>1</td>\n",
       "      <td>0</td>\n",
       "      <td>0</td>\n",
       "      <td>1</td>\n",
       "      <td>9.84</td>\n",
       "      <td>14.395</td>\n",
       "      <td>75</td>\n",
       "      <td>0.0000</td>\n",
       "      <td>3</td>\n",
       "      <td>10</td>\n",
       "      <td>13</td>\n",
       "    </tr>\n",
       "    <tr>\n",
       "      <th>4</th>\n",
       "      <td>2011-01-01 04:00:00</td>\n",
       "      <td>1</td>\n",
       "      <td>0</td>\n",
       "      <td>0</td>\n",
       "      <td>1</td>\n",
       "      <td>9.84</td>\n",
       "      <td>14.395</td>\n",
       "      <td>75</td>\n",
       "      <td>0.0000</td>\n",
       "      <td>0</td>\n",
       "      <td>1</td>\n",
       "      <td>1</td>\n",
       "    </tr>\n",
       "    <tr>\n",
       "      <th>...</th>\n",
       "      <td>...</td>\n",
       "      <td>...</td>\n",
       "      <td>...</td>\n",
       "      <td>...</td>\n",
       "      <td>...</td>\n",
       "      <td>...</td>\n",
       "      <td>...</td>\n",
       "      <td>...</td>\n",
       "      <td>...</td>\n",
       "      <td>...</td>\n",
       "      <td>...</td>\n",
       "      <td>...</td>\n",
       "    </tr>\n",
       "    <tr>\n",
       "      <th>10881</th>\n",
       "      <td>2012-12-19 19:00:00</td>\n",
       "      <td>4</td>\n",
       "      <td>0</td>\n",
       "      <td>1</td>\n",
       "      <td>1</td>\n",
       "      <td>15.58</td>\n",
       "      <td>19.695</td>\n",
       "      <td>50</td>\n",
       "      <td>26.0027</td>\n",
       "      <td>7</td>\n",
       "      <td>329</td>\n",
       "      <td>336</td>\n",
       "    </tr>\n",
       "    <tr>\n",
       "      <th>10882</th>\n",
       "      <td>2012-12-19 20:00:00</td>\n",
       "      <td>4</td>\n",
       "      <td>0</td>\n",
       "      <td>1</td>\n",
       "      <td>1</td>\n",
       "      <td>14.76</td>\n",
       "      <td>17.425</td>\n",
       "      <td>57</td>\n",
       "      <td>15.0013</td>\n",
       "      <td>10</td>\n",
       "      <td>231</td>\n",
       "      <td>241</td>\n",
       "    </tr>\n",
       "    <tr>\n",
       "      <th>10883</th>\n",
       "      <td>2012-12-19 21:00:00</td>\n",
       "      <td>4</td>\n",
       "      <td>0</td>\n",
       "      <td>1</td>\n",
       "      <td>1</td>\n",
       "      <td>13.94</td>\n",
       "      <td>15.910</td>\n",
       "      <td>61</td>\n",
       "      <td>15.0013</td>\n",
       "      <td>4</td>\n",
       "      <td>164</td>\n",
       "      <td>168</td>\n",
       "    </tr>\n",
       "    <tr>\n",
       "      <th>10884</th>\n",
       "      <td>2012-12-19 22:00:00</td>\n",
       "      <td>4</td>\n",
       "      <td>0</td>\n",
       "      <td>1</td>\n",
       "      <td>1</td>\n",
       "      <td>13.94</td>\n",
       "      <td>17.425</td>\n",
       "      <td>61</td>\n",
       "      <td>6.0032</td>\n",
       "      <td>12</td>\n",
       "      <td>117</td>\n",
       "      <td>129</td>\n",
       "    </tr>\n",
       "    <tr>\n",
       "      <th>10885</th>\n",
       "      <td>2012-12-19 23:00:00</td>\n",
       "      <td>4</td>\n",
       "      <td>0</td>\n",
       "      <td>1</td>\n",
       "      <td>1</td>\n",
       "      <td>13.12</td>\n",
       "      <td>16.665</td>\n",
       "      <td>66</td>\n",
       "      <td>8.9981</td>\n",
       "      <td>4</td>\n",
       "      <td>84</td>\n",
       "      <td>88</td>\n",
       "    </tr>\n",
       "  </tbody>\n",
       "</table>\n",
       "<p>10886 rows × 12 columns</p>\n",
       "</div>"
      ],
      "text/plain": [
       "                  datetime  season  holiday  workingday  weather   temp  \\\n",
       "0      2011-01-01 00:00:00       1        0           0        1   9.84   \n",
       "1      2011-01-01 01:00:00       1        0           0        1   9.02   \n",
       "2      2011-01-01 02:00:00       1        0           0        1   9.02   \n",
       "3      2011-01-01 03:00:00       1        0           0        1   9.84   \n",
       "4      2011-01-01 04:00:00       1        0           0        1   9.84   \n",
       "...                    ...     ...      ...         ...      ...    ...   \n",
       "10881  2012-12-19 19:00:00       4        0           1        1  15.58   \n",
       "10882  2012-12-19 20:00:00       4        0           1        1  14.76   \n",
       "10883  2012-12-19 21:00:00       4        0           1        1  13.94   \n",
       "10884  2012-12-19 22:00:00       4        0           1        1  13.94   \n",
       "10885  2012-12-19 23:00:00       4        0           1        1  13.12   \n",
       "\n",
       "        atemp  humidity  windspeed  casual  registered  count  \n",
       "0      14.395        81     0.0000       3          13     16  \n",
       "1      13.635        80     0.0000       8          32     40  \n",
       "2      13.635        80     0.0000       5          27     32  \n",
       "3      14.395        75     0.0000       3          10     13  \n",
       "4      14.395        75     0.0000       0           1      1  \n",
       "...       ...       ...        ...     ...         ...    ...  \n",
       "10881  19.695        50    26.0027       7         329    336  \n",
       "10882  17.425        57    15.0013      10         231    241  \n",
       "10883  15.910        61    15.0013       4         164    168  \n",
       "10884  17.425        61     6.0032      12         117    129  \n",
       "10885  16.665        66     8.9981       4          84     88  \n",
       "\n",
       "[10886 rows x 12 columns]"
      ]
     },
     "execution_count": 4,
     "metadata": {},
     "output_type": "execute_result"
    }
   ],
   "source": [
    "train_df"
   ]
  },
  {
   "cell_type": "code",
   "execution_count": 5,
   "id": "0f6e1e05",
   "metadata": {
    "execution": {
     "iopub.execute_input": "2022-01-06T08:39:34.280878Z",
     "iopub.status.busy": "2022-01-06T08:39:34.266006Z",
     "iopub.status.idle": "2022-01-06T08:39:34.284900Z",
     "shell.execute_reply": "2022-01-06T08:39:34.284327Z",
     "shell.execute_reply.started": "2022-01-06T08:03:00.472587Z"
    },
    "papermill": {
     "duration": 0.046486,
     "end_time": "2022-01-06T08:39:34.285053",
     "exception": false,
     "start_time": "2022-01-06T08:39:34.238567",
     "status": "completed"
    },
    "tags": []
   },
   "outputs": [
    {
     "data": {
      "text/html": [
       "<div>\n",
       "<style scoped>\n",
       "    .dataframe tbody tr th:only-of-type {\n",
       "        vertical-align: middle;\n",
       "    }\n",
       "\n",
       "    .dataframe tbody tr th {\n",
       "        vertical-align: top;\n",
       "    }\n",
       "\n",
       "    .dataframe thead th {\n",
       "        text-align: right;\n",
       "    }\n",
       "</style>\n",
       "<table border=\"1\" class=\"dataframe\">\n",
       "  <thead>\n",
       "    <tr style=\"text-align: right;\">\n",
       "      <th></th>\n",
       "      <th>datetime</th>\n",
       "      <th>season</th>\n",
       "      <th>holiday</th>\n",
       "      <th>workingday</th>\n",
       "      <th>weather</th>\n",
       "      <th>temp</th>\n",
       "      <th>atemp</th>\n",
       "      <th>humidity</th>\n",
       "      <th>windspeed</th>\n",
       "    </tr>\n",
       "  </thead>\n",
       "  <tbody>\n",
       "    <tr>\n",
       "      <th>0</th>\n",
       "      <td>2011-01-20 00:00:00</td>\n",
       "      <td>1</td>\n",
       "      <td>0</td>\n",
       "      <td>1</td>\n",
       "      <td>1</td>\n",
       "      <td>10.66</td>\n",
       "      <td>11.365</td>\n",
       "      <td>56</td>\n",
       "      <td>26.0027</td>\n",
       "    </tr>\n",
       "    <tr>\n",
       "      <th>1</th>\n",
       "      <td>2011-01-20 01:00:00</td>\n",
       "      <td>1</td>\n",
       "      <td>0</td>\n",
       "      <td>1</td>\n",
       "      <td>1</td>\n",
       "      <td>10.66</td>\n",
       "      <td>13.635</td>\n",
       "      <td>56</td>\n",
       "      <td>0.0000</td>\n",
       "    </tr>\n",
       "    <tr>\n",
       "      <th>2</th>\n",
       "      <td>2011-01-20 02:00:00</td>\n",
       "      <td>1</td>\n",
       "      <td>0</td>\n",
       "      <td>1</td>\n",
       "      <td>1</td>\n",
       "      <td>10.66</td>\n",
       "      <td>13.635</td>\n",
       "      <td>56</td>\n",
       "      <td>0.0000</td>\n",
       "    </tr>\n",
       "    <tr>\n",
       "      <th>3</th>\n",
       "      <td>2011-01-20 03:00:00</td>\n",
       "      <td>1</td>\n",
       "      <td>0</td>\n",
       "      <td>1</td>\n",
       "      <td>1</td>\n",
       "      <td>10.66</td>\n",
       "      <td>12.880</td>\n",
       "      <td>56</td>\n",
       "      <td>11.0014</td>\n",
       "    </tr>\n",
       "    <tr>\n",
       "      <th>4</th>\n",
       "      <td>2011-01-20 04:00:00</td>\n",
       "      <td>1</td>\n",
       "      <td>0</td>\n",
       "      <td>1</td>\n",
       "      <td>1</td>\n",
       "      <td>10.66</td>\n",
       "      <td>12.880</td>\n",
       "      <td>56</td>\n",
       "      <td>11.0014</td>\n",
       "    </tr>\n",
       "    <tr>\n",
       "      <th>...</th>\n",
       "      <td>...</td>\n",
       "      <td>...</td>\n",
       "      <td>...</td>\n",
       "      <td>...</td>\n",
       "      <td>...</td>\n",
       "      <td>...</td>\n",
       "      <td>...</td>\n",
       "      <td>...</td>\n",
       "      <td>...</td>\n",
       "    </tr>\n",
       "    <tr>\n",
       "      <th>6488</th>\n",
       "      <td>2012-12-31 19:00:00</td>\n",
       "      <td>1</td>\n",
       "      <td>0</td>\n",
       "      <td>1</td>\n",
       "      <td>2</td>\n",
       "      <td>10.66</td>\n",
       "      <td>12.880</td>\n",
       "      <td>60</td>\n",
       "      <td>11.0014</td>\n",
       "    </tr>\n",
       "    <tr>\n",
       "      <th>6489</th>\n",
       "      <td>2012-12-31 20:00:00</td>\n",
       "      <td>1</td>\n",
       "      <td>0</td>\n",
       "      <td>1</td>\n",
       "      <td>2</td>\n",
       "      <td>10.66</td>\n",
       "      <td>12.880</td>\n",
       "      <td>60</td>\n",
       "      <td>11.0014</td>\n",
       "    </tr>\n",
       "    <tr>\n",
       "      <th>6490</th>\n",
       "      <td>2012-12-31 21:00:00</td>\n",
       "      <td>1</td>\n",
       "      <td>0</td>\n",
       "      <td>1</td>\n",
       "      <td>1</td>\n",
       "      <td>10.66</td>\n",
       "      <td>12.880</td>\n",
       "      <td>60</td>\n",
       "      <td>11.0014</td>\n",
       "    </tr>\n",
       "    <tr>\n",
       "      <th>6491</th>\n",
       "      <td>2012-12-31 22:00:00</td>\n",
       "      <td>1</td>\n",
       "      <td>0</td>\n",
       "      <td>1</td>\n",
       "      <td>1</td>\n",
       "      <td>10.66</td>\n",
       "      <td>13.635</td>\n",
       "      <td>56</td>\n",
       "      <td>8.9981</td>\n",
       "    </tr>\n",
       "    <tr>\n",
       "      <th>6492</th>\n",
       "      <td>2012-12-31 23:00:00</td>\n",
       "      <td>1</td>\n",
       "      <td>0</td>\n",
       "      <td>1</td>\n",
       "      <td>1</td>\n",
       "      <td>10.66</td>\n",
       "      <td>13.635</td>\n",
       "      <td>65</td>\n",
       "      <td>8.9981</td>\n",
       "    </tr>\n",
       "  </tbody>\n",
       "</table>\n",
       "<p>6493 rows × 9 columns</p>\n",
       "</div>"
      ],
      "text/plain": [
       "                 datetime  season  holiday  workingday  weather   temp  \\\n",
       "0     2011-01-20 00:00:00       1        0           1        1  10.66   \n",
       "1     2011-01-20 01:00:00       1        0           1        1  10.66   \n",
       "2     2011-01-20 02:00:00       1        0           1        1  10.66   \n",
       "3     2011-01-20 03:00:00       1        0           1        1  10.66   \n",
       "4     2011-01-20 04:00:00       1        0           1        1  10.66   \n",
       "...                   ...     ...      ...         ...      ...    ...   \n",
       "6488  2012-12-31 19:00:00       1        0           1        2  10.66   \n",
       "6489  2012-12-31 20:00:00       1        0           1        2  10.66   \n",
       "6490  2012-12-31 21:00:00       1        0           1        1  10.66   \n",
       "6491  2012-12-31 22:00:00       1        0           1        1  10.66   \n",
       "6492  2012-12-31 23:00:00       1        0           1        1  10.66   \n",
       "\n",
       "       atemp  humidity  windspeed  \n",
       "0     11.365        56    26.0027  \n",
       "1     13.635        56     0.0000  \n",
       "2     13.635        56     0.0000  \n",
       "3     12.880        56    11.0014  \n",
       "4     12.880        56    11.0014  \n",
       "...      ...       ...        ...  \n",
       "6488  12.880        60    11.0014  \n",
       "6489  12.880        60    11.0014  \n",
       "6490  12.880        60    11.0014  \n",
       "6491  13.635        56     8.9981  \n",
       "6492  13.635        65     8.9981  \n",
       "\n",
       "[6493 rows x 9 columns]"
      ]
     },
     "execution_count": 5,
     "metadata": {},
     "output_type": "execute_result"
    }
   ],
   "source": [
    "test_df"
   ]
  },
  {
   "cell_type": "code",
   "execution_count": 6,
   "id": "faae8eb3",
   "metadata": {
    "execution": {
     "iopub.execute_input": "2022-01-06T08:39:34.336660Z",
     "iopub.status.busy": "2022-01-06T08:39:34.335897Z",
     "iopub.status.idle": "2022-01-06T08:39:34.355068Z",
     "shell.execute_reply": "2022-01-06T08:39:34.354512Z",
     "shell.execute_reply.started": "2022-01-06T08:15:32.523216Z"
    },
    "papermill": {
     "duration": 0.04696,
     "end_time": "2022-01-06T08:39:34.355223",
     "exception": false,
     "start_time": "2022-01-06T08:39:34.308263",
     "status": "completed"
    },
    "tags": []
   },
   "outputs": [
    {
     "data": {
      "text/plain": [
       "array([[ 1.    ,  0.    ,  0.    , ..., 14.395 , 81.    ,  0.    ],\n",
       "       [ 1.    ,  0.    ,  0.    , ..., 13.635 , 80.    ,  0.    ],\n",
       "       [ 1.    ,  0.    ,  0.    , ..., 13.635 , 80.    ,  0.    ],\n",
       "       ...,\n",
       "       [ 4.    ,  0.    ,  1.    , ..., 15.91  , 61.    , 15.0013],\n",
       "       [ 4.    ,  0.    ,  1.    , ..., 17.425 , 61.    ,  6.0032],\n",
       "       [ 4.    ,  0.    ,  1.    , ..., 16.665 , 66.    ,  8.9981]])"
      ]
     },
     "execution_count": 6,
     "metadata": {},
     "output_type": "execute_result"
    }
   ],
   "source": [
    "train_features = train_df.values[:, 1:-3].astype(float)\n",
    "train_features"
   ]
  },
  {
   "cell_type": "code",
   "execution_count": 7,
   "id": "9bc94917",
   "metadata": {
    "execution": {
     "iopub.execute_input": "2022-01-06T08:39:34.415055Z",
     "iopub.status.busy": "2022-01-06T08:39:34.414327Z",
     "iopub.status.idle": "2022-01-06T08:39:34.418403Z",
     "shell.execute_reply": "2022-01-06T08:39:34.417794Z",
     "shell.execute_reply.started": "2022-01-06T08:11:58.164878Z"
    },
    "papermill": {
     "duration": 0.040102,
     "end_time": "2022-01-06T08:39:34.418578",
     "exception": false,
     "start_time": "2022-01-06T08:39:34.378476",
     "status": "completed"
    },
    "tags": []
   },
   "outputs": [
    {
     "data": {
      "text/plain": [
       "array([[ 1.    ,  0.    ,  1.    , ..., 11.365 , 56.    , 26.0027],\n",
       "       [ 1.    ,  0.    ,  1.    , ..., 13.635 , 56.    ,  0.    ],\n",
       "       [ 1.    ,  0.    ,  1.    , ..., 13.635 , 56.    ,  0.    ],\n",
       "       ...,\n",
       "       [ 1.    ,  0.    ,  1.    , ..., 12.88  , 60.    , 11.0014],\n",
       "       [ 1.    ,  0.    ,  1.    , ..., 13.635 , 56.    ,  8.9981],\n",
       "       [ 1.    ,  0.    ,  1.    , ..., 13.635 , 65.    ,  8.9981]])"
      ]
     },
     "execution_count": 7,
     "metadata": {},
     "output_type": "execute_result"
    }
   ],
   "source": [
    "test_features = test_df.values[:, 1:].astype(float)\n",
    "test_features"
   ]
  },
  {
   "cell_type": "code",
   "execution_count": 8,
   "id": "43291734",
   "metadata": {
    "execution": {
     "iopub.execute_input": "2022-01-06T08:39:34.474127Z",
     "iopub.status.busy": "2022-01-06T08:39:34.473328Z",
     "iopub.status.idle": "2022-01-06T08:39:34.477263Z",
     "shell.execute_reply": "2022-01-06T08:39:34.476735Z",
     "shell.execute_reply.started": "2022-01-06T08:15:37.280520Z"
    },
    "papermill": {
     "duration": 0.033851,
     "end_time": "2022-01-06T08:39:34.477445",
     "exception": false,
     "start_time": "2022-01-06T08:39:34.443594",
     "status": "completed"
    },
    "tags": []
   },
   "outputs": [
    {
     "data": {
      "text/plain": [
       "((10886, 8), (6493, 8))"
      ]
     },
     "execution_count": 8,
     "metadata": {},
     "output_type": "execute_result"
    }
   ],
   "source": [
    "train_features.shape, test_features.shape"
   ]
  },
  {
   "cell_type": "code",
   "execution_count": 9,
   "id": "ff80d2d1",
   "metadata": {
    "execution": {
     "iopub.execute_input": "2022-01-06T08:39:34.531505Z",
     "iopub.status.busy": "2022-01-06T08:39:34.530778Z",
     "iopub.status.idle": "2022-01-06T08:39:34.535849Z",
     "shell.execute_reply": "2022-01-06T08:39:34.535220Z",
     "shell.execute_reply.started": "2022-01-06T08:15:40.328209Z"
    },
    "papermill": {
     "duration": 0.034263,
     "end_time": "2022-01-06T08:39:34.535997",
     "exception": false,
     "start_time": "2022-01-06T08:39:34.501734",
     "status": "completed"
    },
    "tags": []
   },
   "outputs": [
    {
     "data": {
      "text/plain": [
       "((8,), (8,))"
      ]
     },
     "execution_count": 9,
     "metadata": {},
     "output_type": "execute_result"
    }
   ],
   "source": [
    "mean = train_features.mean(0)\n",
    "stdev = train_features.std(0)\n",
    "mean.shape, stdev.shape"
   ]
  },
  {
   "cell_type": "code",
   "execution_count": 10,
   "id": "f31896ae",
   "metadata": {
    "execution": {
     "iopub.execute_input": "2022-01-06T08:39:34.592021Z",
     "iopub.status.busy": "2022-01-06T08:39:34.591330Z",
     "iopub.status.idle": "2022-01-06T08:39:34.595014Z",
     "shell.execute_reply": "2022-01-06T08:39:34.594457Z",
     "shell.execute_reply.started": "2022-01-06T08:14:01.840364Z"
    },
    "papermill": {
     "duration": 0.033945,
     "end_time": "2022-01-06T08:39:34.595168",
     "exception": false,
     "start_time": "2022-01-06T08:39:34.561223",
     "status": "completed"
    },
    "tags": []
   },
   "outputs": [
    {
     "data": {
      "text/plain": [
       "(array([2.50661400e+00, 2.85688040e-02, 6.80874518e-01, 1.41842734e+00,\n",
       "        2.02308598e+01, 2.36550841e+01, 6.18864597e+01, 1.27993954e+01]),\n",
       " array([ 1.11612304,  0.1665912 ,  0.46613776,  0.63380947,  7.79123196,\n",
       "         8.47421137, 19.24414932,  8.16416232]))"
      ]
     },
     "execution_count": 10,
     "metadata": {},
     "output_type": "execute_result"
    }
   ],
   "source": [
    "mean, stdev"
   ]
  },
  {
   "cell_type": "code",
   "execution_count": 11,
   "id": "f27e06fd",
   "metadata": {
    "execution": {
     "iopub.execute_input": "2022-01-06T08:39:34.651300Z",
     "iopub.status.busy": "2022-01-06T08:39:34.650649Z",
     "iopub.status.idle": "2022-01-06T08:39:34.653236Z",
     "shell.execute_reply": "2022-01-06T08:39:34.653758Z",
     "shell.execute_reply.started": "2022-01-06T08:16:25.466368Z"
    },
    "papermill": {
     "duration": 0.034055,
     "end_time": "2022-01-06T08:39:34.653951",
     "exception": false,
     "start_time": "2022-01-06T08:39:34.619896",
     "status": "completed"
    },
    "tags": []
   },
   "outputs": [
    {
     "data": {
      "text/plain": [
       "array([[-1.34986372, -0.17149048, -1.46067232, ..., -1.09273697,\n",
       "         0.99321305, -1.56775367],\n",
       "       [-1.34986372, -0.17149048, -1.46067232, ..., -1.18242083,\n",
       "         0.94124921, -1.56775367],\n",
       "       [-1.34986372, -0.17149048, -1.46067232, ..., -1.18242083,\n",
       "         0.94124921, -1.56775367],\n",
       "       ...,\n",
       "       [ 1.33801198, -0.17149048,  0.68461625, ..., -0.91395927,\n",
       "        -0.04606385,  0.26970368],\n",
       "       [ 1.33801198, -0.17149048,  0.68461625, ..., -0.73518157,\n",
       "        -0.04606385, -0.83244247],\n",
       "       [ 1.33801198, -0.17149048,  0.68461625, ..., -0.82486544,\n",
       "         0.21375537, -0.46560752]])"
      ]
     },
     "execution_count": 11,
     "metadata": {},
     "output_type": "execute_result"
    }
   ],
   "source": [
    "train_features = (train_features - mean) / stdev\n",
    "train_features"
   ]
  },
  {
   "cell_type": "markdown",
   "id": "0d3f2716",
   "metadata": {
    "execution": {
     "iopub.execute_input": "2022-01-06T08:15:19.153017Z",
     "iopub.status.busy": "2022-01-06T08:15:19.152730Z",
     "iopub.status.idle": "2022-01-06T08:15:19.160023Z",
     "shell.execute_reply": "2022-01-06T08:15:19.159021Z",
     "shell.execute_reply.started": "2022-01-06T08:15:19.152985Z"
    },
    "papermill": {
     "duration": 0.024858,
     "end_time": "2022-01-06T08:39:34.704509",
     "exception": false,
     "start_time": "2022-01-06T08:39:34.679651",
     "status": "completed"
    },
    "tags": []
   },
   "source": [
    "train: (10886, 8), test: (6493, 8) -> difference.shape: (6493, 10886, 8)"
   ]
  },
  {
   "cell_type": "code",
   "execution_count": 12,
   "id": "1ed223f8",
   "metadata": {
    "execution": {
     "iopub.execute_input": "2022-01-06T08:39:34.757430Z",
     "iopub.status.busy": "2022-01-06T08:39:34.756761Z",
     "iopub.status.idle": "2022-01-06T08:39:34.764148Z",
     "shell.execute_reply": "2022-01-06T08:39:34.763560Z",
     "shell.execute_reply.started": "2022-01-06T08:22:13.647550Z"
    },
    "papermill": {
     "duration": 0.034931,
     "end_time": "2022-01-06T08:39:34.764314",
     "exception": false,
     "start_time": "2022-01-06T08:39:34.729383",
     "status": "completed"
    },
    "tags": []
   },
   "outputs": [
    {
     "data": {
      "text/plain": [
       "array([[-1.34986372, -0.17149048,  0.68461625, ..., -1.45029236,\n",
       "        -0.30588308,  1.61722711],\n",
       "       [-1.34986372, -0.17149048,  0.68461625, ..., -1.18242083,\n",
       "        -0.30588308, -1.56775367],\n",
       "       [-1.34986372, -0.17149048,  0.68461625, ..., -1.18242083,\n",
       "        -0.30588308, -1.56775367],\n",
       "       ...,\n",
       "       [-1.34986372, -0.17149048,  0.68461625, ..., -1.27151467,\n",
       "        -0.0980277 , -0.22023024],\n",
       "       [-1.34986372, -0.17149048,  0.68461625, ..., -1.18242083,\n",
       "        -0.30588308, -0.46560752],\n",
       "       [-1.34986372, -0.17149048,  0.68461625, ..., -1.18242083,\n",
       "         0.16179153, -0.46560752]])"
      ]
     },
     "execution_count": 12,
     "metadata": {},
     "output_type": "execute_result"
    }
   ],
   "source": [
    "test_features = (test_features - mean) / stdev\n",
    "test_features"
   ]
  },
  {
   "cell_type": "code",
   "execution_count": 13,
   "id": "b1195c59",
   "metadata": {
    "execution": {
     "iopub.execute_input": "2022-01-06T08:39:34.821678Z",
     "iopub.status.busy": "2022-01-06T08:39:34.821022Z",
     "iopub.status.idle": "2022-01-06T08:39:40.920110Z",
     "shell.execute_reply": "2022-01-06T08:39:40.919497Z",
     "shell.execute_reply.started": "2022-01-06T08:23:04.652179Z"
    },
    "papermill": {
     "duration": 6.129431,
     "end_time": "2022-01-06T08:39:40.920270",
     "exception": false,
     "start_time": "2022-01-06T08:39:34.790839",
     "status": "completed"
    },
    "tags": []
   },
   "outputs": [
    {
     "data": {
      "text/plain": [
       "array([[[ 0.        ,  0.        , -2.14528856, ...,  0.3575554 ,\n",
       "          1.29909613, -3.18498077],\n",
       "        [ 0.        ,  0.        , -2.14528856, ...,  0.26787153,\n",
       "          1.24713229, -3.18498077],\n",
       "        [ 0.        ,  0.        , -2.14528856, ...,  0.26787153,\n",
       "          1.24713229, -3.18498077],\n",
       "        ...,\n",
       "        [ 2.6878757 ,  0.        ,  0.        , ...,  0.53633309,\n",
       "          0.25981923, -1.34752343],\n",
       "        [ 2.6878757 ,  0.        ,  0.        , ...,  0.71511079,\n",
       "          0.25981923, -2.44966957],\n",
       "        [ 2.6878757 ,  0.        ,  0.        , ...,  0.62542693,\n",
       "          0.51963845, -2.08283463]],\n",
       "\n",
       "       [[ 0.        ,  0.        , -2.14528856, ...,  0.08968386,\n",
       "          1.29909613,  0.        ],\n",
       "        [ 0.        ,  0.        , -2.14528856, ...,  0.        ,\n",
       "          1.24713229,  0.        ],\n",
       "        [ 0.        ,  0.        , -2.14528856, ...,  0.        ,\n",
       "          1.24713229,  0.        ],\n",
       "        ...,\n",
       "        [ 2.6878757 ,  0.        ,  0.        , ...,  0.26846156,\n",
       "          0.25981923,  1.83745734],\n",
       "        [ 2.6878757 ,  0.        ,  0.        , ...,  0.44723926,\n",
       "          0.25981923,  0.7353112 ],\n",
       "        [ 2.6878757 ,  0.        ,  0.        , ...,  0.3575554 ,\n",
       "          0.51963845,  1.10214614]],\n",
       "\n",
       "       [[ 0.        ,  0.        , -2.14528856, ...,  0.08968386,\n",
       "          1.29909613,  0.        ],\n",
       "        [ 0.        ,  0.        , -2.14528856, ...,  0.        ,\n",
       "          1.24713229,  0.        ],\n",
       "        [ 0.        ,  0.        , -2.14528856, ...,  0.        ,\n",
       "          1.24713229,  0.        ],\n",
       "        ...,\n",
       "        [ 2.6878757 ,  0.        ,  0.        , ...,  0.26846156,\n",
       "          0.25981923,  1.83745734],\n",
       "        [ 2.6878757 ,  0.        ,  0.        , ...,  0.44723926,\n",
       "          0.25981923,  0.7353112 ],\n",
       "        [ 2.6878757 ,  0.        ,  0.        , ...,  0.3575554 ,\n",
       "          0.51963845,  1.10214614]],\n",
       "\n",
       "       ...,\n",
       "\n",
       "       [[ 0.        ,  0.        , -2.14528856, ...,  0.1787777 ,\n",
       "          1.09124075, -1.34752343],\n",
       "        [ 0.        ,  0.        , -2.14528856, ...,  0.08909384,\n",
       "          1.03927691, -1.34752343],\n",
       "        [ 0.        ,  0.        , -2.14528856, ...,  0.08909384,\n",
       "          1.03927691, -1.34752343],\n",
       "        ...,\n",
       "        [ 2.6878757 ,  0.        ,  0.        , ...,  0.3575554 ,\n",
       "          0.05196385,  0.48993391],\n",
       "        [ 2.6878757 ,  0.        ,  0.        , ...,  0.53633309,\n",
       "          0.05196385, -0.61221223],\n",
       "        [ 2.6878757 ,  0.        ,  0.        , ...,  0.44664923,\n",
       "          0.31178307, -0.24537729]],\n",
       "\n",
       "       [[ 0.        ,  0.        , -2.14528856, ...,  0.08968386,\n",
       "          1.29909613, -1.10214614],\n",
       "        [ 0.        ,  0.        , -2.14528856, ...,  0.        ,\n",
       "          1.24713229, -1.10214614],\n",
       "        [ 0.        ,  0.        , -2.14528856, ...,  0.        ,\n",
       "          1.24713229, -1.10214614],\n",
       "        ...,\n",
       "        [ 2.6878757 ,  0.        ,  0.        , ...,  0.26846156,\n",
       "          0.25981923,  0.7353112 ],\n",
       "        [ 2.6878757 ,  0.        ,  0.        , ...,  0.44723926,\n",
       "          0.25981923, -0.36683494],\n",
       "        [ 2.6878757 ,  0.        ,  0.        , ...,  0.3575554 ,\n",
       "          0.51963845,  0.        ]],\n",
       "\n",
       "       [[ 0.        ,  0.        , -2.14528856, ...,  0.08968386,\n",
       "          0.83142153, -1.10214614],\n",
       "        [ 0.        ,  0.        , -2.14528856, ...,  0.        ,\n",
       "          0.77945768, -1.10214614],\n",
       "        [ 0.        ,  0.        , -2.14528856, ...,  0.        ,\n",
       "          0.77945768, -1.10214614],\n",
       "        ...,\n",
       "        [ 2.6878757 ,  0.        ,  0.        , ...,  0.26846156,\n",
       "         -0.20785538,  0.7353112 ],\n",
       "        [ 2.6878757 ,  0.        ,  0.        , ...,  0.44723926,\n",
       "         -0.20785538, -0.36683494],\n",
       "        [ 2.6878757 ,  0.        ,  0.        , ...,  0.3575554 ,\n",
       "          0.05196385,  0.        ]]])"
      ]
     },
     "execution_count": 13,
     "metadata": {},
     "output_type": "execute_result"
    }
   ],
   "source": [
    "difference = train_features[None, :, :] - test_features[:, None, :]\n",
    "difference"
   ]
  },
  {
   "cell_type": "code",
   "execution_count": 14,
   "id": "83439af8",
   "metadata": {
    "execution": {
     "iopub.execute_input": "2022-01-06T08:39:40.978809Z",
     "iopub.status.busy": "2022-01-06T08:39:40.978121Z",
     "iopub.status.idle": "2022-01-06T08:39:40.981956Z",
     "shell.execute_reply": "2022-01-06T08:39:40.981443Z",
     "shell.execute_reply.started": "2022-01-06T08:23:22.492569Z"
    },
    "papermill": {
     "duration": 0.034765,
     "end_time": "2022-01-06T08:39:40.982109",
     "exception": false,
     "start_time": "2022-01-06T08:39:40.947344",
     "status": "completed"
    },
    "tags": []
   },
   "outputs": [
    {
     "data": {
      "text/plain": [
       "(6493, 10886, 8)"
      ]
     },
     "execution_count": 14,
     "metadata": {},
     "output_type": "execute_result"
    }
   ],
   "source": [
    "difference.shape"
   ]
  },
  {
   "cell_type": "code",
   "execution_count": 15,
   "id": "33d59d3a",
   "metadata": {
    "execution": {
     "iopub.execute_input": "2022-01-06T08:39:41.038523Z",
     "iopub.status.busy": "2022-01-06T08:39:41.037847Z",
     "iopub.status.idle": "2022-01-06T08:39:49.582706Z",
     "shell.execute_reply": "2022-01-06T08:39:49.582145Z",
     "shell.execute_reply.started": "2022-01-06T08:25:32.608204Z"
    },
    "papermill": {
     "duration": 8.575115,
     "end_time": "2022-01-06T08:39:49.582862",
     "exception": false,
     "start_time": "2022-01-06T08:39:41.007747",
     "status": "completed"
    },
    "tags": []
   },
   "outputs": [],
   "source": [
    "difference = difference ** 2\n",
    "difference = difference.mean(-1) # 마지막 행끼리 mean 구하기"
   ]
  },
  {
   "cell_type": "code",
   "execution_count": 16,
   "id": "83d65b79",
   "metadata": {
    "execution": {
     "iopub.execute_input": "2022-01-06T08:39:49.647866Z",
     "iopub.status.busy": "2022-01-06T08:39:49.646952Z",
     "iopub.status.idle": "2022-01-06T08:39:49.651058Z",
     "shell.execute_reply": "2022-01-06T08:39:49.650544Z",
     "shell.execute_reply.started": "2022-01-06T08:25:38.904099Z"
    },
    "papermill": {
     "duration": 0.040736,
     "end_time": "2022-01-06T08:39:49.651196",
     "exception": false,
     "start_time": "2022-01-06T08:39:49.610460",
     "status": "completed"
    },
    "tags": []
   },
   "outputs": [
    {
     "data": {
      "text/plain": [
       "(6493, 10886)"
      ]
     },
     "execution_count": 16,
     "metadata": {},
     "output_type": "execute_result"
    }
   ],
   "source": [
    "difference.shape"
   ]
  },
  {
   "cell_type": "code",
   "execution_count": 17,
   "id": "6e4f9354",
   "metadata": {
    "execution": {
     "iopub.execute_input": "2022-01-06T08:39:49.708212Z",
     "iopub.status.busy": "2022-01-06T08:39:49.706497Z",
     "iopub.status.idle": "2022-01-06T08:39:49.809263Z",
     "shell.execute_reply": "2022-01-06T08:39:49.808678Z",
     "shell.execute_reply.started": "2022-01-06T08:29:00.410895Z"
    },
    "papermill": {
     "duration": 0.132231,
     "end_time": "2022-01-06T08:39:49.809443",
     "exception": false,
     "start_time": "2022-01-06T08:39:49.677212",
     "status": "completed"
    },
    "tags": []
   },
   "outputs": [
    {
     "data": {
      "text/plain": [
       "(array([6480,  898,  898, ..., 5539, 5615, 1186]), (6493,))"
      ]
     },
     "execution_count": 17,
     "metadata": {},
     "output_type": "execute_result"
    }
   ],
   "source": [
    "prediction_index = difference.argmin(1)\n",
    "prediction_index, prediction_index.shape"
   ]
  },
  {
   "cell_type": "code",
   "execution_count": 18,
   "id": "3ce27469",
   "metadata": {
    "execution": {
     "iopub.execute_input": "2022-01-06T08:39:49.873706Z",
     "iopub.status.busy": "2022-01-06T08:39:49.871886Z",
     "iopub.status.idle": "2022-01-06T08:39:49.876444Z",
     "shell.execute_reply": "2022-01-06T08:39:49.876945Z",
     "shell.execute_reply.started": "2022-01-06T08:29:37.086627Z"
    },
    "papermill": {
     "duration": 0.040503,
     "end_time": "2022-01-06T08:39:49.877109",
     "exception": false,
     "start_time": "2022-01-06T08:39:49.836606",
     "status": "completed"
    },
    "tags": []
   },
   "outputs": [
    {
     "data": {
      "text/plain": [
       "(array([108,  63,  63, ...,  71,   5,   3]), (6493,))"
      ]
     },
     "execution_count": 18,
     "metadata": {},
     "output_type": "execute_result"
    }
   ],
   "source": [
    "prediction = train_df['count'].values[prediction_index]\n",
    "prediction, prediction.shape"
   ]
  },
  {
   "cell_type": "code",
   "execution_count": 19,
   "id": "0446d645",
   "metadata": {
    "execution": {
     "iopub.execute_input": "2022-01-06T08:39:49.937908Z",
     "iopub.status.busy": "2022-01-06T08:39:49.937238Z",
     "iopub.status.idle": "2022-01-06T08:39:49.940118Z",
     "shell.execute_reply": "2022-01-06T08:39:49.940656Z",
     "shell.execute_reply.started": "2022-01-06T08:36:39.115084Z"
    },
    "papermill": {
     "duration": 0.035589,
     "end_time": "2022-01-06T08:39:49.940839",
     "exception": false,
     "start_time": "2022-01-06T08:39:49.905250",
     "status": "completed"
    },
    "tags": []
   },
   "outputs": [],
   "source": [
    "new_submission = sample_submission.copy()"
   ]
  },
  {
   "cell_type": "code",
   "execution_count": 20,
   "id": "594370a3",
   "metadata": {
    "execution": {
     "iopub.execute_input": "2022-01-06T08:39:49.997954Z",
     "iopub.status.busy": "2022-01-06T08:39:49.997226Z",
     "iopub.status.idle": "2022-01-06T08:39:50.008765Z",
     "shell.execute_reply": "2022-01-06T08:39:50.009392Z",
     "shell.execute_reply.started": "2022-01-06T08:30:34.116153Z"
    },
    "papermill": {
     "duration": 0.042234,
     "end_time": "2022-01-06T08:39:50.009562",
     "exception": false,
     "start_time": "2022-01-06T08:39:49.967328",
     "status": "completed"
    },
    "tags": []
   },
   "outputs": [
    {
     "data": {
      "text/html": [
       "<div>\n",
       "<style scoped>\n",
       "    .dataframe tbody tr th:only-of-type {\n",
       "        vertical-align: middle;\n",
       "    }\n",
       "\n",
       "    .dataframe tbody tr th {\n",
       "        vertical-align: top;\n",
       "    }\n",
       "\n",
       "    .dataframe thead th {\n",
       "        text-align: right;\n",
       "    }\n",
       "</style>\n",
       "<table border=\"1\" class=\"dataframe\">\n",
       "  <thead>\n",
       "    <tr style=\"text-align: right;\">\n",
       "      <th></th>\n",
       "      <th>datetime</th>\n",
       "      <th>count</th>\n",
       "    </tr>\n",
       "  </thead>\n",
       "  <tbody>\n",
       "    <tr>\n",
       "      <th>0</th>\n",
       "      <td>2011-01-20 00:00:00</td>\n",
       "      <td>0</td>\n",
       "    </tr>\n",
       "    <tr>\n",
       "      <th>1</th>\n",
       "      <td>2011-01-20 01:00:00</td>\n",
       "      <td>0</td>\n",
       "    </tr>\n",
       "    <tr>\n",
       "      <th>2</th>\n",
       "      <td>2011-01-20 02:00:00</td>\n",
       "      <td>0</td>\n",
       "    </tr>\n",
       "    <tr>\n",
       "      <th>3</th>\n",
       "      <td>2011-01-20 03:00:00</td>\n",
       "      <td>0</td>\n",
       "    </tr>\n",
       "    <tr>\n",
       "      <th>4</th>\n",
       "      <td>2011-01-20 04:00:00</td>\n",
       "      <td>0</td>\n",
       "    </tr>\n",
       "    <tr>\n",
       "      <th>...</th>\n",
       "      <td>...</td>\n",
       "      <td>...</td>\n",
       "    </tr>\n",
       "    <tr>\n",
       "      <th>6488</th>\n",
       "      <td>2012-12-31 19:00:00</td>\n",
       "      <td>0</td>\n",
       "    </tr>\n",
       "    <tr>\n",
       "      <th>6489</th>\n",
       "      <td>2012-12-31 20:00:00</td>\n",
       "      <td>0</td>\n",
       "    </tr>\n",
       "    <tr>\n",
       "      <th>6490</th>\n",
       "      <td>2012-12-31 21:00:00</td>\n",
       "      <td>0</td>\n",
       "    </tr>\n",
       "    <tr>\n",
       "      <th>6491</th>\n",
       "      <td>2012-12-31 22:00:00</td>\n",
       "      <td>0</td>\n",
       "    </tr>\n",
       "    <tr>\n",
       "      <th>6492</th>\n",
       "      <td>2012-12-31 23:00:00</td>\n",
       "      <td>0</td>\n",
       "    </tr>\n",
       "  </tbody>\n",
       "</table>\n",
       "<p>6493 rows × 2 columns</p>\n",
       "</div>"
      ],
      "text/plain": [
       "                 datetime  count\n",
       "0     2011-01-20 00:00:00      0\n",
       "1     2011-01-20 01:00:00      0\n",
       "2     2011-01-20 02:00:00      0\n",
       "3     2011-01-20 03:00:00      0\n",
       "4     2011-01-20 04:00:00      0\n",
       "...                   ...    ...\n",
       "6488  2012-12-31 19:00:00      0\n",
       "6489  2012-12-31 20:00:00      0\n",
       "6490  2012-12-31 21:00:00      0\n",
       "6491  2012-12-31 22:00:00      0\n",
       "6492  2012-12-31 23:00:00      0\n",
       "\n",
       "[6493 rows x 2 columns]"
      ]
     },
     "execution_count": 20,
     "metadata": {},
     "output_type": "execute_result"
    }
   ],
   "source": [
    "new_submission"
   ]
  },
  {
   "cell_type": "code",
   "execution_count": 21,
   "id": "08093cbc",
   "metadata": {
    "execution": {
     "iopub.execute_input": "2022-01-06T08:39:50.070545Z",
     "iopub.status.busy": "2022-01-06T08:39:50.069807Z",
     "iopub.status.idle": "2022-01-06T08:39:50.073636Z",
     "shell.execute_reply": "2022-01-06T08:39:50.074292Z",
     "shell.execute_reply.started": "2022-01-06T08:37:06.852894Z"
    },
    "papermill": {
     "duration": 0.035483,
     "end_time": "2022-01-06T08:39:50.074517",
     "exception": false,
     "start_time": "2022-01-06T08:39:50.039034",
     "status": "completed"
    },
    "tags": []
   },
   "outputs": [],
   "source": [
    "new_submission['count'] = prediction"
   ]
  },
  {
   "cell_type": "code",
   "execution_count": 22,
   "id": "5d8f94ab",
   "metadata": {
    "execution": {
     "iopub.execute_input": "2022-01-06T08:39:50.140388Z",
     "iopub.status.busy": "2022-01-06T08:39:50.139735Z",
     "iopub.status.idle": "2022-01-06T08:39:50.143662Z",
     "shell.execute_reply": "2022-01-06T08:39:50.144252Z",
     "shell.execute_reply.started": "2022-01-06T08:37:10.861346Z"
    },
    "papermill": {
     "duration": 0.04188,
     "end_time": "2022-01-06T08:39:50.144456",
     "exception": false,
     "start_time": "2022-01-06T08:39:50.102576",
     "status": "completed"
    },
    "tags": []
   },
   "outputs": [
    {
     "data": {
      "text/html": [
       "<div>\n",
       "<style scoped>\n",
       "    .dataframe tbody tr th:only-of-type {\n",
       "        vertical-align: middle;\n",
       "    }\n",
       "\n",
       "    .dataframe tbody tr th {\n",
       "        vertical-align: top;\n",
       "    }\n",
       "\n",
       "    .dataframe thead th {\n",
       "        text-align: right;\n",
       "    }\n",
       "</style>\n",
       "<table border=\"1\" class=\"dataframe\">\n",
       "  <thead>\n",
       "    <tr style=\"text-align: right;\">\n",
       "      <th></th>\n",
       "      <th>datetime</th>\n",
       "      <th>count</th>\n",
       "    </tr>\n",
       "  </thead>\n",
       "  <tbody>\n",
       "    <tr>\n",
       "      <th>0</th>\n",
       "      <td>2011-01-20 00:00:00</td>\n",
       "      <td>108</td>\n",
       "    </tr>\n",
       "    <tr>\n",
       "      <th>1</th>\n",
       "      <td>2011-01-20 01:00:00</td>\n",
       "      <td>63</td>\n",
       "    </tr>\n",
       "    <tr>\n",
       "      <th>2</th>\n",
       "      <td>2011-01-20 02:00:00</td>\n",
       "      <td>63</td>\n",
       "    </tr>\n",
       "    <tr>\n",
       "      <th>3</th>\n",
       "      <td>2011-01-20 03:00:00</td>\n",
       "      <td>106</td>\n",
       "    </tr>\n",
       "    <tr>\n",
       "      <th>4</th>\n",
       "      <td>2011-01-20 04:00:00</td>\n",
       "      <td>106</td>\n",
       "    </tr>\n",
       "    <tr>\n",
       "      <th>...</th>\n",
       "      <td>...</td>\n",
       "      <td>...</td>\n",
       "    </tr>\n",
       "    <tr>\n",
       "      <th>6488</th>\n",
       "      <td>2012-12-31 19:00:00</td>\n",
       "      <td>98</td>\n",
       "    </tr>\n",
       "    <tr>\n",
       "      <th>6489</th>\n",
       "      <td>2012-12-31 20:00:00</td>\n",
       "      <td>98</td>\n",
       "    </tr>\n",
       "    <tr>\n",
       "      <th>6490</th>\n",
       "      <td>2012-12-31 21:00:00</td>\n",
       "      <td>71</td>\n",
       "    </tr>\n",
       "    <tr>\n",
       "      <th>6491</th>\n",
       "      <td>2012-12-31 22:00:00</td>\n",
       "      <td>5</td>\n",
       "    </tr>\n",
       "    <tr>\n",
       "      <th>6492</th>\n",
       "      <td>2012-12-31 23:00:00</td>\n",
       "      <td>3</td>\n",
       "    </tr>\n",
       "  </tbody>\n",
       "</table>\n",
       "<p>6493 rows × 2 columns</p>\n",
       "</div>"
      ],
      "text/plain": [
       "                 datetime  count\n",
       "0     2011-01-20 00:00:00    108\n",
       "1     2011-01-20 01:00:00     63\n",
       "2     2011-01-20 02:00:00     63\n",
       "3     2011-01-20 03:00:00    106\n",
       "4     2011-01-20 04:00:00    106\n",
       "...                   ...    ...\n",
       "6488  2012-12-31 19:00:00     98\n",
       "6489  2012-12-31 20:00:00     98\n",
       "6490  2012-12-31 21:00:00     71\n",
       "6491  2012-12-31 22:00:00      5\n",
       "6492  2012-12-31 23:00:00      3\n",
       "\n",
       "[6493 rows x 2 columns]"
      ]
     },
     "execution_count": 22,
     "metadata": {},
     "output_type": "execute_result"
    }
   ],
   "source": [
    "new_submission"
   ]
  },
  {
   "cell_type": "code",
   "execution_count": 23,
   "id": "fae5e27c",
   "metadata": {
    "execution": {
     "iopub.execute_input": "2022-01-06T08:39:50.203794Z",
     "iopub.status.busy": "2022-01-06T08:39:50.203135Z",
     "iopub.status.idle": "2022-01-06T08:39:50.226844Z",
     "shell.execute_reply": "2022-01-06T08:39:50.227395Z",
     "shell.execute_reply.started": "2022-01-06T08:37:16.225875Z"
    },
    "papermill": {
     "duration": 0.055357,
     "end_time": "2022-01-06T08:39:50.227622",
     "exception": false,
     "start_time": "2022-01-06T08:39:50.172265",
     "status": "completed"
    },
    "tags": []
   },
   "outputs": [],
   "source": [
    "new_submission.to_csv('submission.csv', index=False)"
   ]
  },
  {
   "cell_type": "code",
   "execution_count": null,
   "id": "6b6a3ec1",
   "metadata": {
    "papermill": {
     "duration": 0.027502,
     "end_time": "2022-01-06T08:39:50.283154",
     "exception": false,
     "start_time": "2022-01-06T08:39:50.255652",
     "status": "completed"
    },
    "tags": []
   },
   "outputs": [],
   "source": []
  }
 ],
 "metadata": {
  "kernelspec": {
   "display_name": "Python 3",
   "language": "python",
   "name": "python3"
  },
  "language_info": {
   "codemirror_mode": {
    "name": "ipython",
    "version": 3
   },
   "file_extension": ".py",
   "mimetype": "text/x-python",
   "name": "python",
   "nbconvert_exporter": "python",
   "pygments_lexer": "ipython3",
   "version": "3.7.12"
  },
  "papermill": {
   "default_parameters": {},
   "duration": 28.323594,
   "end_time": "2022-01-06T08:39:51.223561",
   "environment_variables": {},
   "exception": null,
   "input_path": "__notebook__.ipynb",
   "output_path": "__notebook__.ipynb",
   "parameters": {},
   "start_time": "2022-01-06T08:39:22.899967",
   "version": "2.3.3"
  }
 },
 "nbformat": 4,
 "nbformat_minor": 5
}
