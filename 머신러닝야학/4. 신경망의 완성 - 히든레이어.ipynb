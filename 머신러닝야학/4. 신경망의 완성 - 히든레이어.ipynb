{
 "cells": [
  {
   "cell_type": "code",
   "execution_count": 1,
   "metadata": {},
   "outputs": [],
   "source": [
    "# 라이브러리 사용 \n",
    "\n",
    "import tensorflow as tf\n",
    "import pandas as pd"
   ]
  },
  {
   "cell_type": "markdown",
   "metadata": {},
   "source": [
    "# 보스턴 집값 예측"
   ]
  },
  {
   "cell_type": "code",
   "execution_count": 2,
   "metadata": {},
   "outputs": [],
   "source": [
    "# 1.과거의 데이터를 준비합니다.\n",
    "파일경로 = 'https://raw.githubusercontent.com/blackdew/tensorflow1/master/csv/boston.csv'\n",
    "보스턴 = pd.read_csv(파일경로)"
   ]
  },
  {
   "cell_type": "code",
   "execution_count": 3,
   "metadata": {},
   "outputs": [
    {
     "name": "stdout",
     "output_type": "stream",
     "text": [
      "(506, 13) (506, 1)\n"
     ]
    }
   ],
   "source": [
    "# 종속변수, 독립변수\n",
    "독립 = 보스턴[['crim', 'zn', 'indus', 'chas', 'nox', \n",
    "            'rm', 'age', 'dis', 'rad', 'tax',\n",
    "            'ptratio', 'b', 'lstat']]\n",
    "종속 = 보스턴[['medv']]\n",
    "print(독립.shape, 종속.shape)"
   ]
  },
  {
   "cell_type": "code",
   "execution_count": 6,
   "metadata": {},
   "outputs": [],
   "source": [
    "# 2. 모델의 구조를 만듭니다\n",
    "X = tf.keras.layers.Input(shape=[13])\n",
    "H = tf.keras.layers.Dense(10, activation = 'swish')(X)\n",
    "Y = tf.keras.layers.Dense(1)(H)\n",
    "model = tf.keras.models.Model(X, Y)\n",
    "model.compile(loss='mse')"
   ]
  },
  {
   "cell_type": "code",
   "execution_count": 7,
   "metadata": {},
   "outputs": [
    {
     "name": "stdout",
     "output_type": "stream",
     "text": [
      "Model: \"model_1\"\n",
      "_________________________________________________________________\n",
      "Layer (type)                 Output Shape              Param #   \n",
      "=================================================================\n",
      "input_2 (InputLayer)         [(None, 13)]              0         \n",
      "_________________________________________________________________\n",
      "dense_1 (Dense)              (None, 10)                140       \n",
      "_________________________________________________________________\n",
      "dense_2 (Dense)              (None, 1)                 11        \n",
      "=================================================================\n",
      "Total params: 151\n",
      "Trainable params: 151\n",
      "Non-trainable params: 0\n",
      "_________________________________________________________________\n"
     ]
    }
   ],
   "source": [
    "# 모델 구조 확인\n",
    "model.summary()\n",
    "\n",
    "# Param은 컴퓨터가 사용하는 가중치의 개수 \n",
    "# 위 독립변수의 개수 + 1 * H레이어의 개수 \n",
    "# (13 + 1) * 10 = 140"
   ]
  },
  {
   "cell_type": "code",
   "execution_count": 10,
   "metadata": {},
   "outputs": [
    {
     "name": "stdout",
     "output_type": "stream",
     "text": [
      "Epoch 1/10\n",
      "16/16 [==============================] - 0s 1ms/step - loss: 16.2741\n",
      "Epoch 2/10\n",
      "16/16 [==============================] - 0s 2ms/step - loss: 16.2524\n",
      "Epoch 3/10\n",
      "16/16 [==============================] - 0s 1ms/step - loss: 15.9251\n",
      "Epoch 4/10\n",
      "16/16 [==============================] - 0s 1ms/step - loss: 15.9784\n",
      "Epoch 5/10\n",
      "16/16 [==============================] - 0s 1ms/step - loss: 17.7675\n",
      "Epoch 6/10\n",
      "16/16 [==============================] - 0s 1ms/step - loss: 15.8350\n",
      "Epoch 7/10\n",
      "16/16 [==============================] - 0s 1ms/step - loss: 16.4725\n",
      "Epoch 8/10\n",
      "16/16 [==============================] - 0s 1ms/step - loss: 16.1440\n",
      "Epoch 9/10\n",
      "16/16 [==============================] - 0s 1ms/step - loss: 16.9430\n",
      "Epoch 10/10\n",
      "16/16 [==============================] - 0s 1ms/step - loss: 16.7211\n"
     ]
    },
    {
     "data": {
      "text/plain": [
       "<tensorflow.python.keras.callbacks.History at 0x18ee08002e0>"
      ]
     },
     "execution_count": 10,
     "metadata": {},
     "output_type": "execute_result"
    }
   ],
   "source": [
    "# 3.데이터로 모델을 학습(FIT)합니다.\n",
    "model.fit(독립, 종속, epochs=1000, verbose = 0)\n",
    "model.fit(독립, 종속, epochs=10)"
   ]
  },
  {
   "cell_type": "code",
   "execution_count": 11,
   "metadata": {},
   "outputs": [
    {
     "name": "stdout",
     "output_type": "stream",
     "text": [
      "[[31.460258]\n",
      " [21.99565 ]\n",
      " [31.808153]\n",
      " [31.213251]\n",
      " [28.021427]]\n",
      "   medv\n",
      "0  24.0\n",
      "1  21.6\n",
      "2  34.7\n",
      "3  33.4\n",
      "4  36.2\n"
     ]
    }
   ],
   "source": [
    "# 4. 모델을 이용합니다\n",
    "print(model.predict(독립[:5]))\n",
    "print(종속[:5])"
   ]
  },
  {
   "cell_type": "code",
   "execution_count": 12,
   "metadata": {},
   "outputs": [
    {
     "name": "stdout",
     "output_type": "stream",
     "text": [
      "[array([[ 0.14460818,  0.05802052,  0.38214803, -0.17139032,  0.69903135,\n",
      "         0.24810292, -0.41697562,  0.37658632, -0.00988845, -0.0443978 ],\n",
      "       [-0.30035755, -0.04381096,  0.01847857,  0.15818135, -0.2202334 ,\n",
      "        -0.15896139, -0.07568281,  0.12657505,  0.10410906, -0.01756292],\n",
      "       [ 0.22102395,  0.05674283,  0.08339194, -0.0346525 , -0.2920418 ,\n",
      "         0.15185298,  0.1511046 , -0.07108708,  0.6604508 , -0.18034266],\n",
      "       [-0.05741307,  2.0065463 , -0.11330598,  0.2676519 , -0.32789427,\n",
      "         0.7246723 , -0.98393995,  0.10843002,  1.2614769 , -0.13017647],\n",
      "       [-0.02892066, -0.6584902 ,  0.3800306 ,  0.05843817,  0.99938285,\n",
      "         0.21654274, -0.423144  ,  0.1312028 , -0.8835439 ,  0.38488644],\n",
      "       [-1.6845931 ,  2.0508137 , -2.2384248 ,  2.5286663 ,  2.9702787 ,\n",
      "         2.4208295 , -0.28295624,  2.2327945 , -2.14723   ,  2.2795267 ],\n",
      "       [ 0.27575272,  0.05122704, -0.36059296,  0.24826883, -0.47517255,\n",
      "         0.09205312, -0.38055858, -0.51721543, -0.01680556, -0.04324473],\n",
      "       [ 0.8206287 , -1.2531754 ,  0.36251473, -0.7062547 ,  1.3978608 ,\n",
      "        -0.6173478 ,  0.38603342, -0.1146183 , -0.7436835 , -0.53364646],\n",
      "       [ 0.05067347,  0.06779946, -0.12686908,  0.02561944,  0.3556824 ,\n",
      "         0.29117572,  0.5165038 ,  0.56119144, -0.44646448,  0.52142566],\n",
      "       [ 0.07899541,  0.05546489,  0.26356873,  0.22653148,  0.27948168,\n",
      "        -0.04391524, -0.14054361,  0.13651004,  0.18832518,  0.22639905],\n",
      "       [ 0.30641934, -1.118468  ,  0.11815093, -0.33709204, -0.27345604,\n",
      "        -0.26200557, -0.31045958,  0.15642919,  0.29669333, -0.6939255 ],\n",
      "       [ 0.12522796,  0.0452529 ,  0.1527922 , -0.05403609, -0.3027161 ,\n",
      "         0.2747925 ,  0.09134032,  0.04858627, -0.24431367, -0.08471987],\n",
      "       [ 0.02274498, -2.9916744 ,  0.37637076, -0.08478796, -0.5386375 ,\n",
      "         0.448535  , -0.37921384, -0.3549747 , -0.8439563 , -0.16703172]],\n",
      "      dtype=float32), array([-1.2001662 ,  0.6348087 , -1.1809229 ,  1.070354  , -0.5929798 ,\n",
      "        1.1266893 ,  0.01531657,  1.1360512 ,  0.908378  ,  1.1122088 ],\n",
      "      dtype=float32), array([[-0.2211458 ],\n",
      "       [ 0.51171315],\n",
      "       [-0.35308778],\n",
      "       [ 0.12759879],\n",
      "       [-0.22698875],\n",
      "       [ 0.44103634],\n",
      "       [ 0.9685485 ],\n",
      "       [ 0.33210942],\n",
      "       [ 0.431119  ],\n",
      "       [ 0.13720411]], dtype=float32), array([1.148698], dtype=float32)]\n"
     ]
    }
   ],
   "source": [
    "# 모델의 수식 확인\n",
    "print(model.get_weights())"
   ]
  },
  {
   "cell_type": "markdown",
   "metadata": {},
   "source": [
    "# 아이리스 품종 분류"
   ]
  },
  {
   "cell_type": "code",
   "execution_count": 13,
   "metadata": {},
   "outputs": [],
   "source": [
    "# 1.과거의 데이터를 준비합니다.\n",
    "파일경로 = 'https://raw.githubusercontent.com/blackdew/tensorflow1/master/csv/iris.csv'\n",
    "아이리스 = pd.read_csv(파일경로)"
   ]
  },
  {
   "cell_type": "code",
   "execution_count": 14,
   "metadata": {},
   "outputs": [],
   "source": [
    "# 원핫인코딩\n",
    "아이리스 = pd.get_dummies(아이리스)"
   ]
  },
  {
   "cell_type": "code",
   "execution_count": 15,
   "metadata": {},
   "outputs": [
    {
     "name": "stdout",
     "output_type": "stream",
     "text": [
      "(150, 4) (150, 3)\n"
     ]
    }
   ],
   "source": [
    "# 종속변수, 독립변수\n",
    "독립 = 아이리스[['꽃잎길이', '꽃잎폭', '꽃받침길이', '꽃받침폭']]\n",
    "종속 = 아이리스[['품종_setosa', '품종_versicolor', '품종_virginica']]\n",
    "print(독립.shape, 종속.shape)"
   ]
  },
  {
   "cell_type": "code",
   "execution_count": 18,
   "metadata": {},
   "outputs": [],
   "source": [
    "# 2-1. 모델의 구조를 만듭니다(히든 레이어 없음)\n",
    "X = tf.keras.layers.Input(shape=[4])\n",
    "Y = tf.keras.layers.Dense(3, activation='softmax')(X)\n",
    "model = tf.keras.models.Model(X, Y)\n",
    "model.compile(loss='categorical_crossentropy',\n",
    "              metrics='accuracy')"
   ]
  },
  {
   "cell_type": "code",
   "execution_count": 19,
   "metadata": {},
   "outputs": [
    {
     "name": "stdout",
     "output_type": "stream",
     "text": [
      "Model: \"model_4\"\n",
      "_________________________________________________________________\n",
      "Layer (type)                 Output Shape              Param #   \n",
      "=================================================================\n",
      "input_5 (InputLayer)         [(None, 4)]               0         \n",
      "_________________________________________________________________\n",
      "dense_8 (Dense)              (None, 3)                 15        \n",
      "=================================================================\n",
      "Total params: 15\n",
      "Trainable params: 15\n",
      "Non-trainable params: 0\n",
      "_________________________________________________________________\n"
     ]
    }
   ],
   "source": [
    "# 모델 구조 확인\n",
    "model.summary()"
   ]
  },
  {
   "cell_type": "code",
   "execution_count": 20,
   "metadata": {},
   "outputs": [],
   "source": [
    "# 2-2. 모델의 구조를 만듭니다\n",
    "X = tf.keras.layers.Input(shape=[4])\n",
    "H = tf.keras.layers.Dense(8, activation = 'swish')(X)\n",
    "H = tf.keras.layers.Dense(8, activation = 'swish')(H)\n",
    "H = tf.keras.layers.Dense(8, activation = 'swish')(H)\n",
    "Y = tf.keras.layers.Dense(3, activation='softmax')(H)\n",
    "model = tf.keras.models.Model(X, Y)\n",
    "model.compile(loss='categorical_crossentropy',\n",
    "              metrics='accuracy')"
   ]
  },
  {
   "cell_type": "code",
   "execution_count": 21,
   "metadata": {},
   "outputs": [
    {
     "name": "stdout",
     "output_type": "stream",
     "text": [
      "Model: \"model_5\"\n",
      "_________________________________________________________________\n",
      "Layer (type)                 Output Shape              Param #   \n",
      "=================================================================\n",
      "input_6 (InputLayer)         [(None, 4)]               0         \n",
      "_________________________________________________________________\n",
      "dense_9 (Dense)              (None, 8)                 40        \n",
      "_________________________________________________________________\n",
      "dense_10 (Dense)             (None, 8)                 72        \n",
      "_________________________________________________________________\n",
      "dense_11 (Dense)             (None, 8)                 72        \n",
      "_________________________________________________________________\n",
      "dense_12 (Dense)             (None, 3)                 27        \n",
      "=================================================================\n",
      "Total params: 211\n",
      "Trainable params: 211\n",
      "Non-trainable params: 0\n",
      "_________________________________________________________________\n"
     ]
    }
   ],
   "source": [
    "# 모델 구조 확인\n",
    "model.summary()"
   ]
  },
  {
   "cell_type": "code",
   "execution_count": 22,
   "metadata": {},
   "outputs": [
    {
     "name": "stdout",
     "output_type": "stream",
     "text": [
      "Epoch 1/10\n",
      "5/5 [==============================] - 0s 2ms/step - loss: 0.0456 - accuracy: 0.9800\n",
      "Epoch 2/10\n",
      "5/5 [==============================] - 0s 2ms/step - loss: 0.0502 - accuracy: 0.9800\n",
      "Epoch 3/10\n",
      "5/5 [==============================] - 0s 2ms/step - loss: 0.0493 - accuracy: 0.9800\n",
      "Epoch 4/10\n",
      "5/5 [==============================] - 0s 2ms/step - loss: 0.0491 - accuracy: 0.9800\n",
      "Epoch 5/10\n",
      "5/5 [==============================] - 0s 2ms/step - loss: 0.0469 - accuracy: 0.9867\n",
      "Epoch 6/10\n",
      "5/5 [==============================] - 0s 2ms/step - loss: 0.0441 - accuracy: 0.9867\n",
      "Epoch 7/10\n",
      "5/5 [==============================] - 0s 2ms/step - loss: 0.0426 - accuracy: 0.9867\n",
      "Epoch 8/10\n",
      "5/5 [==============================] - 0s 2ms/step - loss: 0.0475 - accuracy: 0.9800\n",
      "Epoch 9/10\n",
      "5/5 [==============================] - 0s 2ms/step - loss: 0.0507 - accuracy: 0.9867\n",
      "Epoch 10/10\n",
      "5/5 [==============================] - 0s 1ms/step - loss: 0.0526 - accuracy: 0.9800\n"
     ]
    },
    {
     "data": {
      "text/plain": [
       "<tensorflow.python.keras.callbacks.History at 0x18ee1d96340>"
      ]
     },
     "execution_count": 22,
     "metadata": {},
     "output_type": "execute_result"
    }
   ],
   "source": [
    "# 3.데이터로 모델을 학습(FIT)합니다.\n",
    "model.fit(독립, 종속, epochs=1000, verbose = 0)\n",
    "model.fit(독립, 종속, epochs=10)"
   ]
  },
  {
   "cell_type": "code",
   "execution_count": 23,
   "metadata": {},
   "outputs": [
    {
     "name": "stdout",
     "output_type": "stream",
     "text": [
      "[[1.0000000e+00 1.0703683e-26 1.2814209e-17]\n",
      " [1.0000000e+00 5.3875661e-22 1.9527220e-14]\n",
      " [1.0000000e+00 8.1772178e-24 8.8508273e-16]\n",
      " [1.0000000e+00 1.0015207e-20 1.2213700e-13]\n",
      " [1.0000000e+00 4.6546653e-27 6.6393834e-18]]\n",
      "   품종_setosa  품종_versicolor  품종_virginica\n",
      "0          1              0             0\n",
      "1          1              0             0\n",
      "2          1              0             0\n",
      "3          1              0             0\n",
      "4          1              0             0\n"
     ]
    }
   ],
   "source": [
    "# 4. 모델을 이용합니다\n",
    "print(model.predict(독립[:5]))\n",
    "print(종속[:5])"
   ]
  },
  {
   "cell_type": "code",
   "execution_count": null,
   "metadata": {},
   "outputs": [],
   "source": []
  }
 ],
 "metadata": {
  "kernelspec": {
   "display_name": "Python 3",
   "language": "python",
   "name": "python3"
  },
  "language_info": {
   "codemirror_mode": {
    "name": "ipython",
    "version": 3
   },
   "file_extension": ".py",
   "mimetype": "text/x-python",
   "name": "python",
   "nbconvert_exporter": "python",
   "pygments_lexer": "ipython3",
   "version": "3.8.5"
  }
 },
 "nbformat": 4,
 "nbformat_minor": 4
}
