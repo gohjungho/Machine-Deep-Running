{
 "cells": [
  {
   "cell_type": "markdown",
   "metadata": {},
   "source": [
    "## HW1\n",
    "### 주어진 ./data/minidata안의 파일 안에서 64x64 사이즈의 고양이 한마리와 128X128 사이즈의 강아지 한마리, 그리고 각각의 파일 명을 내 뱉는 Dataloader를 만드시오\n",
    "### Data augmentation은 train일 경우 Horizon Flip, 랜덤90도 rotation, 랜덤 Crop을, train이 아닌 경우 하지 않도록 작성하시오"
   ]
  },
  {
   "cell_type": "code",
   "execution_count": 78,
   "metadata": {},
   "outputs": [
    {
     "data": {
      "text/plain": [
       "(tensor([[[0.6627, 0.6706, 0.6941,  ..., 0.8549, 0.8431, 0.8392],\n",
       "          [0.6667, 0.6745, 0.7020,  ..., 0.8549, 0.8431, 0.8353],\n",
       "          [0.6745, 0.6902, 0.7137,  ..., 0.8510, 0.8471, 0.8314],\n",
       "          ...,\n",
       "          [0.6980, 0.7647, 0.8000,  ..., 0.5294, 0.5176, 0.5216],\n",
       "          [0.6824, 0.7529, 0.8078,  ..., 0.5294, 0.5176, 0.5176],\n",
       "          [0.6941, 0.7686, 0.8157,  ..., 0.5294, 0.5216, 0.5176]],\n",
       " \n",
       "         [[0.6314, 0.6392, 0.6627,  ..., 0.8549, 0.8431, 0.8353],\n",
       "          [0.6588, 0.6667, 0.6863,  ..., 0.8510, 0.8353, 0.8314],\n",
       "          [0.6784, 0.6941, 0.7137,  ..., 0.8431, 0.8314, 0.8275],\n",
       "          ...,\n",
       "          [0.7176, 0.7843, 0.8196,  ..., 0.4627, 0.4510, 0.4549],\n",
       "          [0.7020, 0.7725, 0.8275,  ..., 0.4627, 0.4549, 0.4549],\n",
       "          [0.7137, 0.7882, 0.8353,  ..., 0.4627, 0.4549, 0.4549]],\n",
       " \n",
       "         [[0.6000, 0.6078, 0.6314,  ..., 0.8431, 0.8275, 0.8196],\n",
       "          [0.6392, 0.6471, 0.6667,  ..., 0.8353, 0.8196, 0.8118],\n",
       "          [0.6549, 0.6706, 0.6941,  ..., 0.8275, 0.8196, 0.8078],\n",
       "          ...,\n",
       "          [0.7412, 0.8078, 0.8431,  ..., 0.3529, 0.3412, 0.3490],\n",
       "          [0.7255, 0.7961, 0.8510,  ..., 0.3529, 0.3412, 0.3451],\n",
       "          [0.7373, 0.8118, 0.8588,  ..., 0.3490, 0.3373, 0.3412]]]),\n",
       " tensor([[[0.0627, 0.0549, 0.0549,  ..., 0.2353, 0.2353, 0.2353],\n",
       "          [0.0588, 0.0510, 0.0510,  ..., 0.2431, 0.2431, 0.2431],\n",
       "          [0.0588, 0.0549, 0.0510,  ..., 0.2471, 0.2471, 0.2471],\n",
       "          ...,\n",
       "          [0.4314, 0.4784, 0.5412,  ..., 0.4667, 0.5059, 0.4078],\n",
       "          [0.3843, 0.4157, 0.4824,  ..., 0.4235, 0.4431, 0.3647],\n",
       "          [0.3647, 0.3843, 0.4431,  ..., 0.3490, 0.3059, 0.3333]],\n",
       " \n",
       "         [[0.0510, 0.0510, 0.0510,  ..., 0.2235, 0.2235, 0.2235],\n",
       "          [0.0510, 0.0471, 0.0471,  ..., 0.2314, 0.2314, 0.2314],\n",
       "          [0.0510, 0.0510, 0.0471,  ..., 0.2392, 0.2392, 0.2392],\n",
       "          ...,\n",
       "          [0.4510, 0.5020, 0.5490,  ..., 0.4196, 0.4510, 0.3882],\n",
       "          [0.3922, 0.4353, 0.4941,  ..., 0.4118, 0.4118, 0.3529],\n",
       "          [0.3804, 0.4078, 0.4706,  ..., 0.3529, 0.3059, 0.3216]],\n",
       " \n",
       "         [[0.0314, 0.0314, 0.0314,  ..., 0.1529, 0.1490, 0.1490],\n",
       "          [0.0314, 0.0314, 0.0314,  ..., 0.1569, 0.1569, 0.1569],\n",
       "          [0.0314, 0.0314, 0.0314,  ..., 0.1608, 0.1608, 0.1608],\n",
       "          ...,\n",
       "          [0.1216, 0.2314, 0.3373,  ..., 0.3569, 0.4235, 0.3176],\n",
       "          [0.0863, 0.1412, 0.2039,  ..., 0.3294, 0.3373, 0.2196],\n",
       "          [0.0784, 0.0706, 0.0863,  ..., 0.2196, 0.1137, 0.1333]]]),\n",
       " '2047160_528296_3416.png',\n",
       " '2-38.jpg')"
      ]
     },
     "execution_count": 78,
     "metadata": {},
     "output_type": "execute_result"
    }
   ],
   "source": [
    "from torch.utils.data import Dataset\n",
    "from torchvision import datasets, transforms\n",
    "import torchvision\n",
    "\n",
    "from PIL import Image\n",
    "import os\n",
    "from glob import glob\n",
    "\n",
    "\n",
    "class HwDataset(Dataset):\n",
    "    def __init__(self, train_dir = '../data/minidata/train', train = False):\n",
    "        self.train_dir = train_dir\n",
    "        self.train_data = glob(os.path.join(self.train_dir, '*', '*'))\n",
    "        self.train = train\n",
    "        self.cat_transform = transforms.Compose([transforms.RandomResizedCrop((64,64)),\n",
    "                                                transforms.ToTensor()\n",
    "                                                ])\n",
    "        self.cat_transform2 = transforms.Compose([transforms.RandomResizedCrop((64, 64)),\n",
    "                                                transforms.RandomRotation((-90, 90)),\n",
    "                                                transforms.RandomHorizontalFlip(),\n",
    "                                                transforms.ToTensor(),\n",
    "                                                ])\n",
    "        self.dog_transform = transforms.Compose([transforms.RandomResizedCrop((128,128)),\n",
    "                                                transforms.ToTensor()\n",
    "                                                ])\n",
    "        self.dog_transform2 = transforms.Compose([transforms.RandomResizedCrop((128, 128)),\n",
    "                                                transforms.RandomRotation((-90, 90)),\n",
    "                                                transforms.RandomHorizontalFlip(),\n",
    "                                                transforms.ToTensor(),\n",
    "                                                ])\n",
    "        \n",
    "    def __len__(self):\n",
    "        return len(self.train_data)\n",
    "    \n",
    "    #  슬라이싱을 구현할 수 있도록 돕는 메소드\n",
    "    def __getitem__(self, index):\n",
    "        cat = Image.open(self.train_data[index]).convert('RGB')\n",
    "        tmp_dog = int(len(self.train_data)/2)\n",
    "        dog = Image.open(self.train_data[index+tmp_dog]).convert('RGB')\n",
    "        \n",
    "        if self.train:   \n",
    "            cat = self.cat_transform2(cat)\n",
    "            dog = self.dog_transform2(dog)\n",
    "            catname = self.train_data[index].split('\\\\')[-1] # Windows\n",
    "            dogname = self.train_data[index+tmp_dog].split('\\\\')[-1] # Windows\n",
    "        else: \n",
    "            cat = self.cat_transform(cat)\n",
    "            dog = self.dog_transform(dog)\n",
    "            catname = self.train_data[index].split('\\\\')[-1] # Windows\n",
    "            dogname = self.train_data[index+tmp_dog].split('\\\\')[-1] # Windows\n",
    "        return cat, dog, catname, dogname\n",
    "\n",
    "mydataset = HwDataset()\n",
    "# print('Dataset의 개수',len(mydataset))\n",
    "mydataset[1]"
   ]
  },
  {
   "cell_type": "code",
   "execution_count": 80,
   "metadata": {},
   "outputs": [
    {
     "data": {
      "image/png": "[encoded data removed]",
      "text/plain": [
       "<Figure size 432x288 with 1 Axes>"
      ]
     },
     "metadata": {
      "needs_background": "light"
     },
     "output_type": "display_data"
    },
    {
     "data": {
      "text/plain": [
       "<function matplotlib.pyplot.close(fig=None)>"
      ]
     },
     "execution_count": 80,
     "metadata": {},
     "output_type": "execute_result"
    }
   ],
   "source": [
    "import matplotlib.pyplot as plt \n",
    "from matplotlib.pyplot import imshow\n",
    "\n",
    "# 데이터를 확인해 봅시다 !\n",
    "cat, dog, catname, dogname = next(iter(torch.utils.data.DataLoader(mydataset, batch_size=1, shuffle=False)))\n",
    "im = plt.imshow(cat[0].permute(1,2,0))\n",
    "plt.title(catname)\n",
    "plt.show()\n",
    "plt.close"
   ]
  },
  {
   "cell_type": "code",
   "execution_count": 88,
   "metadata": {},
   "outputs": [],
   "source": [
    "train_dataset = HwDataset('../data/minidata/train',train=True)\n",
    "val_dataset = HwDataset('../data/minidata/val',train=False)"
   ]
  },
  {
   "cell_type": "markdown",
   "metadata": {},
   "source": [
    "## HW2\n",
    "### 2_NeuralNetwork.ipynb의 Let's Do It 코드를 작성해서 결과를 확인하시오"
   ]
  },
  {
   "cell_type": "code",
   "execution_count": 100,
   "metadata": {},
   "outputs": [],
   "source": [
    "# 필요한 train test코드를 다 작성하세요\n",
    "import torch \n",
    "import torch.nn as nn #\n",
    "import torch.nn.functional as F # 각종 activation 함수\n",
    "import torchvision # 이미지 관련 처리, Pretrained Model 관련된 Package 입니다. \n",
    "import torchvision.datasets as vision_dsets\n",
    "import torchvision.transforms as T # 이미지 처리 (Vison) 관련된 transformation이 정의 되어 있습니다.\n",
    "import torch.optim as optim # pytorch 에서 정의한 수 많은 optimization function 들이 들어 있습니다.\n",
    "from torch.utils import data\n",
    "\n",
    "import os\n",
    "os.environ['CUDA_VISIBLE_DEVICES'] = '0'\n",
    "os.environ['KMP_DUPLICATE_LIB_OK']='True'"
   ]
  },
  {
   "cell_type": "code",
   "execution_count": 101,
   "metadata": {},
   "outputs": [],
   "source": [
    "def MNIST_DATA(root='../data/minidata', ntrain=True, ntransforms=None, \n",
    "               ndownload =True, batch_size = 32, num_worker = 1):\n",
    "    \n",
    "    print (\"[+] Get the MNIST DATA\")\n",
    "    \n",
    "    mnist_train = vision_dsets.MNIST(root = root,  \n",
    "                                    train = True, \n",
    "                                    transform = T.ToTensor(), \n",
    "                                    download = True)  \n",
    "    \n",
    "    mnist_test = vision_dsets.MNIST(root = root,\n",
    "                                    train = False,  \n",
    "                                    transform = T.ToTensor(),\n",
    "                                    download = True)\n",
    "\n",
    "    trainDataLoader = data.DataLoader(dataset = mnist_train, \n",
    "                                      batch_size = batch_size,  \n",
    "                                      shuffle =True, \n",
    "                                      num_workers = 1) \n",
    "\n",
    "    testDataLoader = data.DataLoader(dataset = mnist_test, \n",
    "                                    batch_size = batch_size, \n",
    "                                    shuffle = False, \n",
    "                                    num_workers = 1) \n",
    "    print (\"[+] Finished loading data & Preprocessing\")\n",
    "    return mnist_train,mnist_test,trainDataLoader,testDataLoader"
   ]
  },
  {
   "cell_type": "code",
   "execution_count": 106,
   "metadata": {},
   "outputs": [
    {
     "name": "stdout",
     "output_type": "stream",
     "text": [
      "[+] Get the MNIST DATA\n",
      "Downloading http://yann.lecun.com/exdb/mnist/train-images-idx3-ubyte.gz\n",
      "Downloading http://yann.lecun.com/exdb/mnist/train-images-idx3-ubyte.gz to ../data/minidata\\MNIST\\raw\\train-images-idx3-ubyte.gz\n"
     ]
    },
    {
     "data": {
      "application/vnd.jupyter.widget-view+json": {
       "model_id": "1de6892f3da6445f8f29ad0f238a08d4",
       "version_major": 2,
       "version_minor": 0
      },
      "text/plain": [
       "  0%|          | 0/9912422 [00:00<?, ?it/s]"
      ]
     },
     "metadata": {},
     "output_type": "display_data"
    },
    {
     "name": "stdout",
     "output_type": "stream",
     "text": [
      "Extracting ../data/minidata\\MNIST\\raw\\train-images-idx3-ubyte.gz to ../data/minidata\\MNIST\\raw\n",
      "\n",
      "Downloading http://yann.lecun.com/exdb/mnist/train-labels-idx1-ubyte.gz\n",
      "Downloading http://yann.lecun.com/exdb/mnist/train-labels-idx1-ubyte.gz to ../data/minidata\\MNIST\\raw\\train-labels-idx1-ubyte.gz\n"
     ]
    },
    {
     "data": {
      "application/vnd.jupyter.widget-view+json": {
       "model_id": "a52e08b667db4dd5a8c7b37de5a4a4a3",
       "version_major": 2,
       "version_minor": 0
      },
      "text/plain": [
       "  0%|          | 0/28881 [00:00<?, ?it/s]"
      ]
     },
     "metadata": {},
     "output_type": "display_data"
    },
    {
     "name": "stdout",
     "output_type": "stream",
     "text": [
      "Extracting ../data/minidata\\MNIST\\raw\\train-labels-idx1-ubyte.gz to ../data/minidata\\MNIST\\raw\n",
      "\n",
      "Downloading http://yann.lecun.com/exdb/mnist/t10k-images-idx3-ubyte.gz\n",
      "Downloading http://yann.lecun.com/exdb/mnist/t10k-images-idx3-ubyte.gz to ../data/minidata\\MNIST\\raw\\t10k-images-idx3-ubyte.gz\n"
     ]
    },
    {
     "data": {
      "application/vnd.jupyter.widget-view+json": {
       "model_id": "4ca4376b47ca4617ac4eddede7272a9e",
       "version_major": 2,
       "version_minor": 0
      },
      "text/plain": [
       "  0%|          | 0/1648877 [00:00<?, ?it/s]"
      ]
     },
     "metadata": {},
     "output_type": "display_data"
    },
    {
     "name": "stdout",
     "output_type": "stream",
     "text": [
      "Extracting ../data/minidata\\MNIST\\raw\\t10k-images-idx3-ubyte.gz to ../data/minidata\\MNIST\\raw\n",
      "\n",
      "Downloading http://yann.lecun.com/exdb/mnist/t10k-labels-idx1-ubyte.gz\n",
      "Downloading http://yann.lecun.com/exdb/mnist/t10k-labels-idx1-ubyte.gz to ../data/minidata\\MNIST\\raw\\t10k-labels-idx1-ubyte.gz\n"
     ]
    },
    {
     "data": {
      "application/vnd.jupyter.widget-view+json": {
       "model_id": "a5b674c84df044ec8858baa78ed79f5f",
       "version_major": 2,
       "version_minor": 0
      },
      "text/plain": [
       "  0%|          | 0/4542 [00:00<?, ?it/s]"
      ]
     },
     "metadata": {},
     "output_type": "display_data"
    },
    {
     "name": "stdout",
     "output_type": "stream",
     "text": [
      "Extracting ../data/minidata\\MNIST\\raw\\t10k-labels-idx1-ubyte.gz to ../data/minidata\\MNIST\\raw\n",
      "\n",
      "[+] Finished loading data & Preprocessing\n"
     ]
    }
   ],
   "source": [
    "trainDset, testDset, trainDataLoader, testDataLoader = MNIST_DATA(batch_size = 32)  # Data Loader 를 불러 옵니다. "
   ]
  },
  {
   "cell_type": "code",
   "execution_count": 107,
   "metadata": {},
   "outputs": [],
   "source": [
    "class Trainer():\n",
    "    def __init__(self, trainloader, testloader, net, optimizer, criterion):\n",
    "        self.trainloader = trainloader\n",
    "        self.testloader = testloader\n",
    "        self.net = net\n",
    "        self.optimizer = optimizer\n",
    "        self.criterion = criterion\n",
    "        \n",
    "    def train(self, epoch = 1):\n",
    "        self.net.train()\n",
    "        for e in range(epoch):\n",
    "            running_loss = 0.0  \n",
    "            for i, data in enumerate(self.trainloader, 0): \n",
    "                # get the inputs\n",
    "                inputs, labels = data \n",
    "                inputs = inputs.to('cpu')\n",
    "                labels = labels.to('cpu')\n",
    "                # zero the parameter gradients\n",
    "                self.optimizer.zero_grad()\n",
    "\n",
    "                # forward + backward + optimize\n",
    "                outputs = self.net(inputs) \n",
    "                loss = self.criterion(outputs, labels) \n",
    "                loss.backward() \n",
    "                self.optimizer.step() \n",
    "\n",
    "                # print statistics\n",
    "                running_loss += loss.item()\n",
    "                if (i+1) % 500 == 0:    \n",
    "                    print('[%d, %5d] loss: %.3f' % (e + 1, i + 1, running_loss / 500))\n",
    "                    running_loss = 0.0\n",
    "\n",
    "        print('Finished Training')\n",
    "        \n",
    "    def test(self):\n",
    "        with torch.no_grad():\n",
    "            self.net.eval() \n",
    "            test_loss = 0\n",
    "            correct = 0\n",
    "            for inputs, labels in self.testloader:\n",
    "                inputs = inputs.to('cpu')\n",
    "                labels = labels.to('cpu')\n",
    "                output = self.net(inputs) \n",
    "                pred = output.max(1, keepdim=True)[1] \n",
    "                correct += pred.eq(labels.view_as(pred)).sum().item() \n",
    "\n",
    "                test_loss /= len(self.testloader.dataset)\n",
    "            print('\\nTest set:  Accuracy: {}/{} ({:.0f}%)\\n'.\n",
    "                    format(correct, len(self.testloader.dataset),\n",
    "                    100.* correct / len(self.testloader.dataset)))"
   ]
  },
  {
   "cell_type": "code",
   "execution_count": 108,
   "metadata": {},
   "outputs": [],
   "source": [
    "class MNIST_Net(nn.Module):\n",
    "    def __init__(self):\n",
    "        super(MNIST_Net, self).__init__()\n",
    "        self.conv0 = nn.Conv2d(in_channels = 1, \n",
    "                              out_channels = 8,\n",
    "                              kernel_size = 6,\n",
    "                              stride = 2) # Layer 1\n",
    "        self.conv0_bn = nn.GroupNorm(num_groups = 4, num_channels = 8)\n",
    "        self.pool0 = nn.MaxPool2d(2)\n",
    "        self.fc = nn.Linear(8*6*6, 10) # Layer 2\n",
    "\n",
    "    def forward(self, x):\n",
    "        x = self.conv0(x)\n",
    "        x = self.conv0_bn(x)\n",
    "        x = F.relu(x)\n",
    "        x = self.pool0(x)\n",
    "        x = x.view(x.shape[0], -1)\n",
    "        x = self.fc(x)\n",
    "        return x"
   ]
  },
  {
   "cell_type": "code",
   "execution_count": 109,
   "metadata": {
    "scrolled": false
   },
   "outputs": [],
   "source": [
    "mnist_net = MNIST_Net().to('cpu')  \n",
    "criterion = nn.CrossEntropyLoss()  \n",
    "optimizer = optim.Adam(mnist_net.parameters(), lr=0.001) "
   ]
  },
  {
   "cell_type": "code",
   "execution_count": 110,
   "metadata": {},
   "outputs": [],
   "source": [
    "trainer = Trainer(trainloader = trainDataLoader,\n",
    "                  testloader = testDataLoader,\n",
    "                  net = mnist_net,\n",
    "                  criterion = criterion,\n",
    "                  optimizer = optimizer)"
   ]
  },
  {
   "cell_type": "code",
   "execution_count": 111,
   "metadata": {
    "scrolled": true
   },
   "outputs": [
    {
     "name": "stdout",
     "output_type": "stream",
     "text": [
      "[1,   500] loss: 0.511\n",
      "[1,  1000] loss: 0.191\n",
      "[1,  1500] loss: 0.151\n",
      "[2,   500] loss: 0.113\n",
      "[2,  1000] loss: 0.096\n",
      "[2,  1500] loss: 0.091\n",
      "[3,   500] loss: 0.080\n",
      "[3,  1000] loss: 0.076\n",
      "[3,  1500] loss: 0.071\n",
      "[4,   500] loss: 0.070\n",
      "[4,  1000] loss: 0.067\n",
      "[4,  1500] loss: 0.071\n",
      "[5,   500] loss: 0.058\n",
      "[5,  1000] loss: 0.055\n",
      "[5,  1500] loss: 0.068\n",
      "Finished Training\n"
     ]
    }
   ],
   "source": [
    "trainer.train(epoch = 5)"
   ]
  },
  {
   "cell_type": "code",
   "execution_count": 112,
   "metadata": {},
   "outputs": [
    {
     "name": "stdout",
     "output_type": "stream",
     "text": [
      "\n",
      "Test set:  Accuracy: 9798/10000 (98%)\n",
      "\n"
     ]
    }
   ],
   "source": [
    "trainer.test()"
   ]
  },
  {
   "cell_type": "markdown",
   "metadata": {},
   "source": [
    "## (Optional) HW3\n",
    "### 3_VGG.ipynb를 참조해 VGG16을 구현하세요"
   ]
  },
  {
   "cell_type": "markdown",
   "metadata": {},
   "source": []
  }
 ],
 "metadata": {
  "interpreter": {
   "hash": "45d64d8f19a3a5b7048eaedc346d295eb6474eab36a46e2bd6124f8b3a721145"
  },
  "kernelspec": {
   "display_name": "Python 3",
   "language": "python",
   "name": "python3"
  },
  "language_info": {
   "codemirror_mode": {
    "name": "ipython",
    "version": 3
   },
   "file_extension": ".py",
   "mimetype": "text/x-python",
   "name": "python",
   "nbconvert_exporter": "python",
   "pygments_lexer": "ipython3",
   "version": "3.8.8"
  }
 },
 "nbformat": 4,
 "nbformat_minor": 2
}
