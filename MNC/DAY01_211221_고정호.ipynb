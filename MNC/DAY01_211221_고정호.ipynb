{
 "cells": [
  {
   "cell_type": "markdown",
   "metadata": {
    "colab_type": "text",
    "id": "9Qh7SBCLFy07"
   },
   "source": [
    "<p style=\"font-family: Arial; font-size:3.75em;color:black; font-style:bold\"><br>\n",
    "Logistic Regression (HW)\n",
    "</p><br>\n",
    "Question\n",
    "<br>\n",
    "Reference: https://github.com/leventbass/logistic_regression\n",
    "\n",
    "조교\n",
    "- 이정수 (KAIST AI 석사과정): bebeto@kaist.ac.kr\n",
    "- 이상현 (KAIST AI 박사과정): shlee6825@kaist.ac.kr\n"
   ]
  },
  {
   "cell_type": "code",
   "execution_count": 20,
   "metadata": {
    "colab": {},
    "colab_type": "code",
    "id": "q-X9lP0wwR5u"
   },
   "outputs": [],
   "source": [
    "import numpy as np\n",
    "import matplotlib.pyplot as plt\n",
    "from sklearn.datasets import make_classification\n",
    "import seaborn as sns"
   ]
  },
  {
   "cell_type": "markdown",
   "metadata": {},
   "source": [
    "\n",
    "## Logistic Regression를 클래스화 하기 "
   ]
  },
  {
   "cell_type": "code",
   "execution_count": 38,
   "metadata": {},
   "outputs": [],
   "source": [
    "class LogisticRegression():\n",
    "    def __init__(self, X, y, alpha=0.03, n_iter=1500):\n",
    "\n",
    "        self.alpha = alpha\n",
    "        self.n_iter = n_iter\n",
    "        self.n_samples = len(y)\n",
    "        self.n_features = np.size(X, 1)\n",
    "        self.X = np.hstack((np.ones((self.n_samples, 1)), (X - np.mean(X, 0)) / np.std(X, 0)))\n",
    "        # TODO-1: bias를 1로 채워진 벡터로 생성한 후 기존의 X와 column-wise로 합친 이후 normalize 진행\n",
    "        self.y = y[:, np.newaxis] # TODO-2: y축의 axis를 1 늘리기 \n",
    "        self.params = np.zeros((self.n_features + 1, 1))\n",
    "        self.cost_history = []\n",
    "\n",
    "    def sigmoid(self, x):\n",
    "        return 1 / (1 + np.exp(-x))\n",
    "        \n",
    "    def compute_cost(self, X, y, theta):\n",
    "        h = self.sigmoid(X @ theta)\n",
    "        epsilon = 1e-5\n",
    "        cost = (1/m)*(((-y).T @ np.log(h + epsilon))-((1-y.T @ np.log(1-h + epsilon)))) \n",
    "        # TODO-3: logistic regression의 cost function 선언\n",
    "        return cost\n",
    "        \n",
    "    def fit(self):\n",
    "        for i in range(self.n_iter):\n",
    "            self.params = self.params - (learning_rate/m) * (self.X.T @ (self.sigmoid(self.X @ self.params) - self.y))\n",
    "            # TODO-3: logistic regression의 gradient descent 진행\n",
    "            self.cost_history.append(self.compute_cost(self.X, self.y, self.params)[0][0])\n",
    "        return self\n",
    "        \n",
    "    def predict(self, X):\n",
    "        X = np.hstack((np.ones((X.shape[0], 1)), (X - np.mean(X, 0)) / np.std(X, 0)))\n",
    "        return np.round(self.sigmoid(X @ self.params))\n",
    "        # TODO-3: logistic regression의 prediction을 0.5를 기준으로 반올림\n",
    "        \n",
    "    def get_params(self):\n",
    "        return self.params"
   ]
  },
  {
   "cell_type": "code",
   "execution_count": 39,
   "metadata": {},
   "outputs": [],
   "source": [
    "from sklearn.datasets import load_boston\n",
    "from sklearn.datasets import make_classification\n",
    "from sklearn.model_selection import train_test_split\n",
    "import pandas as pd\n",
    "\n",
    "X, y = make_classification(n_samples=500, n_features=2, n_redundant=0, n_informative=1, n_clusters_per_class=1, random_state=14)\n",
    "X_train, X_test, y_train, y_test = train_test_split(X, y, test_size=0.3, random_state=42)\n",
    "\n",
    "m = len(y)\n",
    "n = np.size(X_train,1)\n",
    "params = np.zeros((n,1))\n",
    "\n",
    "iterations = 1500\n",
    "learning_rate = 0.03"
   ]
  },
  {
   "cell_type": "code",
   "execution_count": 40,
   "metadata": {},
   "outputs": [
    {
     "name": "stdout",
     "output_type": "stream",
     "text": [
      "train/test shape 확인\n",
      "(350, 2) (150, 2)\n",
      "(350,) (150,)\n"
     ]
    }
   ],
   "source": [
    "print('train/test shape 확인')\n",
    "print(X_train.shape, X_test.shape)\n",
    "print(y_train.shape, y_test.shape)"
   ]
  },
  {
   "cell_type": "code",
   "execution_count": 41,
   "metadata": {},
   "outputs": [],
   "source": [
    "regressor = LogisticRegression(X_train, y_train, alpha=learning_rate, n_iter=iterations).fit()"
   ]
  },
  {
   "cell_type": "code",
   "execution_count": 42,
   "metadata": {},
   "outputs": [
    {
     "data": {
      "image/png": "[encoded data removed]",
      "text/plain": [
       "<Figure size 432x288 with 1 Axes>"
      ]
     },
     "metadata": {},
     "output_type": "display_data"
    }
   ],
   "source": [
    "plt.figure()\n",
    "sns.set_style('white')\n",
    "plt.plot(range(len(regressor.cost_history)), regressor.cost_history, 'r')\n",
    "plt.title(\"Convergence Graph of Cost Function\")\n",
    "plt.xlabel(\"Number of Iterations\")\n",
    "plt.ylabel(\"Cost\")\n",
    "plt.show()"
   ]
  },
  {
   "cell_type": "code",
   "execution_count": 43,
   "metadata": {},
   "outputs": [
    {
     "name": "stdout",
     "output_type": "stream",
     "text": [
      "0.9733333333333334\n"
     ]
    }
   ],
   "source": [
    "y_pred = regressor.predict(X_test).squeeze(1)\n",
    "accuracy = float(sum(y_pred == y_test))/ float(len(y_test))\n",
    "print(accuracy)"
   ]
  },
  {
   "cell_type": "code",
   "execution_count": null,
   "metadata": {},
   "outputs": [],
   "source": []
  }
 ],
 "metadata": {
  "colab": {
   "collapsed_sections": [],
   "name": "Linear_Regression.ipynb",
   "provenance": [],
   "version": "0.3.2"
  },
  "kernelspec": {
   "display_name": "Python 3",
   "language": "python",
   "name": "python3"
  },
  "language_info": {
   "codemirror_mode": {
    "name": "ipython",
    "version": 3
   },
   "file_extension": ".py",
   "mimetype": "text/x-python",
   "name": "python",
   "nbconvert_exporter": "python",
   "pygments_lexer": "ipython3",
   "version": "3.8.8"
  }
 },
 "nbformat": 4,
 "nbformat_minor": 1
}
