{
 "cells": [
  {
   "cell_type": "markdown",
   "metadata": {
    "id": "3QneO5oFbgBZ"
   },
   "source": [
    "# Grid Search & Random Search\n",
    "- sci-kit learn 활용 랜덤포레스트 하이퍼파라미터 튜닝 실습"
   ]
  },
  {
   "cell_type": "code",
   "execution_count": 1,
   "metadata": {
    "executionInfo": {
     "elapsed": 380,
     "status": "ok",
     "timestamp": 1644295120391,
     "user": {
      "displayName": "Seungwoo Hong",
      "photoUrl": "https://lh3.googleusercontent.com/a/default-user=s64",
      "userId": "16012910246136705471"
     },
     "user_tz": -540
    },
    "id": "M8Ja0MsOSN8i"
   },
   "outputs": [],
   "source": [
    "from sklearn.datasets import load_boston\n",
    "from sklearn.model_selection import train_test_split\n",
    "from sklearn.metrics import mean_squared_error\n",
    "from sklearn.ensemble import RandomForestRegressor\n",
    "\n",
    "import warnings \n",
    "warnings.simplefilter('ignore')"
   ]
  },
  {
   "cell_type": "code",
   "execution_count": 2,
   "metadata": {
    "colab": {
     "base_uri": "https://localhost:8080/"
    },
    "executionInfo": {
     "elapsed": 6,
     "status": "ok",
     "timestamp": 1644295121897,
     "user": {
      "displayName": "Seungwoo Hong",
      "photoUrl": "https://lh3.googleusercontent.com/a/default-user=s64",
      "userId": "16012910246136705471"
     },
     "user_tz": -540
    },
    "id": "wiupKGVBT0Ru",
    "outputId": "efdb52be-2d07-47c1-8815-6b4baecff3b1"
   },
   "outputs": [
    {
     "name": "stdout",
     "output_type": "stream",
     "text": [
      "X_train shape: (430, 13), X_valid shape: (76, 13)\n",
      "y_train shape: (430,), y_valid shape: (76,)\n"
     ]
    }
   ],
   "source": [
    "# Boston 데이터셋 준비\n",
    "\n",
    "data = load_boston()\n",
    "X = data.data\n",
    "y = data.target\n",
    "\n",
    "X_train, X_valid, y_train, y_valid = train_test_split(X, y, test_size=0.15, random_state=42)\n",
    "\n",
    "print(f\"X_train shape: {X_train.shape}, X_valid shape: {X_valid.shape}\")\n",
    "print(f\"y_train shape: {y_train.shape}, y_valid shape: {y_valid.shape}\")"
   ]
  },
  {
   "cell_type": "code",
   "execution_count": 3,
   "metadata": {
    "colab": {
     "base_uri": "https://localhost:8080/"
    },
    "executionInfo": {
     "elapsed": 2545,
     "status": "ok",
     "timestamp": 1644295582253,
     "user": {
      "displayName": "Seungwoo Hong",
      "photoUrl": "https://lh3.googleusercontent.com/a/default-user=s64",
      "userId": "16012910246136705471"
     },
     "user_tz": -540
    },
    "id": "MGcJsvaPs8oy",
    "outputId": "062175a0-12cc-4a2b-f0ad-cd40fb192242"
   },
   "outputs": [
    {
     "name": "stdout",
     "output_type": "stream",
     "text": [
      "Fitting 5 folds for each of 1 candidates, totalling 5 fits\n",
      "best parameters :  {}\n",
      "best score :  -13.683935255813953\n"
     ]
    },
    {
     "data": {
      "text/plain": [
       "9.108397644736856"
      ]
     },
     "execution_count": 3,
     "metadata": {},
     "output_type": "execute_result"
    }
   ],
   "source": [
    "# 하이퍼파라미터 튜닝을 하지 않은 모델 성능 확인 (기본값)\n",
    "\n",
    "from sklearn.model_selection import GridSearchCV\n",
    "\n",
    "model = RandomForestRegressor(random_state=42, n_jobs=-1)\n",
    "\n",
    "params_grid = {}\n",
    "\n",
    "grid_model = GridSearchCV(model, param_grid=params_grid, scoring='neg_mean_squared_error', verbose=1, n_jobs=-1)\n",
    "grid_model.fit(X_train, y_train)\n",
    "\n",
    "print('best parameters : ', grid_model.best_params_)\n",
    "print('best score : ', grid_model.best_score_)\n",
    "\n",
    "em = grid_model.best_estimator_\n",
    "pred = em.predict(X_valid)\n",
    "\n",
    "mean_squared_error(y_valid, pred)"
   ]
  },
  {
   "cell_type": "code",
   "execution_count": 4,
   "metadata": {
    "colab": {
     "base_uri": "https://localhost:8080/"
    },
    "executionInfo": {
     "elapsed": 26808,
     "status": "ok",
     "timestamp": 1644295611947,
     "user": {
      "displayName": "Seungwoo Hong",
      "photoUrl": "https://lh3.googleusercontent.com/a/default-user=s64",
      "userId": "16012910246136705471"
     },
     "user_tz": -540
    },
    "id": "VxYtwUF1SkOS",
    "outputId": "cde85add-0371-4a13-c614-05db0644b618"
   },
   "outputs": [
    {
     "name": "stdout",
     "output_type": "stream",
     "text": [
      "Fitting 5 folds for each of 16 candidates, totalling 80 fits\n",
      "best parameters :  {'max_depth': 30, 'max_features': 'sqrt', 'min_samples_split': 2, 'n_estimators': 100}\n",
      "best score :  -12.288394558139522\n"
     ]
    },
    {
     "data": {
      "text/plain": [
       "4.60246228947369"
      ]
     },
     "execution_count": 4,
     "metadata": {},
     "output_type": "execute_result"
    }
   ],
   "source": [
    "# GridSearchCV를 이용한 하이퍼파라미터 튜닝 진행\n",
    "\n",
    "from sklearn.model_selection import GridSearchCV\n",
    "\n",
    "model = RandomForestRegressor(random_state=42, n_jobs=-1)\n",
    "\n",
    "params_grid = {\n",
    "    'max_depth': [20, 30],\n",
    "    'max_features': ['sqrt', 'auto'],\n",
    "    'min_samples_split': [2, 3],\n",
    "    'n_estimators': [100, 200],\n",
    "\n",
    "    ###### TODO #####\n",
    "    # 'hyper_parameter_0': [...],\n",
    "    # 'hyper_parameter_1': [...],\n",
    "    #################\n",
    "    \n",
    "}\n",
    "\n",
    "grid_model = GridSearchCV(model, param_grid=params_grid, scoring='neg_mean_squared_error', verbose=2, n_jobs=-1)\n",
    "grid_model.fit(X_train, y_train)\n",
    "\n",
    "print('best parameters : ', grid_model.best_params_)\n",
    "print('best score : ', grid_model.best_score_)\n",
    "\n",
    "em = grid_model.best_estimator_\n",
    "pred = em.predict(X_valid)\n",
    "\n",
    "mean_squared_error(y_valid, pred)"
   ]
  },
  {
   "cell_type": "code",
   "execution_count": 5,
   "metadata": {
    "colab": {
     "base_uri": "https://localhost:8080/"
    },
    "executionInfo": {
     "elapsed": 13701,
     "status": "ok",
     "timestamp": 1644295641964,
     "user": {
      "displayName": "Seungwoo Hong",
      "photoUrl": "https://lh3.googleusercontent.com/a/default-user=s64",
      "userId": "16012910246136705471"
     },
     "user_tz": -540
    },
    "id": "DMKORwPXTsvB",
    "outputId": "b5f18d9b-7e4a-4648-bee2-5b1495ba419a"
   },
   "outputs": [
    {
     "name": "stdout",
     "output_type": "stream",
     "text": [
      "Fitting 5 folds for each of 10 candidates, totalling 50 fits\n",
      "best parameters :  {'max_depth': 23, 'max_features': 'sqrt', 'min_samples_split': 3, 'n_estimators': 153}\n",
      "best score :  -12.976966884432539\n",
      "4.1196958110748225\n"
     ]
    }
   ],
   "source": [
    "# RandomSearchCV를 이용한 하이퍼파라미터 튜닝 진행\n",
    "\n",
    "from sklearn.model_selection import RandomizedSearchCV\n",
    "from scipy.stats import uniform, truncnorm, randint\n",
    "\n",
    "model = RandomForestRegressor(random_state=42)\n",
    "\n",
    "params_dist = {\n",
    "    'max_depth': randint(0, 32),\n",
    "    'max_features': ['sqrt', 'auto'],\n",
    "    'min_samples_split': randint(0, 20),\n",
    "    'n_estimators': randint(50, 300),\n",
    "\n",
    "    ###### TODO #####\n",
    "    # 'hyper_parameter_0': random_range,\n",
    "    # 'hyper_parameter_1': random_range,\n",
    "    #################\n",
    "}\n",
    "\n",
    "rm_model = RandomizedSearchCV(model, params_dist, verbose=1, random_state=42, scoring='neg_mean_squared_error', n_jobs=-1, n_iter=10)\n",
    "rm_model.fit(X_train, y_train)\n",
    "\n",
    "print('best parameters : ', rm_model.best_params_)\n",
    "print('best score : ', rm_model.best_score_)\n",
    "\n",
    "em = rm_model.best_estimator_\n",
    "em = rm_model.best_estimator_\n",
    "pred = em.predict(X_valid)\n",
    "print(mean_squared_error(y_valid, pred))"
   ]
  },
  {
   "cell_type": "code",
   "execution_count": null,
   "metadata": {
    "id": "h9WZftZNgQpS"
   },
   "outputs": [],
   "source": []
  }
 ],
 "metadata": {
  "colab": {
   "authorship_tag": "ABX9TyMk5Ry3YGGyhODxskyHhtPz",
   "collapsed_sections": [],
   "name": "\b1. Grid Search & Random Search.ipynb",
   "provenance": []
  },
  "kernelspec": {
   "display_name": "Python 3",
   "language": "python",
   "name": "python3"
  },
  "language_info": {
   "codemirror_mode": {
    "name": "ipython",
    "version": 3
   },
   "file_extension": ".py",
   "mimetype": "text/x-python",
   "name": "python",
   "nbconvert_exporter": "python",
   "pygments_lexer": "ipython3",
   "version": "3.8.8"
  }
 },
 "nbformat": 4,
 "nbformat_minor": 4
}
