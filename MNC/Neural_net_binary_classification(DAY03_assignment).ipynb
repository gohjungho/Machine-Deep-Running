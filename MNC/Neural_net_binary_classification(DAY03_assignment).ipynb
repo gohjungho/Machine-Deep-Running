{
 "cells": [
  {
   "cell_type": "markdown",
   "metadata": {
    "id": "IvNKy8wnIWnC"
   },
   "source": [
    "## Binary Classification - Titanic: Machine Learning from Disaster\n",
    "\n",
    "https://www.kaggle.com/c/titanic\n",
    "\n",
    "- 유명한 자료인 타이타닉 데이터 셋으로 생존과 사망에 대한 분류 문제를 풀어보도록 하겠습니다."
   ]
  },
  {
   "cell_type": "markdown",
   "metadata": {
    "id": "e_E7j0LNIWnL"
   },
   "source": [
    "![대체 텍스트](figures/binary.png)"
   ]
  },
  {
   "cell_type": "code",
   "execution_count": 1,
   "metadata": {
    "ExecuteTime": {
     "end_time": "2018-10-28T07:34:29.202719Z",
     "start_time": "2018-10-28T07:34:29.192102Z"
    },
    "id": "agnpS74dIWnN",
    "scrolled": true
   },
   "outputs": [
    {
     "data": {
      "text/plain": [
       "<torch._C.Generator at 0x2881ba52690>"
      ]
     },
     "execution_count": 1,
     "metadata": {},
     "output_type": "execute_result"
    }
   ],
   "source": [
    "import torch\n",
    "import torch.nn as nn\n",
    "import torch.optim as optim\n",
    "import numpy as np\n",
    "import random\n",
    "import pandas as pd\n",
    "import matplotlib.pyplot as plt \n",
    "\n",
    "random.seed(1215) # seed값 고정 \n",
    "torch.manual_seed(1215)"
   ]
  },
  {
   "cell_type": "code",
   "execution_count": 2,
   "metadata": {
    "ExecuteTime": {
     "end_time": "2018-10-28T06:53:30.685976Z",
     "start_time": "2018-10-28T06:53:25.255348Z"
    },
    "id": "u7zoHxKMIWnR"
   },
   "outputs": [],
   "source": [
    "from torch.utils.data import Dataset\n",
    "from torch.utils.data import DataLoader\n",
    "\n",
    "from sklearn.preprocessing import StandardScaler\n",
    "from sklearn.metrics import accuracy_score\n",
    "from sklearn.model_selection import train_test_split"
   ]
  },
  {
   "cell_type": "markdown",
   "metadata": {
    "id": "_PNAJqoBIWnS"
   },
   "source": [
    "# Load Data"
   ]
  },
  {
   "cell_type": "code",
   "execution_count": 3,
   "metadata": {
    "ExecuteTime": {
     "end_time": "2018-10-28T07:48:19.716052Z",
     "start_time": "2018-10-28T07:48:19.695224Z"
    },
    "id": "cKCmYPNKIWnT"
   },
   "outputs": [],
   "source": [
    "import pandas as pd\n",
    "\n",
    "train_data = pd.read_csv(\"./data/titanic/train.csv\")\n",
    "test_data = pd.read_csv(\"./data/titanic/test.csv\")"
   ]
  },
  {
   "cell_type": "code",
   "execution_count": 4,
   "metadata": {
    "ExecuteTime": {
     "end_time": "2018-10-28T07:48:20.005530Z",
     "start_time": "2018-10-28T07:48:19.985459Z"
    },
    "id": "mrFf4fedIWnU",
    "scrolled": true
   },
   "outputs": [
    {
     "data": {
      "text/html": [
       "<div>\n",
       "<style scoped>\n",
       "    .dataframe tbody tr th:only-of-type {\n",
       "        vertical-align: middle;\n",
       "    }\n",
       "\n",
       "    .dataframe tbody tr th {\n",
       "        vertical-align: top;\n",
       "    }\n",
       "\n",
       "    .dataframe thead th {\n",
       "        text-align: right;\n",
       "    }\n",
       "</style>\n",
       "<table border=\"1\" class=\"dataframe\">\n",
       "  <thead>\n",
       "    <tr style=\"text-align: right;\">\n",
       "      <th></th>\n",
       "      <th>PassengerId</th>\n",
       "      <th>Survived</th>\n",
       "      <th>Pclass</th>\n",
       "      <th>Name</th>\n",
       "      <th>Sex</th>\n",
       "      <th>Age</th>\n",
       "      <th>SibSp</th>\n",
       "      <th>Parch</th>\n",
       "      <th>Ticket</th>\n",
       "      <th>Fare</th>\n",
       "      <th>Cabin</th>\n",
       "      <th>Embarked</th>\n",
       "    </tr>\n",
       "  </thead>\n",
       "  <tbody>\n",
       "    <tr>\n",
       "      <th>0</th>\n",
       "      <td>1</td>\n",
       "      <td>0</td>\n",
       "      <td>3</td>\n",
       "      <td>Braund, Mr. Owen Harris</td>\n",
       "      <td>male</td>\n",
       "      <td>22.0</td>\n",
       "      <td>1</td>\n",
       "      <td>0</td>\n",
       "      <td>A/5 21171</td>\n",
       "      <td>7.2500</td>\n",
       "      <td>NaN</td>\n",
       "      <td>S</td>\n",
       "    </tr>\n",
       "    <tr>\n",
       "      <th>1</th>\n",
       "      <td>2</td>\n",
       "      <td>1</td>\n",
       "      <td>1</td>\n",
       "      <td>Cumings, Mrs. John Bradley (Florence Briggs Th...</td>\n",
       "      <td>female</td>\n",
       "      <td>38.0</td>\n",
       "      <td>1</td>\n",
       "      <td>0</td>\n",
       "      <td>PC 17599</td>\n",
       "      <td>71.2833</td>\n",
       "      <td>C85</td>\n",
       "      <td>C</td>\n",
       "    </tr>\n",
       "    <tr>\n",
       "      <th>2</th>\n",
       "      <td>3</td>\n",
       "      <td>1</td>\n",
       "      <td>3</td>\n",
       "      <td>Heikkinen, Miss. Laina</td>\n",
       "      <td>female</td>\n",
       "      <td>26.0</td>\n",
       "      <td>0</td>\n",
       "      <td>0</td>\n",
       "      <td>STON/O2. 3101282</td>\n",
       "      <td>7.9250</td>\n",
       "      <td>NaN</td>\n",
       "      <td>S</td>\n",
       "    </tr>\n",
       "    <tr>\n",
       "      <th>3</th>\n",
       "      <td>4</td>\n",
       "      <td>1</td>\n",
       "      <td>1</td>\n",
       "      <td>Futrelle, Mrs. Jacques Heath (Lily May Peel)</td>\n",
       "      <td>female</td>\n",
       "      <td>35.0</td>\n",
       "      <td>1</td>\n",
       "      <td>0</td>\n",
       "      <td>113803</td>\n",
       "      <td>53.1000</td>\n",
       "      <td>C123</td>\n",
       "      <td>S</td>\n",
       "    </tr>\n",
       "    <tr>\n",
       "      <th>4</th>\n",
       "      <td>5</td>\n",
       "      <td>0</td>\n",
       "      <td>3</td>\n",
       "      <td>Allen, Mr. William Henry</td>\n",
       "      <td>male</td>\n",
       "      <td>35.0</td>\n",
       "      <td>0</td>\n",
       "      <td>0</td>\n",
       "      <td>373450</td>\n",
       "      <td>8.0500</td>\n",
       "      <td>NaN</td>\n",
       "      <td>S</td>\n",
       "    </tr>\n",
       "    <tr>\n",
       "      <th>5</th>\n",
       "      <td>6</td>\n",
       "      <td>0</td>\n",
       "      <td>3</td>\n",
       "      <td>Moran, Mr. James</td>\n",
       "      <td>male</td>\n",
       "      <td>NaN</td>\n",
       "      <td>0</td>\n",
       "      <td>0</td>\n",
       "      <td>330877</td>\n",
       "      <td>8.4583</td>\n",
       "      <td>NaN</td>\n",
       "      <td>Q</td>\n",
       "    </tr>\n",
       "    <tr>\n",
       "      <th>6</th>\n",
       "      <td>7</td>\n",
       "      <td>0</td>\n",
       "      <td>1</td>\n",
       "      <td>McCarthy, Mr. Timothy J</td>\n",
       "      <td>male</td>\n",
       "      <td>54.0</td>\n",
       "      <td>0</td>\n",
       "      <td>0</td>\n",
       "      <td>17463</td>\n",
       "      <td>51.8625</td>\n",
       "      <td>E46</td>\n",
       "      <td>S</td>\n",
       "    </tr>\n",
       "    <tr>\n",
       "      <th>7</th>\n",
       "      <td>8</td>\n",
       "      <td>0</td>\n",
       "      <td>3</td>\n",
       "      <td>Palsson, Master. Gosta Leonard</td>\n",
       "      <td>male</td>\n",
       "      <td>2.0</td>\n",
       "      <td>3</td>\n",
       "      <td>1</td>\n",
       "      <td>349909</td>\n",
       "      <td>21.0750</td>\n",
       "      <td>NaN</td>\n",
       "      <td>S</td>\n",
       "    </tr>\n",
       "    <tr>\n",
       "      <th>8</th>\n",
       "      <td>9</td>\n",
       "      <td>1</td>\n",
       "      <td>3</td>\n",
       "      <td>Johnson, Mrs. Oscar W (Elisabeth Vilhelmina Berg)</td>\n",
       "      <td>female</td>\n",
       "      <td>27.0</td>\n",
       "      <td>0</td>\n",
       "      <td>2</td>\n",
       "      <td>347742</td>\n",
       "      <td>11.1333</td>\n",
       "      <td>NaN</td>\n",
       "      <td>S</td>\n",
       "    </tr>\n",
       "    <tr>\n",
       "      <th>9</th>\n",
       "      <td>10</td>\n",
       "      <td>1</td>\n",
       "      <td>2</td>\n",
       "      <td>Nasser, Mrs. Nicholas (Adele Achem)</td>\n",
       "      <td>female</td>\n",
       "      <td>14.0</td>\n",
       "      <td>1</td>\n",
       "      <td>0</td>\n",
       "      <td>237736</td>\n",
       "      <td>30.0708</td>\n",
       "      <td>NaN</td>\n",
       "      <td>C</td>\n",
       "    </tr>\n",
       "  </tbody>\n",
       "</table>\n",
       "</div>"
      ],
      "text/plain": [
       "   PassengerId  Survived  Pclass  \\\n",
       "0            1         0       3   \n",
       "1            2         1       1   \n",
       "2            3         1       3   \n",
       "3            4         1       1   \n",
       "4            5         0       3   \n",
       "5            6         0       3   \n",
       "6            7         0       1   \n",
       "7            8         0       3   \n",
       "8            9         1       3   \n",
       "9           10         1       2   \n",
       "\n",
       "                                                Name     Sex   Age  SibSp  \\\n",
       "0                            Braund, Mr. Owen Harris    male  22.0      1   \n",
       "1  Cumings, Mrs. John Bradley (Florence Briggs Th...  female  38.0      1   \n",
       "2                             Heikkinen, Miss. Laina  female  26.0      0   \n",
       "3       Futrelle, Mrs. Jacques Heath (Lily May Peel)  female  35.0      1   \n",
       "4                           Allen, Mr. William Henry    male  35.0      0   \n",
       "5                                   Moran, Mr. James    male   NaN      0   \n",
       "6                            McCarthy, Mr. Timothy J    male  54.0      0   \n",
       "7                     Palsson, Master. Gosta Leonard    male   2.0      3   \n",
       "8  Johnson, Mrs. Oscar W (Elisabeth Vilhelmina Berg)  female  27.0      0   \n",
       "9                Nasser, Mrs. Nicholas (Adele Achem)  female  14.0      1   \n",
       "\n",
       "   Parch            Ticket     Fare Cabin Embarked  \n",
       "0      0         A/5 21171   7.2500   NaN        S  \n",
       "1      0          PC 17599  71.2833   C85        C  \n",
       "2      0  STON/O2. 3101282   7.9250   NaN        S  \n",
       "3      0            113803  53.1000  C123        S  \n",
       "4      0            373450   8.0500   NaN        S  \n",
       "5      0            330877   8.4583   NaN        Q  \n",
       "6      0             17463  51.8625   E46        S  \n",
       "7      1            349909  21.0750   NaN        S  \n",
       "8      2            347742  11.1333   NaN        S  \n",
       "9      0            237736  30.0708   NaN        C  "
      ]
     },
     "execution_count": 4,
     "metadata": {},
     "output_type": "execute_result"
    }
   ],
   "source": [
    "train_data.head(10)"
   ]
  },
  {
   "cell_type": "code",
   "execution_count": 5,
   "metadata": {
    "id": "r_q5oZyMIWnW",
    "scrolled": true
   },
   "outputs": [
    {
     "data": {
      "text/html": [
       "<div>\n",
       "<style scoped>\n",
       "    .dataframe tbody tr th:only-of-type {\n",
       "        vertical-align: middle;\n",
       "    }\n",
       "\n",
       "    .dataframe tbody tr th {\n",
       "        vertical-align: top;\n",
       "    }\n",
       "\n",
       "    .dataframe thead th {\n",
       "        text-align: right;\n",
       "    }\n",
       "</style>\n",
       "<table border=\"1\" class=\"dataframe\">\n",
       "  <thead>\n",
       "    <tr style=\"text-align: right;\">\n",
       "      <th></th>\n",
       "      <th>PassengerId</th>\n",
       "      <th>Pclass</th>\n",
       "      <th>Name</th>\n",
       "      <th>Sex</th>\n",
       "      <th>Age</th>\n",
       "      <th>SibSp</th>\n",
       "      <th>Parch</th>\n",
       "      <th>Ticket</th>\n",
       "      <th>Fare</th>\n",
       "      <th>Cabin</th>\n",
       "      <th>Embarked</th>\n",
       "    </tr>\n",
       "  </thead>\n",
       "  <tbody>\n",
       "    <tr>\n",
       "      <th>0</th>\n",
       "      <td>892</td>\n",
       "      <td>3</td>\n",
       "      <td>Kelly, Mr. James</td>\n",
       "      <td>male</td>\n",
       "      <td>34.5</td>\n",
       "      <td>0</td>\n",
       "      <td>0</td>\n",
       "      <td>330911</td>\n",
       "      <td>7.8292</td>\n",
       "      <td>NaN</td>\n",
       "      <td>Q</td>\n",
       "    </tr>\n",
       "    <tr>\n",
       "      <th>1</th>\n",
       "      <td>893</td>\n",
       "      <td>3</td>\n",
       "      <td>Wilkes, Mrs. James (Ellen Needs)</td>\n",
       "      <td>female</td>\n",
       "      <td>47.0</td>\n",
       "      <td>1</td>\n",
       "      <td>0</td>\n",
       "      <td>363272</td>\n",
       "      <td>7.0000</td>\n",
       "      <td>NaN</td>\n",
       "      <td>S</td>\n",
       "    </tr>\n",
       "    <tr>\n",
       "      <th>2</th>\n",
       "      <td>894</td>\n",
       "      <td>2</td>\n",
       "      <td>Myles, Mr. Thomas Francis</td>\n",
       "      <td>male</td>\n",
       "      <td>62.0</td>\n",
       "      <td>0</td>\n",
       "      <td>0</td>\n",
       "      <td>240276</td>\n",
       "      <td>9.6875</td>\n",
       "      <td>NaN</td>\n",
       "      <td>Q</td>\n",
       "    </tr>\n",
       "    <tr>\n",
       "      <th>3</th>\n",
       "      <td>895</td>\n",
       "      <td>3</td>\n",
       "      <td>Wirz, Mr. Albert</td>\n",
       "      <td>male</td>\n",
       "      <td>27.0</td>\n",
       "      <td>0</td>\n",
       "      <td>0</td>\n",
       "      <td>315154</td>\n",
       "      <td>8.6625</td>\n",
       "      <td>NaN</td>\n",
       "      <td>S</td>\n",
       "    </tr>\n",
       "    <tr>\n",
       "      <th>4</th>\n",
       "      <td>896</td>\n",
       "      <td>3</td>\n",
       "      <td>Hirvonen, Mrs. Alexander (Helga E Lindqvist)</td>\n",
       "      <td>female</td>\n",
       "      <td>22.0</td>\n",
       "      <td>1</td>\n",
       "      <td>1</td>\n",
       "      <td>3101298</td>\n",
       "      <td>12.2875</td>\n",
       "      <td>NaN</td>\n",
       "      <td>S</td>\n",
       "    </tr>\n",
       "    <tr>\n",
       "      <th>5</th>\n",
       "      <td>897</td>\n",
       "      <td>3</td>\n",
       "      <td>Svensson, Mr. Johan Cervin</td>\n",
       "      <td>male</td>\n",
       "      <td>14.0</td>\n",
       "      <td>0</td>\n",
       "      <td>0</td>\n",
       "      <td>7538</td>\n",
       "      <td>9.2250</td>\n",
       "      <td>NaN</td>\n",
       "      <td>S</td>\n",
       "    </tr>\n",
       "    <tr>\n",
       "      <th>6</th>\n",
       "      <td>898</td>\n",
       "      <td>3</td>\n",
       "      <td>Connolly, Miss. Kate</td>\n",
       "      <td>female</td>\n",
       "      <td>30.0</td>\n",
       "      <td>0</td>\n",
       "      <td>0</td>\n",
       "      <td>330972</td>\n",
       "      <td>7.6292</td>\n",
       "      <td>NaN</td>\n",
       "      <td>Q</td>\n",
       "    </tr>\n",
       "    <tr>\n",
       "      <th>7</th>\n",
       "      <td>899</td>\n",
       "      <td>2</td>\n",
       "      <td>Caldwell, Mr. Albert Francis</td>\n",
       "      <td>male</td>\n",
       "      <td>26.0</td>\n",
       "      <td>1</td>\n",
       "      <td>1</td>\n",
       "      <td>248738</td>\n",
       "      <td>29.0000</td>\n",
       "      <td>NaN</td>\n",
       "      <td>S</td>\n",
       "    </tr>\n",
       "    <tr>\n",
       "      <th>8</th>\n",
       "      <td>900</td>\n",
       "      <td>3</td>\n",
       "      <td>Abrahim, Mrs. Joseph (Sophie Halaut Easu)</td>\n",
       "      <td>female</td>\n",
       "      <td>18.0</td>\n",
       "      <td>0</td>\n",
       "      <td>0</td>\n",
       "      <td>2657</td>\n",
       "      <td>7.2292</td>\n",
       "      <td>NaN</td>\n",
       "      <td>C</td>\n",
       "    </tr>\n",
       "    <tr>\n",
       "      <th>9</th>\n",
       "      <td>901</td>\n",
       "      <td>3</td>\n",
       "      <td>Davies, Mr. John Samuel</td>\n",
       "      <td>male</td>\n",
       "      <td>21.0</td>\n",
       "      <td>2</td>\n",
       "      <td>0</td>\n",
       "      <td>A/4 48871</td>\n",
       "      <td>24.1500</td>\n",
       "      <td>NaN</td>\n",
       "      <td>S</td>\n",
       "    </tr>\n",
       "  </tbody>\n",
       "</table>\n",
       "</div>"
      ],
      "text/plain": [
       "   PassengerId  Pclass                                          Name     Sex  \\\n",
       "0          892       3                              Kelly, Mr. James    male   \n",
       "1          893       3              Wilkes, Mrs. James (Ellen Needs)  female   \n",
       "2          894       2                     Myles, Mr. Thomas Francis    male   \n",
       "3          895       3                              Wirz, Mr. Albert    male   \n",
       "4          896       3  Hirvonen, Mrs. Alexander (Helga E Lindqvist)  female   \n",
       "5          897       3                    Svensson, Mr. Johan Cervin    male   \n",
       "6          898       3                          Connolly, Miss. Kate  female   \n",
       "7          899       2                  Caldwell, Mr. Albert Francis    male   \n",
       "8          900       3     Abrahim, Mrs. Joseph (Sophie Halaut Easu)  female   \n",
       "9          901       3                       Davies, Mr. John Samuel    male   \n",
       "\n",
       "    Age  SibSp  Parch     Ticket     Fare Cabin Embarked  \n",
       "0  34.5      0      0     330911   7.8292   NaN        Q  \n",
       "1  47.0      1      0     363272   7.0000   NaN        S  \n",
       "2  62.0      0      0     240276   9.6875   NaN        Q  \n",
       "3  27.0      0      0     315154   8.6625   NaN        S  \n",
       "4  22.0      1      1    3101298  12.2875   NaN        S  \n",
       "5  14.0      0      0       7538   9.2250   NaN        S  \n",
       "6  30.0      0      0     330972   7.6292   NaN        Q  \n",
       "7  26.0      1      1     248738  29.0000   NaN        S  \n",
       "8  18.0      0      0       2657   7.2292   NaN        C  \n",
       "9  21.0      2      0  A/4 48871  24.1500   NaN        S  "
      ]
     },
     "execution_count": 5,
     "metadata": {},
     "output_type": "execute_result"
    }
   ],
   "source": [
    "test_data.head(10)"
   ]
  },
  {
   "cell_type": "markdown",
   "metadata": {
    "id": "yYihLkpKIWnX"
   },
   "source": [
    "# Preprocessing\n",
    "- Pclass, Sex, Age, SibSp, Parch, Fare 총 6개의 feature를 사용하겠습니다.\n",
    "- 별도의 feature engineering은 하지 않겠습니다.\n",
    "- kaggle data이기 때문에 test_data의 \"Survived\" 열은 없습니다.\n",
    "- 우리가 예측한 결과를 csv 파일로 제출하는 형태입니다."
   ]
  },
  {
   "cell_type": "markdown",
   "metadata": {
    "id": "d6Vc2-lyIWnY"
   },
   "source": [
    "### categorical variable 처리"
   ]
  },
  {
   "cell_type": "code",
   "execution_count": 6,
   "metadata": {
    "id": "7an9HpYhIWnZ"
   },
   "outputs": [
    {
     "data": {
      "text/plain": [
       "0      male\n",
       "1    female\n",
       "2    female\n",
       "3    female\n",
       "4      male\n",
       "5      male\n",
       "6      male\n",
       "7      male\n",
       "8    female\n",
       "9    female\n",
       "Name: Sex, dtype: object"
      ]
     },
     "execution_count": 6,
     "metadata": {},
     "output_type": "execute_result"
    }
   ],
   "source": [
    "train_data[\"Sex\"].head(10)"
   ]
  },
  {
   "cell_type": "code",
   "execution_count": 7,
   "metadata": {
    "id": "CNufUnrUIWnZ"
   },
   "outputs": [],
   "source": [
    "# 포맷 변경\n",
    "train_data[\"Sex\"] = train_data[\"Sex\"].map({\"male\": 1, \"female\": 0})\n",
    "test_data[\"Sex\"] = test_data[\"Sex\"].map({\"male\": 1, \"female\": 0})"
   ]
  },
  {
   "cell_type": "code",
   "execution_count": 8,
   "metadata": {
    "id": "JPv-O0k1IWna"
   },
   "outputs": [
    {
     "data": {
      "text/plain": [
       "0    1\n",
       "1    0\n",
       "2    0\n",
       "3    0\n",
       "4    1\n",
       "5    1\n",
       "6    1\n",
       "7    1\n",
       "8    0\n",
       "9    0\n",
       "Name: Sex, dtype: int64"
      ]
     },
     "execution_count": 8,
     "metadata": {},
     "output_type": "execute_result"
    }
   ],
   "source": [
    "train_data[\"Sex\"].head(10)"
   ]
  },
  {
   "cell_type": "markdown",
   "metadata": {
    "id": "_5vPQ8CTIWnb"
   },
   "source": [
    "### 데이터셋 구성"
   ]
  },
  {
   "cell_type": "code",
   "execution_count": 9,
   "metadata": {
    "ExecuteTime": {
     "end_time": "2018-10-28T07:48:21.754377Z",
     "start_time": "2018-10-28T07:48:21.739961Z"
    },
    "id": "TQZS1Y07IWnb"
   },
   "outputs": [],
   "source": [
    "data_X = train_data[[\"Pclass\", \"Sex\", \"Age\", \"SibSp\", \"Parch\", \"Fare\"]]\n",
    "data_y = train_data[\"Survived\"] # 예측할 결과물"
   ]
  },
  {
   "cell_type": "code",
   "execution_count": 10,
   "metadata": {
    "id": "1T29NlfMIWnc"
   },
   "outputs": [
    {
     "data": {
      "text/plain": [
       "891"
      ]
     },
     "execution_count": 10,
     "metadata": {},
     "output_type": "execute_result"
    }
   ],
   "source": [
    "len(data_X)"
   ]
  },
  {
   "cell_type": "code",
   "execution_count": 11,
   "metadata": {
    "id": "ZQM82nxWIWnc"
   },
   "outputs": [],
   "source": [
    "train_X, test_X, train_y, test_y = train_test_split(data_X, data_y, test_size=0.3)"
   ]
  },
  {
   "cell_type": "code",
   "execution_count": 12,
   "metadata": {
    "id": "1t6EyPQKIWnd"
   },
   "outputs": [
    {
     "data": {
      "text/plain": [
       "(623, 623.6999999999999)"
      ]
     },
     "execution_count": 12,
     "metadata": {},
     "output_type": "execute_result"
    }
   ],
   "source": [
    "# 제대로 나뉘어졌는지 확인 해보자 \n",
    "len(train_X), len(data_X)*.7"
   ]
  },
  {
   "cell_type": "code",
   "execution_count": 13,
   "metadata": {
    "id": "__8HHWx_IWnd"
   },
   "outputs": [
    {
     "data": {
      "text/plain": [
       "(268, 267.3)"
      ]
     },
     "execution_count": 13,
     "metadata": {},
     "output_type": "execute_result"
    }
   ],
   "source": [
    "len(test_X), len(data_X)*.3"
   ]
  },
  {
   "cell_type": "markdown",
   "metadata": {
    "id": "xMbyXoCwIWnd"
   },
   "source": [
    "### null 값 확인 (결측값)"
   ]
  },
  {
   "cell_type": "code",
   "execution_count": 14,
   "metadata": {
    "ExecuteTime": {
     "end_time": "2018-10-28T07:48:22.020698Z",
     "start_time": "2018-10-28T07:48:22.006813Z"
    },
    "id": "wkDUFZzeIWne"
   },
   "outputs": [
    {
     "name": "stdout",
     "output_type": "stream",
     "text": [
      "Number of null in train_X: Pclass      0\n",
      "Sex         0\n",
      "Age       124\n",
      "SibSp       0\n",
      "Parch       0\n",
      "Fare        0\n",
      "dtype: int64\n",
      "\n",
      " Number of null in test_X: Pclass     0\n",
      "Sex        0\n",
      "Age       53\n",
      "SibSp      0\n",
      "Parch      0\n",
      "Fare       0\n",
      "dtype: int64\n",
      "\n",
      " Number of nullin train y: 0\n",
      "\n",
      " Number of nullin train y: 0\n",
      "\n",
      " 28.964609218436873\n"
     ]
    }
   ],
   "source": [
    "# null값 찾기 \n",
    "print('Number of null in train_X:', train_X.isnull().sum())\n",
    "print(\"\\n\",'Number of null in test_X:', test_X.isnull().sum())\n",
    "print(\"\\n\",'Number of nullin train y:', train_y.isnull().sum())\n",
    "print(\"\\n\",'Number of nullin train y:', test_y.isnull().sum())\n",
    "\n",
    "print(\"\\n\",np.mean(train_X[\"Age\"]))"
   ]
  },
  {
   "cell_type": "markdown",
   "metadata": {
    "id": "TiPNWr54IWnf"
   },
   "source": [
    "- 간단하게 age와 fare의 na 값은 평균으로 대체"
   ]
  },
  {
   "cell_type": "code",
   "execution_count": 15,
   "metadata": {
    "ExecuteTime": {
     "end_time": "2018-10-28T07:48:23.836865Z",
     "start_time": "2018-10-28T07:48:23.823969Z"
    },
    "id": "tHBvPlH-IWnf",
    "scrolled": false
   },
   "outputs": [],
   "source": [
    "pd.options.mode.chained_assignment = None\n",
    "\n",
    "train_X.loc[:,\"Age\"] = train_X.loc[:,\"Age\"].replace(np.nan,30)\n",
    "test_X.loc[:,\"Age\"] = test_X.loc[:,\"Age\"].replace(np.nan,30)"
   ]
  },
  {
   "cell_type": "code",
   "execution_count": 16,
   "metadata": {
    "ExecuteTime": {
     "end_time": "2018-10-28T07:48:24.418285Z",
     "start_time": "2018-10-28T07:48:24.406782Z"
    },
    "id": "SVlMFybQIWng"
   },
   "outputs": [
    {
     "name": "stdout",
     "output_type": "stream",
     "text": [
      "Number of null: Pclass    0\n",
      "Sex       0\n",
      "Age       0\n",
      "SibSp     0\n",
      "Parch     0\n",
      "Fare      0\n",
      "dtype: int64\n",
      "\n",
      " Number of null: Pclass    0\n",
      "Sex       0\n",
      "Age       0\n",
      "SibSp     0\n",
      "Parch     0\n",
      "Fare      0\n",
      "dtype: int64\n"
     ]
    }
   ],
   "source": [
    "print('Number of null:', train_X.isnull().sum())\n",
    "print(\"\\n\",'Number of null:', test_X.isnull().sum())"
   ]
  },
  {
   "cell_type": "code",
   "execution_count": 17,
   "metadata": {
    "ExecuteTime": {
     "end_time": "2018-10-28T07:48:26.498112Z",
     "start_time": "2018-10-28T07:48:26.492656Z"
    },
    "id": "gY--K_7NIWng"
   },
   "outputs": [
    {
     "data": {
      "text/plain": [
       "454    0\n",
       "469    1\n",
       "431    1\n",
       "272    1\n",
       "549    1\n",
       "Name: Survived, dtype: int64"
      ]
     },
     "execution_count": 17,
     "metadata": {},
     "output_type": "execute_result"
    }
   ],
   "source": [
    "train_y.head()"
   ]
  },
  {
   "cell_type": "code",
   "execution_count": 18,
   "metadata": {
    "ExecuteTime": {
     "end_time": "2018-10-28T07:48:27.198668Z",
     "start_time": "2018-10-28T07:48:27.192577Z"
    },
    "id": "V4hSGO6JIWnh"
   },
   "outputs": [
    {
     "data": {
      "text/plain": [
       "(623, 268, 623, 268)"
      ]
     },
     "execution_count": 18,
     "metadata": {},
     "output_type": "execute_result"
    }
   ],
   "source": [
    "len(train_X), len(test_X), len(train_y), len(test_y)"
   ]
  },
  {
   "cell_type": "markdown",
   "metadata": {
    "id": "9YyBT2WpIWnh"
   },
   "source": [
    "# Train model (PyTorch)\n",
    "1. dataset, dataloader 정의\n",
    "2. 모델 정의\n",
    "3. 모델 학습 \n",
    "4. 모델 평가"
   ]
  },
  {
   "cell_type": "markdown",
   "metadata": {
    "id": "ogKQzIswIWnh"
   },
   "source": [
    "- train, test dataset을 출력할 수 있는 class를 만듭니다."
   ]
  },
  {
   "cell_type": "code",
   "execution_count": 19,
   "metadata": {
    "ExecuteTime": {
     "end_time": "2018-10-28T07:48:30.938583Z",
     "start_time": "2018-10-28T07:48:30.931143Z"
    },
    "id": "JU8tNqFHIWni"
   },
   "outputs": [],
   "source": [
    "class simple_dataset(Dataset):\n",
    "    \n",
    "    def __init__(self, X_data, y_data):\n",
    "        self.X_data = X_data\n",
    "        self.y_data = y_data\n",
    "        \n",
    "    def __getitem__(self, index): # model이 많아질수록 이 부분이 길어진다. \n",
    "        return self.X_data[index], self.y_data[index]\n",
    "        \n",
    "    def __len__ (self):\n",
    "        return len(self.X_data)"
   ]
  },
  {
   "cell_type": "code",
   "execution_count": 20,
   "metadata": {
    "id": "Ho6fpa9NIWni"
   },
   "outputs": [
    {
     "data": {
      "text/plain": [
       "pandas.core.frame.DataFrame"
      ]
     },
     "execution_count": 20,
     "metadata": {},
     "output_type": "execute_result"
    }
   ],
   "source": [
    "type(test_X)"
   ]
  },
  {
   "cell_type": "code",
   "execution_count": 21,
   "metadata": {
    "ExecuteTime": {
     "end_time": "2018-10-28T07:48:32.125111Z",
     "start_time": "2018-10-28T07:48:32.117187Z"
    },
    "id": "ute7KeA2IWnj"
   },
   "outputs": [],
   "source": [
    "# 정규화합니다\n",
    "scaler = StandardScaler()\n",
    "train_data = simple_dataset(torch.FloatTensor(scaler.fit_transform(train_X.to_numpy())), torch.LongTensor(train_y.to_numpy()))\n",
    "test_data = simple_dataset(torch.FloatTensor(scaler.fit_transform(test_X.to_numpy())), torch.LongTensor(test_y.to_numpy()))"
   ]
  },
  {
   "cell_type": "code",
   "execution_count": 22,
   "metadata": {
    "id": "twkMiNWqIWnj"
   },
   "outputs": [
    {
     "data": {
      "text/plain": [
       "(623, 268)"
      ]
     },
     "execution_count": 22,
     "metadata": {},
     "output_type": "execute_result"
    }
   ],
   "source": [
    "len(train_data), len(test_data)"
   ]
  },
  {
   "cell_type": "code",
   "execution_count": 23,
   "metadata": {
    "ExecuteTime": {
     "end_time": "2018-10-28T07:48:51.854783Z",
     "start_time": "2018-10-28T07:48:51.849359Z"
    },
    "id": "zczxV0qXIWnj"
   },
   "outputs": [
    {
     "data": {
      "text/plain": [
       "(tensor([ 0.8338,  0.7467,  0.0638, -0.4681, -0.4775, -0.4886]), tensor(0))"
      ]
     },
     "execution_count": 23,
     "metadata": {},
     "output_type": "execute_result"
    }
   ],
   "source": [
    "train_data.__getitem__(0)"
   ]
  },
  {
   "cell_type": "code",
   "execution_count": 24,
   "metadata": {
    "id": "-A9dtRJHIWnk"
   },
   "outputs": [
    {
     "data": {
      "text/plain": [
       "(tensor([ 0.8338,  0.7467,  0.0638, -0.4681, -0.4775, -0.4886]), tensor(0))"
      ]
     },
     "execution_count": 24,
     "metadata": {},
     "output_type": "execute_result"
    }
   ],
   "source": [
    "train_data[0]"
   ]
  },
  {
   "cell_type": "code",
   "execution_count": null,
   "metadata": {
    "id": "XEkoBp4MIWnk"
   },
   "outputs": [],
   "source": []
  },
  {
   "cell_type": "markdown",
   "metadata": {
    "id": "DhyjBTm0IWnl"
   },
   "source": [
    "## Modeling"
   ]
  },
  {
   "cell_type": "code",
   "execution_count": 25,
   "metadata": {
    "ExecuteTime": {
     "end_time": "2018-10-28T08:24:00.698892Z",
     "start_time": "2018-10-28T08:24:00.685532Z"
    },
    "id": "ulVgLBTmIWnl"
   },
   "outputs": [],
   "source": [
    "class Binary_Classification(nn.Module):\n",
    "    \n",
    "    def __init__(self, num_features, num_classes):\n",
    "        super(Binary_Classification, self).__init__()\n",
    "        \n",
    "        self.Layer_1 = nn.Linear(num_features, 30)\n",
    "        \n",
    "        ################################################\n",
    "        #       TODO                                   #\n",
    "        ################################################\n",
    "        \n",
    "        self.Layer_2 = nn.Linear(30, 15)\n",
    "        self.Layer_3 = nn.Linear(15, 8)\n",
    "        self.Layer_out = nn.Linear(8, num_classes)\n",
    "        \n",
    "        # 가능한 답은 하나가 아니므로 성능이 더 좋을법한 모델을 다양하게 시도해보자\n",
    "        \n",
    "        self.relu = nn.ReLU()\n",
    "        \n",
    "    def forward(self, inputs):\n",
    "        \n",
    "        x = self.Layer_1(inputs)\n",
    "        x = self.relu(x)\n",
    "        \n",
    "        ################################################\n",
    "        #       TODO                                   #\n",
    "        ################################################\n",
    "        x = self.Layer_2(x)\n",
    "        x = self.relu(x)\n",
    "        \n",
    "        x = self.Layer_3(x)\n",
    "        x = self.relu(x)\n",
    "        \n",
    "        x = self.Layer_out(x)\n",
    "\n",
    "        return x"
   ]
  },
  {
   "cell_type": "code",
   "execution_count": null,
   "metadata": {
    "id": "4VJiDT-aIWnl"
   },
   "outputs": [],
   "source": []
  },
  {
   "cell_type": "code",
   "execution_count": null,
   "metadata": {
    "id": "TBPceNy8IWnm"
   },
   "outputs": [],
   "source": []
  },
  {
   "cell_type": "markdown",
   "metadata": {
    "id": "z_APaY49IWnm"
   },
   "source": [
    "## Training"
   ]
  },
  {
   "cell_type": "code",
   "execution_count": 41,
   "metadata": {
    "id": "18Nsx8XHIWnm"
   },
   "outputs": [],
   "source": [
    "EPOCHS = 3000\n",
    "BATCH_SIZE = 300 #891\n",
    "\n",
    "train_loader = DataLoader(dataset=train_data, batch_size=BATCH_SIZE, shuffle=True)\n",
    "test_loader = DataLoader(dataset=test_data, batch_size=1, shuffle=False) # test는 섞을 필요 없음\n",
    "\n",
    "model = Binary_Classification(num_features=6, num_classes=2)\n",
    "\n",
    "criterion = nn.CrossEntropyLoss() # https://pytorch.org/docs/stable/nn.html\n",
    "optimizer = optim.Adam(model.parameters(), lr=0.001)"
   ]
  },
  {
   "cell_type": "markdown",
   "metadata": {
    "id": "uo4sqcq2IWnm"
   },
   "source": [
    "### 데이터 사이즈 확인 "
   ]
  },
  {
   "cell_type": "code",
   "execution_count": 42,
   "metadata": {
    "id": "68y7M5JSIWnn"
   },
   "outputs": [
    {
     "name": "stdout",
     "output_type": "stream",
     "text": [
      "torch.Size([300, 6]) torch.Size([300])\n"
     ]
    }
   ],
   "source": [
    "for epoch in range(EPOCHS):\n",
    "    for X_batch, y_batch in train_loader:\n",
    "        print(X_batch.size(), y_batch.size())\n",
    "        break\n",
    "    break"
   ]
  },
  {
   "cell_type": "code",
   "execution_count": 43,
   "metadata": {
    "ExecuteTime": {
     "end_time": "2018-10-28T08:26:29.145512Z",
     "start_time": "2018-10-28T08:24:02.302520Z"
    },
    "id": "oYWDKFQTIWnn",
    "scrolled": true
   },
   "outputs": [
    {
     "name": "stdout",
     "output_type": "stream",
     "text": [
      "Epoch [30/3000] Step [3/3] Loss: [0.3224] Train ACC [91.30%]\n",
      "Epoch [60/3000] Step [3/3] Loss: [0.3778] Train ACC [78.26%]\n",
      "Epoch [90/3000] Step [3/3] Loss: [0.4016] Train ACC [86.96%]\n",
      "Epoch [120/3000] Step [3/3] Loss: [0.3451] Train ACC [86.96%]\n",
      "Epoch [150/3000] Step [3/3] Loss: [0.6587] Train ACC [82.61%]\n",
      "Epoch [180/3000] Step [3/3] Loss: [0.3033] Train ACC [91.30%]\n",
      "Epoch [210/3000] Step [3/3] Loss: [0.5495] Train ACC [73.91%]\n",
      "Epoch [240/3000] Step [3/3] Loss: [0.2929] Train ACC [95.65%]\n",
      "Epoch [270/3000] Step [3/3] Loss: [0.1904] Train ACC [95.65%]\n",
      "Epoch [300/3000] Step [3/3] Loss: [0.1510] Train ACC [95.65%]\n",
      "Epoch [330/3000] Step [3/3] Loss: [0.4633] Train ACC [82.61%]\n",
      "Epoch [360/3000] Step [3/3] Loss: [0.5038] Train ACC [69.57%]\n",
      "Epoch [390/3000] Step [3/3] Loss: [0.4294] Train ACC [82.61%]\n",
      "Epoch [420/3000] Step [3/3] Loss: [0.4401] Train ACC [82.61%]\n",
      "Epoch [450/3000] Step [3/3] Loss: [0.3937] Train ACC [78.26%]\n",
      "Epoch [480/3000] Step [3/3] Loss: [0.3878] Train ACC [91.30%]\n",
      "Epoch [510/3000] Step [3/3] Loss: [0.5459] Train ACC [82.61%]\n",
      "Epoch [540/3000] Step [3/3] Loss: [0.4479] Train ACC [86.96%]\n",
      "Epoch [570/3000] Step [3/3] Loss: [0.3328] Train ACC [91.30%]\n",
      "Epoch [600/3000] Step [3/3] Loss: [0.2830] Train ACC [91.30%]\n",
      "Epoch [630/3000] Step [3/3] Loss: [0.3146] Train ACC [82.61%]\n",
      "Epoch [660/3000] Step [3/3] Loss: [0.4386] Train ACC [82.61%]\n",
      "Epoch [690/3000] Step [3/3] Loss: [0.3852] Train ACC [82.61%]\n",
      "Epoch [720/3000] Step [3/3] Loss: [0.2827] Train ACC [91.30%]\n",
      "Epoch [750/3000] Step [3/3] Loss: [0.3693] Train ACC [82.61%]\n",
      "Epoch [780/3000] Step [3/3] Loss: [0.1478] Train ACC [100.00%]\n",
      "Epoch [810/3000] Step [3/3] Loss: [0.2343] Train ACC [91.30%]\n",
      "Epoch [840/3000] Step [3/3] Loss: [0.2783] Train ACC [91.30%]\n",
      "Epoch [870/3000] Step [3/3] Loss: [0.4099] Train ACC [82.61%]\n",
      "Epoch [900/3000] Step [3/3] Loss: [0.2878] Train ACC [86.96%]\n",
      "Epoch [930/3000] Step [3/3] Loss: [0.3114] Train ACC [91.30%]\n",
      "Epoch [960/3000] Step [3/3] Loss: [0.2090] Train ACC [95.65%]\n",
      "Epoch [990/3000] Step [3/3] Loss: [0.1749] Train ACC [100.00%]\n",
      "Epoch [1020/3000] Step [3/3] Loss: [0.1301] Train ACC [95.65%]\n",
      "Epoch [1050/3000] Step [3/3] Loss: [0.1757] Train ACC [95.65%]\n",
      "Epoch [1080/3000] Step [3/3] Loss: [0.2104] Train ACC [86.96%]\n",
      "Epoch [1110/3000] Step [3/3] Loss: [0.1238] Train ACC [95.65%]\n",
      "Epoch [1140/3000] Step [3/3] Loss: [0.2338] Train ACC [95.65%]\n",
      "Epoch [1170/3000] Step [3/3] Loss: [0.2398] Train ACC [91.30%]\n",
      "Epoch [1200/3000] Step [3/3] Loss: [0.3001] Train ACC [86.96%]\n",
      "Epoch [1230/3000] Step [3/3] Loss: [0.3827] Train ACC [82.61%]\n",
      "Epoch [1260/3000] Step [3/3] Loss: [0.4214] Train ACC [78.26%]\n",
      "Epoch [1290/3000] Step [3/3] Loss: [0.3640] Train ACC [82.61%]\n",
      "Epoch [1320/3000] Step [3/3] Loss: [0.5099] Train ACC [78.26%]\n",
      "Epoch [1350/3000] Step [3/3] Loss: [0.4644] Train ACC [86.96%]\n",
      "Epoch [1380/3000] Step [3/3] Loss: [0.2058] Train ACC [91.30%]\n",
      "Epoch [1410/3000] Step [3/3] Loss: [0.2803] Train ACC [91.30%]\n",
      "Epoch [1440/3000] Step [3/3] Loss: [0.3359] Train ACC [86.96%]\n",
      "Epoch [1470/3000] Step [3/3] Loss: [0.4068] Train ACC [82.61%]\n",
      "Epoch [1500/3000] Step [3/3] Loss: [0.2354] Train ACC [91.30%]\n",
      "Epoch [1530/3000] Step [3/3] Loss: [0.1787] Train ACC [100.00%]\n",
      "Epoch [1560/3000] Step [3/3] Loss: [0.2566] Train ACC [82.61%]\n",
      "Epoch [1590/3000] Step [3/3] Loss: [0.3176] Train ACC [86.96%]\n",
      "Epoch [1620/3000] Step [3/3] Loss: [0.3195] Train ACC [91.30%]\n",
      "Epoch [1650/3000] Step [3/3] Loss: [0.2368] Train ACC [95.65%]\n",
      "Epoch [1680/3000] Step [3/3] Loss: [0.1910] Train ACC [95.65%]\n",
      "Epoch [1710/3000] Step [3/3] Loss: [0.4796] Train ACC [69.57%]\n",
      "Epoch [1740/3000] Step [3/3] Loss: [0.4364] Train ACC [78.26%]\n",
      "Epoch [1770/3000] Step [3/3] Loss: [0.2688] Train ACC [91.30%]\n",
      "Epoch [1800/3000] Step [3/3] Loss: [0.1963] Train ACC [91.30%]\n",
      "Epoch [1830/3000] Step [3/3] Loss: [0.3404] Train ACC [86.96%]\n",
      "Epoch [1860/3000] Step [3/3] Loss: [0.2211] Train ACC [95.65%]\n",
      "Epoch [1890/3000] Step [3/3] Loss: [0.2150] Train ACC [91.30%]\n",
      "Epoch [1920/3000] Step [3/3] Loss: [0.3126] Train ACC [91.30%]\n",
      "Epoch [1950/3000] Step [3/3] Loss: [0.3865] Train ACC [82.61%]\n",
      "Epoch [1980/3000] Step [3/3] Loss: [0.3579] Train ACC [86.96%]\n",
      "Epoch [2010/3000] Step [3/3] Loss: [0.2769] Train ACC [91.30%]\n",
      "Epoch [2040/3000] Step [3/3] Loss: [0.3854] Train ACC [86.96%]\n",
      "Epoch [2070/3000] Step [3/3] Loss: [0.3941] Train ACC [82.61%]\n",
      "Epoch [2100/3000] Step [3/3] Loss: [0.0917] Train ACC [100.00%]\n",
      "Epoch [2130/3000] Step [3/3] Loss: [0.2786] Train ACC [91.30%]\n",
      "Epoch [2160/3000] Step [3/3] Loss: [0.2771] Train ACC [91.30%]\n",
      "Epoch [2190/3000] Step [3/3] Loss: [0.4268] Train ACC [78.26%]\n",
      "Epoch [2220/3000] Step [3/3] Loss: [0.1461] Train ACC [95.65%]\n",
      "Epoch [2250/3000] Step [3/3] Loss: [0.3314] Train ACC [91.30%]\n",
      "Epoch [2280/3000] Step [3/3] Loss: [0.1897] Train ACC [95.65%]\n",
      "Epoch [2310/3000] Step [3/3] Loss: [0.1178] Train ACC [100.00%]\n",
      "Epoch [2340/3000] Step [3/3] Loss: [0.4950] Train ACC [82.61%]\n",
      "Epoch [2370/3000] Step [3/3] Loss: [0.1706] Train ACC [91.30%]\n",
      "Epoch [2400/3000] Step [3/3] Loss: [0.2152] Train ACC [91.30%]\n",
      "Epoch [2430/3000] Step [3/3] Loss: [0.1827] Train ACC [86.96%]\n",
      "Epoch [2460/3000] Step [3/3] Loss: [0.3969] Train ACC [82.61%]\n",
      "Epoch [2490/3000] Step [3/3] Loss: [0.2693] Train ACC [86.96%]\n",
      "Epoch [2520/3000] Step [3/3] Loss: [0.2235] Train ACC [91.30%]\n",
      "Epoch [2550/3000] Step [3/3] Loss: [0.1596] Train ACC [95.65%]\n",
      "Epoch [2580/3000] Step [3/3] Loss: [0.3410] Train ACC [86.96%]\n",
      "Epoch [2610/3000] Step [3/3] Loss: [0.0785] Train ACC [100.00%]\n",
      "Epoch [2640/3000] Step [3/3] Loss: [0.2192] Train ACC [91.30%]\n",
      "Epoch [2670/3000] Step [3/3] Loss: [0.1303] Train ACC [95.65%]\n",
      "Epoch [2700/3000] Step [3/3] Loss: [0.1954] Train ACC [91.30%]\n",
      "Epoch [2730/3000] Step [3/3] Loss: [0.0967] Train ACC [100.00%]\n",
      "Epoch [2760/3000] Step [3/3] Loss: [0.3049] Train ACC [86.96%]\n",
      "Epoch [2790/3000] Step [3/3] Loss: [0.1636] Train ACC [95.65%]\n",
      "Epoch [2820/3000] Step [3/3] Loss: [0.2458] Train ACC [95.65%]\n",
      "Epoch [2850/3000] Step [3/3] Loss: [0.3733] Train ACC [91.30%]\n",
      "Epoch [2880/3000] Step [3/3] Loss: [0.1922] Train ACC [91.30%]\n",
      "Epoch [2910/3000] Step [3/3] Loss: [0.2802] Train ACC [82.61%]\n",
      "Epoch [2940/3000] Step [3/3] Loss: [0.0991] Train ACC [95.65%]\n",
      "Epoch [2970/3000] Step [3/3] Loss: [0.2550] Train ACC [82.61%]\n",
      "Epoch [3000/3000] Step [3/3] Loss: [0.2664] Train ACC [86.96%]\n"
     ]
    }
   ],
   "source": [
    "loss_list = []\n",
    "acc_list = []\n",
    "for epoch in range(EPOCHS):\n",
    "    model.train() # model.cuda()로 하면 오류난다! 현재 gpu를 사용하고 있지 않기 때문.\n",
    "                # .cuda()를 쓴다면 Forward 부분에도 cuda 선언을 해줘야한다. \n",
    "    epoch_train_acc_list = []\n",
    "    epoch_train_loss_list = []\n",
    "    for i, (X_batch, y_batch) in enumerate(train_loader):\n",
    "        \n",
    "        #Forward \n",
    "#         X_batch = X_batch.cuda()\n",
    "#         y_batch = y_batch.cuda()\n",
    "        y_output = model(X_batch)\n",
    "        loss = criterion(y_output, y_batch) #CELoss: The input is expected to contain raw, unnormalized scores for each class.\n",
    "        \n",
    "        #Backward\n",
    "        optimizer.zero_grad()\n",
    "        loss.backward()\n",
    "        optimizer.step()\n",
    "        \n",
    "        #misc (acc 계산, etc) \n",
    "        y_pred = torch.max(y_output, 1)[1]\n",
    "        acc = accuracy_score(y_pred.data.cpu(), y_batch.data.cpu())\n",
    "        epoch_train_loss_list.append(loss.item())\n",
    "        \n",
    "        loss_list.append(loss.item())\n",
    "        epoch_train_acc_list.append(acc)\n",
    "        \n",
    "        acc_list.append(acc)\n",
    "\n",
    "    if (epoch+1) % 30 == 0:\n",
    "        print('Epoch [{}/{}] Step [{}/{}] Loss: [{:.4f}] Train ACC [{:.2f}%]'.format(epoch+1, EPOCHS, \\\n",
    "                                                                              i+1, len(train_loader), loss.item(), acc*100))"
   ]
  },
  {
   "cell_type": "code",
   "execution_count": 44,
   "metadata": {
    "id": "nt8_rTpKIWnn"
   },
   "outputs": [
    {
     "data": {
      "text/plain": [
       "[<matplotlib.lines.Line2D at 0x28832cab5e0>]"
      ]
     },
     "execution_count": 44,
     "metadata": {},
     "output_type": "execute_result"
    },
    {
     "data": {
      "image/png": "[encoded data removed]",
      "text/plain": [
       "<Figure size 432x288 with 1 Axes>"
      ]
     },
     "metadata": {
      "needs_background": "light"
     },
     "output_type": "display_data"
    }
   ],
   "source": [
    "plt.plot(loss_list)"
   ]
  },
  {
   "cell_type": "code",
   "execution_count": 45,
   "metadata": {
    "id": "UNyiCLTaIWno"
   },
   "outputs": [
    {
     "data": {
      "text/plain": [
       "[<matplotlib.lines.Line2D at 0x28833f252e0>]"
      ]
     },
     "execution_count": 45,
     "metadata": {},
     "output_type": "execute_result"
    },
    {
     "data": {
      "image/png": "[encoded data removed]",
      "text/plain": [
       "<Figure size 432x288 with 1 Axes>"
      ]
     },
     "metadata": {
      "needs_background": "light"
     },
     "output_type": "display_data"
    }
   ],
   "source": [
    "plt.plot(acc_list)"
   ]
  },
  {
   "cell_type": "code",
   "execution_count": null,
   "metadata": {
    "id": "mo1y3M1DIWno"
   },
   "outputs": [],
   "source": []
  },
  {
   "cell_type": "markdown",
   "metadata": {
    "id": "EQnDA546IWno"
   },
   "source": [
    "## Test"
   ]
  },
  {
   "cell_type": "code",
   "execution_count": 46,
   "metadata": {
    "ExecuteTime": {
     "end_time": "2018-10-28T08:26:31.968976Z",
     "start_time": "2018-10-28T08:26:31.839523Z"
    },
    "id": "rc7KvXo9IWno"
   },
   "outputs": [
    {
     "name": "stdout",
     "output_type": "stream",
     "text": [
      "Test ACC: [76.87%]\n"
     ]
    }
   ],
   "source": [
    "test_y_pred = []\n",
    "test_acc_list = []\n",
    "with torch.no_grad():\n",
    "    model.eval()\n",
    "    for X_batch, y_batch in test_loader:    \n",
    "        #Forward\n",
    "        y_output = model(X_batch)\n",
    "        \n",
    "        #misc (acc 계산, etc) \n",
    "        y_pred = torch.max(y_output, 1)[1]\n",
    "        test_y_pred.append(y_pred) ## y_pred일 때와 y_pred.item()일 때 비교 \n",
    "        \n",
    "        acc = accuracy_score(y_pred.data.cpu(), y_batch.data.cpu())\n",
    "        test_acc_list.append(acc)\n",
    "    test_acc = np.mean(test_acc_list)\n",
    "print('Test ACC: [{:.2f}%]'.format(test_acc*100))"
   ]
  },
  {
   "cell_type": "code",
   "execution_count": null,
   "metadata": {
    "id": "Nprk6vB0IWnp"
   },
   "outputs": [],
   "source": []
  },
  {
   "cell_type": "code",
   "execution_count": 47,
   "metadata": {
    "id": "Fyd662TbIWnp"
   },
   "outputs": [
    {
     "data": {
      "text/plain": [
       "(268,\n",
       " [tensor([0]),\n",
       "  tensor([1]),\n",
       "  tensor([0]),\n",
       "  tensor([0]),\n",
       "  tensor([0]),\n",
       "  tensor([0]),\n",
       "  tensor([0]),\n",
       "  tensor([1]),\n",
       "  tensor([0]),\n",
       "  tensor([1])])"
      ]
     },
     "execution_count": 47,
     "metadata": {},
     "output_type": "execute_result"
    }
   ],
   "source": [
    "len(test_y_pred), test_y_pred[:10]"
   ]
  },
  {
   "cell_type": "code",
   "execution_count": null,
   "metadata": {
    "id": "CNq2fjt0IWnp"
   },
   "outputs": [],
   "source": []
  },
  {
   "cell_type": "markdown",
   "metadata": {
    "id": "Jxs6VnCWIWnp"
   },
   "source": [
    "# Assignment"
   ]
  },
  {
   "cell_type": "code",
   "execution_count": 82,
   "metadata": {
    "id": "xHUn8ZzFIWnp"
   },
   "outputs": [],
   "source": [
    "class Binary_Classification_layer(nn.Module):\n",
    "    \n",
    "    def __init__(self, num_features, num_classes):\n",
    "        super(Binary_Classification_layer, self).__init__()\n",
    "        \n",
    "        self.Layer_1 = nn.Sequential(\n",
    "                                nn.Linear(num_features, 30),\n",
    "                                nn.ReLU()\n",
    "                            )\n",
    "        \n",
    "        ################################################\n",
    "        #       TODO                                   #\n",
    "        ################################################\n",
    "        self.Layer_2 = nn.Sequential(\n",
    "                                nn.Linear(30, 18)\n",
    "                                )\n",
    "        self.Layer_3 = nn.Sequential(\n",
    "                                nn.Linear(18, 12)\n",
    "                                )\n",
    "        self.Layer_4 = nn.Sequential(\n",
    "                                nn.Linear(12, 6)\n",
    "                                )\n",
    "        \n",
    "        self.Layer_out = nn.Linear(6, 2)\n",
    "\n",
    "    def forward(self, inputs):\n",
    "        \n",
    "        x = self.Layer_1(inputs)      \n",
    "        \n",
    "        ################################################\n",
    "        #       TODO                                   #\n",
    "        ################################################    \n",
    "        x = self.Layer_2(x)\n",
    "        x = self.Layer_3(x)\n",
    "        x = self.Layer_4(x)\n",
    "        \n",
    "        x = self.Layer_out(x)\n",
    "\n",
    "        return x"
   ]
  },
  {
   "cell_type": "code",
   "execution_count": 83,
   "metadata": {
    "id": "-t6i8Xn_IWnq"
   },
   "outputs": [],
   "source": [
    "EPOCHS = 3000\n",
    "BATCH_SIZE = 800\n",
    "\n",
    "train_loader = DataLoader(dataset=train_data, batch_size=BATCH_SIZE, shuffle=True)\n",
    "test_loader = DataLoader(dataset=test_data, batch_size=1, shuffle=False)\n",
    "\n",
    "model = Binary_Classification_layer(num_features=6, num_classes=2)\n",
    "\n",
    "criterion = nn.CrossEntropyLoss() # https://pytorch.org/docs/stable/nn.html\n",
    "optimizer = optim.Adam(model.parameters(), lr=0.001)"
   ]
  },
  {
   "cell_type": "code",
   "execution_count": 84,
   "metadata": {
    "id": "LU_anXJlIWnq",
    "scrolled": true
   },
   "outputs": [
    {
     "name": "stdout",
     "output_type": "stream",
     "text": [
      "Epoch [30/3000] Step [1/1] Loss: [0.6644] Train avg ACC [100.00%] Test ACC [66.72%]\n",
      "Epoch [60/3000] Step [1/1] Loss: [0.6015] Train avg ACC [100.00%] Test ACC [70.83%]\n",
      "Epoch [90/3000] Step [1/1] Loss: [0.5461] Train avg ACC [100.00%] Test ACC [74.10%]\n",
      "Epoch [120/3000] Step [1/1] Loss: [0.5137] Train avg ACC [100.00%] Test ACC [76.24%]\n",
      "Epoch [150/3000] Step [1/1] Loss: [0.4922] Train avg ACC [100.00%] Test ACC [77.65%]\n",
      "Epoch [180/3000] Step [1/1] Loss: [0.4765] Train avg ACC [100.00%] Test ACC [78.70%]\n",
      "Epoch [210/3000] Step [1/1] Loss: [0.4643] Train avg ACC [100.00%] Test ACC [79.48%]\n",
      "Epoch [240/3000] Step [1/1] Loss: [0.4543] Train avg ACC [100.00%] Test ACC [80.04%]\n",
      "Epoch [270/3000] Step [1/1] Loss: [0.4457] Train avg ACC [100.00%] Test ACC [80.52%]\n",
      "Epoch [300/3000] Step [1/1] Loss: [0.4382] Train avg ACC [100.00%] Test ACC [80.96%]\n",
      "Epoch [330/3000] Step [1/1] Loss: [0.4315] Train avg ACC [100.00%] Test ACC [81.35%]\n",
      "Epoch [360/3000] Step [1/1] Loss: [0.4251] Train avg ACC [100.00%] Test ACC [81.76%]\n",
      "Epoch [390/3000] Step [1/1] Loss: [0.4188] Train avg ACC [100.00%] Test ACC [82.16%]\n",
      "Epoch [420/3000] Step [1/1] Loss: [0.4127] Train avg ACC [100.00%] Test ACC [82.49%]\n",
      "Epoch [450/3000] Step [1/1] Loss: [0.4066] Train avg ACC [100.00%] Test ACC [82.83%]\n",
      "Epoch [480/3000] Step [1/1] Loss: [0.4007] Train avg ACC [100.00%] Test ACC [83.12%]\n",
      "Epoch [510/3000] Step [1/1] Loss: [0.3950] Train avg ACC [100.00%] Test ACC [83.42%]\n",
      "Epoch [540/3000] Step [1/1] Loss: [0.3894] Train avg ACC [100.00%] Test ACC [83.74%]\n",
      "Epoch [570/3000] Step [1/1] Loss: [0.3838] Train avg ACC [100.00%] Test ACC [84.04%]\n",
      "Epoch [600/3000] Step [1/1] Loss: [0.3784] Train avg ACC [100.00%] Test ACC [84.32%]\n",
      "Epoch [630/3000] Step [1/1] Loss: [0.3730] Train avg ACC [100.00%] Test ACC [84.59%]\n",
      "Epoch [660/3000] Step [1/1] Loss: [0.3677] Train avg ACC [100.00%] Test ACC [84.83%]\n",
      "Epoch [690/3000] Step [1/1] Loss: [0.3627] Train avg ACC [100.00%] Test ACC [85.06%]\n",
      "Epoch [720/3000] Step [1/1] Loss: [0.3578] Train avg ACC [100.00%] Test ACC [85.27%]\n",
      "Epoch [750/3000] Step [1/1] Loss: [0.3530] Train avg ACC [100.00%] Test ACC [85.48%]\n",
      "Epoch [780/3000] Step [1/1] Loss: [0.3484] Train avg ACC [100.00%] Test ACC [85.67%]\n",
      "Epoch [810/3000] Step [1/1] Loss: [0.3440] Train avg ACC [100.00%] Test ACC [85.84%]\n",
      "Epoch [840/3000] Step [1/1] Loss: [0.3398] Train avg ACC [100.00%] Test ACC [86.01%]\n",
      "Epoch [870/3000] Step [1/1] Loss: [0.3358] Train avg ACC [100.00%] Test ACC [86.17%]\n",
      "Epoch [900/3000] Step [1/1] Loss: [0.3319] Train avg ACC [100.00%] Test ACC [86.31%]\n",
      "Epoch [930/3000] Step [1/1] Loss: [0.3283] Train avg ACC [100.00%] Test ACC [86.45%]\n",
      "Epoch [960/3000] Step [1/1] Loss: [0.3249] Train avg ACC [100.00%] Test ACC [86.57%]\n",
      "Epoch [990/3000] Step [1/1] Loss: [0.3216] Train avg ACC [100.00%] Test ACC [86.69%]\n",
      "Epoch [1020/3000] Step [1/1] Loss: [0.3184] Train avg ACC [100.00%] Test ACC [86.80%]\n",
      "Epoch [1050/3000] Step [1/1] Loss: [0.3154] Train avg ACC [100.00%] Test ACC [86.91%]\n",
      "Epoch [1080/3000] Step [1/1] Loss: [0.3125] Train avg ACC [100.00%] Test ACC [87.02%]\n",
      "Epoch [1110/3000] Step [1/1] Loss: [0.3098] Train avg ACC [100.00%] Test ACC [87.12%]\n",
      "Epoch [1140/3000] Step [1/1] Loss: [0.3071] Train avg ACC [100.00%] Test ACC [87.22%]\n",
      "Epoch [1170/3000] Step [1/1] Loss: [0.3046] Train avg ACC [100.00%] Test ACC [87.31%]\n",
      "Epoch [1200/3000] Step [1/1] Loss: [0.3022] Train avg ACC [100.00%] Test ACC [87.41%]\n",
      "Epoch [1230/3000] Step [1/1] Loss: [0.2999] Train avg ACC [100.00%] Test ACC [87.49%]\n",
      "Epoch [1260/3000] Step [1/1] Loss: [0.2977] Train avg ACC [100.00%] Test ACC [87.58%]\n",
      "Epoch [1290/3000] Step [1/1] Loss: [0.2956] Train avg ACC [100.00%] Test ACC [87.65%]\n",
      "Epoch [1320/3000] Step [1/1] Loss: [0.2936] Train avg ACC [100.00%] Test ACC [87.73%]\n",
      "Epoch [1350/3000] Step [1/1] Loss: [0.2917] Train avg ACC [100.00%] Test ACC [87.80%]\n",
      "Epoch [1380/3000] Step [1/1] Loss: [0.2898] Train avg ACC [100.00%] Test ACC [87.87%]\n",
      "Epoch [1410/3000] Step [1/1] Loss: [0.2880] Train avg ACC [100.00%] Test ACC [87.94%]\n",
      "Epoch [1440/3000] Step [1/1] Loss: [0.2863] Train avg ACC [100.00%] Test ACC [88.00%]\n",
      "Epoch [1470/3000] Step [1/1] Loss: [0.2846] Train avg ACC [100.00%] Test ACC [88.06%]\n",
      "Epoch [1500/3000] Step [1/1] Loss: [0.2830] Train avg ACC [100.00%] Test ACC [88.12%]\n",
      "Epoch [1530/3000] Step [1/1] Loss: [0.2814] Train avg ACC [100.00%] Test ACC [88.18%]\n",
      "Epoch [1560/3000] Step [1/1] Loss: [0.2799] Train avg ACC [100.00%] Test ACC [88.23%]\n",
      "Epoch [1590/3000] Step [1/1] Loss: [0.2784] Train avg ACC [100.00%] Test ACC [88.29%]\n",
      "Epoch [1620/3000] Step [1/1] Loss: [0.2770] Train avg ACC [100.00%] Test ACC [88.34%]\n",
      "Epoch [1650/3000] Step [1/1] Loss: [0.2756] Train avg ACC [100.00%] Test ACC [88.39%]\n",
      "Epoch [1680/3000] Step [1/1] Loss: [0.2743] Train avg ACC [100.00%] Test ACC [88.44%]\n",
      "Epoch [1710/3000] Step [1/1] Loss: [0.2730] Train avg ACC [100.00%] Test ACC [88.49%]\n",
      "Epoch [1740/3000] Step [1/1] Loss: [0.2718] Train avg ACC [100.00%] Test ACC [88.54%]\n",
      "Epoch [1770/3000] Step [1/1] Loss: [0.2705] Train avg ACC [100.00%] Test ACC [88.58%]\n",
      "Epoch [1800/3000] Step [1/1] Loss: [0.2694] Train avg ACC [100.00%] Test ACC [88.63%]\n",
      "Epoch [1830/3000] Step [1/1] Loss: [0.2682] Train avg ACC [100.00%] Test ACC [88.67%]\n",
      "Epoch [1860/3000] Step [1/1] Loss: [0.2671] Train avg ACC [100.00%] Test ACC [88.71%]\n",
      "Epoch [1890/3000] Step [1/1] Loss: [0.2661] Train avg ACC [100.00%] Test ACC [88.75%]\n",
      "Epoch [1920/3000] Step [1/1] Loss: [0.2650] Train avg ACC [100.00%] Test ACC [88.79%]\n",
      "Epoch [1950/3000] Step [1/1] Loss: [0.2640] Train avg ACC [100.00%] Test ACC [88.83%]\n",
      "Epoch [1980/3000] Step [1/1] Loss: [0.2630] Train avg ACC [100.00%] Test ACC [88.87%]\n",
      "Epoch [2010/3000] Step [1/1] Loss: [0.2621] Train avg ACC [100.00%] Test ACC [88.90%]\n",
      "Epoch [2040/3000] Step [1/1] Loss: [0.2611] Train avg ACC [100.00%] Test ACC [88.94%]\n",
      "Epoch [2070/3000] Step [1/1] Loss: [0.2602] Train avg ACC [100.00%] Test ACC [88.97%]\n",
      "Epoch [2100/3000] Step [1/1] Loss: [0.2593] Train avg ACC [100.00%] Test ACC [89.01%]\n",
      "Epoch [2130/3000] Step [1/1] Loss: [0.2585] Train avg ACC [100.00%] Test ACC [89.04%]\n",
      "Epoch [2160/3000] Step [1/1] Loss: [0.2576] Train avg ACC [100.00%] Test ACC [89.07%]\n",
      "Epoch [2190/3000] Step [1/1] Loss: [0.2568] Train avg ACC [100.00%] Test ACC [89.11%]\n",
      "Epoch [2220/3000] Step [1/1] Loss: [0.2560] Train avg ACC [100.00%] Test ACC [89.14%]\n",
      "Epoch [2250/3000] Step [1/1] Loss: [0.2552] Train avg ACC [100.00%] Test ACC [89.17%]\n",
      "Epoch [2280/3000] Step [1/1] Loss: [0.2544] Train avg ACC [100.00%] Test ACC [89.20%]\n",
      "Epoch [2310/3000] Step [1/1] Loss: [0.2537] Train avg ACC [100.00%] Test ACC [89.23%]\n",
      "Epoch [2340/3000] Step [1/1] Loss: [0.2530] Train avg ACC [100.00%] Test ACC [89.26%]\n",
      "Epoch [2370/3000] Step [1/1] Loss: [0.2523] Train avg ACC [100.00%] Test ACC [89.28%]\n",
      "Epoch [2400/3000] Step [1/1] Loss: [0.2516] Train avg ACC [100.00%] Test ACC [89.31%]\n",
      "Epoch [2430/3000] Step [1/1] Loss: [0.2509] Train avg ACC [100.00%] Test ACC [89.34%]\n",
      "Epoch [2460/3000] Step [1/1] Loss: [0.2502] Train avg ACC [100.00%] Test ACC [89.36%]\n",
      "Epoch [2490/3000] Step [1/1] Loss: [0.2496] Train avg ACC [100.00%] Test ACC [89.39%]\n",
      "Epoch [2520/3000] Step [1/1] Loss: [0.2489] Train avg ACC [100.00%] Test ACC [89.41%]\n",
      "Epoch [2550/3000] Step [1/1] Loss: [0.2483] Train avg ACC [100.00%] Test ACC [89.44%]\n",
      "Epoch [2580/3000] Step [1/1] Loss: [0.2477] Train avg ACC [100.00%] Test ACC [89.46%]\n",
      "Epoch [2610/3000] Step [1/1] Loss: [0.2471] Train avg ACC [100.00%] Test ACC [89.48%]\n",
      "Epoch [2640/3000] Step [1/1] Loss: [0.2465] Train avg ACC [100.00%] Test ACC [89.50%]\n",
      "Epoch [2670/3000] Step [1/1] Loss: [0.2459] Train avg ACC [100.00%] Test ACC [89.53%]\n",
      "Epoch [2700/3000] Step [1/1] Loss: [0.2454] Train avg ACC [100.00%] Test ACC [89.55%]\n",
      "Epoch [2730/3000] Step [1/1] Loss: [0.2448] Train avg ACC [100.00%] Test ACC [89.57%]\n",
      "Epoch [2760/3000] Step [1/1] Loss: [0.2443] Train avg ACC [100.00%] Test ACC [89.59%]\n",
      "Epoch [2790/3000] Step [1/1] Loss: [0.2437] Train avg ACC [100.00%] Test ACC [89.61%]\n",
      "Epoch [2820/3000] Step [1/1] Loss: [0.2432] Train avg ACC [100.00%] Test ACC [89.63%]\n",
      "Epoch [2850/3000] Step [1/1] Loss: [0.2427] Train avg ACC [100.00%] Test ACC [89.65%]\n",
      "Epoch [2880/3000] Step [1/1] Loss: [0.2422] Train avg ACC [100.00%] Test ACC [89.67%]\n"
     ]
    },
    {
     "name": "stdout",
     "output_type": "stream",
     "text": [
      "Epoch [2910/3000] Step [1/1] Loss: [0.2417] Train avg ACC [100.00%] Test ACC [89.69%]\n",
      "Epoch [2940/3000] Step [1/1] Loss: [0.2412] Train avg ACC [100.00%] Test ACC [89.71%]\n",
      "Epoch [2970/3000] Step [1/1] Loss: [0.2407] Train avg ACC [100.00%] Test ACC [89.72%]\n",
      "Epoch [3000/3000] Step [1/1] Loss: [0.2403] Train avg ACC [100.00%] Test ACC [89.74%]\n"
     ]
    }
   ],
   "source": [
    "train_loss_list = []\n",
    "train_acc_list = []\n",
    "\n",
    "test_acc_list = []\n",
    "\n",
    "for epoch in range(EPOCHS):\n",
    "    # train\n",
    "    for i, (X_batch, y_batch) in enumerate(train_loader):\n",
    "        ################################################\n",
    "        #       TODO                                   #\n",
    "        ################################################ \n",
    "#         X_batch = 뭘 넣어야하죠?? \n",
    "#         y_batch = 이거 빼도 잘 돌아가는데...\n",
    "        \n",
    "        #Forward \n",
    "        y_output = model(X_batch)\n",
    "        loss = criterion(y_output, y_batch) #CELoss: The input is expected to contain raw, unnormalized scores for each class.\n",
    "        \n",
    "        #Backward\n",
    "        optimizer.zero_grad()\n",
    "        loss.backward()\n",
    "        optimizer.step()\n",
    "        \n",
    "        #misc (acc 계산, etc) \n",
    "        y_pred = torch.max(y_output, 1)[1]\n",
    "        train_acc = accuracy_score(y_pred.data.cpu(), y_batch.data.cpu())\n",
    "        \n",
    "        train_loss_list.append(loss.item())\n",
    "        train_acc_list.append(acc)\n",
    "\n",
    "    \n",
    "        \n",
    "    # test\n",
    "    with torch.no_grad():\n",
    "        ################################################\n",
    "        #       TODO                                   #\n",
    "        ################################################ \n",
    "        for i, (X_batch, y_batch) in enumerate(train_loader):   \n",
    "            \n",
    "            y_output = model(X_batch)\n",
    "            y_pred = torch.max(y_output, 1)[1]\n",
    "            \n",
    "            test_acc = accuracy_score(y_pred.data.cpu(), y_batch)\n",
    "            \n",
    "            test_acc_list.append(test_acc)\n",
    "            \n",
    "    \n",
    "    if (epoch+1) % 30 == 0:\n",
    "        print('Epoch [{}/{}] Step [{}/{}] Loss: [{:.4f}] Train avg ACC [{:.2f}%] Test ACC [{:.2f}%]'.format(epoch+1, EPOCHS, \\\n",
    "                                                                                   i+1, len(train_loader), np.mean(train_loss_list), \\\n",
    "                                                                                                        np.mean(train_acc_list)*100, np.mean(test_acc_list)*100))"
   ]
  },
  {
   "cell_type": "code",
   "execution_count": 85,
   "metadata": {},
   "outputs": [
    {
     "data": {
      "text/plain": [
       "[<matplotlib.lines.Line2D at 0x28835476e20>]"
      ]
     },
     "execution_count": 85,
     "metadata": {},
     "output_type": "execute_result"
    },
    {
     "data": {
      "image/png": "[encoded data removed]",
      "text/plain": [
       "<Figure size 432x288 with 1 Axes>"
      ]
     },
     "metadata": {
      "needs_background": "light"
     },
     "output_type": "display_data"
    }
   ],
   "source": [
    "plt.plot(train_loss_list)"
   ]
  },
  {
   "cell_type": "code",
   "execution_count": 86,
   "metadata": {},
   "outputs": [
    {
     "data": {
      "text/plain": [
       "[<matplotlib.lines.Line2D at 0x288354df3a0>]"
      ]
     },
     "execution_count": 86,
     "metadata": {},
     "output_type": "execute_result"
    },
    {
     "data": {
      "image/png": "[encoded data removed]",
      "text/plain": [
       "<Figure size 432x288 with 1 Axes>"
      ]
     },
     "metadata": {
      "needs_background": "light"
     },
     "output_type": "display_data"
    }
   ],
   "source": [
    "plt.plot(test_acc_list)"
   ]
  },
  {
   "cell_type": "code",
   "execution_count": null,
   "metadata": {},
   "outputs": [],
   "source": []
  }
 ],
 "metadata": {
  "colab": {
   "name": "3_Binary_Classification_Neural_Net.ipynb",
   "provenance": []
  },
  "kernelspec": {
   "display_name": "Python 3",
   "language": "python",
   "name": "python3"
  },
  "language_info": {
   "codemirror_mode": {
    "name": "ipython",
    "version": 3
   },
   "file_extension": ".py",
   "mimetype": "text/x-python",
   "name": "python",
   "nbconvert_exporter": "python",
   "pygments_lexer": "ipython3",
   "version": "3.8.8"
  },
  "latex_envs": {
   "LaTeX_envs_menu_present": true,
   "autoclose": false,
   "autocomplete": true,
   "bibliofile": "biblio.bib",
   "cite_by": "apalike",
   "current_citInitial": 1,
   "eqLabelWithNumbers": true,
   "eqNumInitial": 1,
   "hotkeys": {
    "equation": "Ctrl-E",
    "itemize": "Ctrl-I"
   },
   "labels_anchors": false,
   "latex_user_defs": false,
   "report_style_numbering": false,
   "user_envs_cfg": false
  },
  "toc": {
   "base_numbering": 1,
   "nav_menu": {},
   "number_sections": true,
   "sideBar": true,
   "skip_h1_title": false,
   "title_cell": "Table of Contents",
   "title_sidebar": "Contents",
   "toc_cell": false,
   "toc_position": {},
   "toc_section_display": true,
   "toc_window_display": false
  },
  "varInspector": {
   "cols": {
    "lenName": 16,
    "lenType": 16,
    "lenVar": 40
   },
   "kernels_config": {
    "python": {
     "delete_cmd_postfix": "",
     "delete_cmd_prefix": "del ",
     "library": "var_list.py",
     "varRefreshCmd": "print(var_dic_list())"
    },
    "r": {
     "delete_cmd_postfix": ") ",
     "delete_cmd_prefix": "rm(",
     "library": "var_list.r",
     "varRefreshCmd": "cat(var_dic_list()) "
    }
   },
   "types_to_exclude": [
    "module",
    "function",
    "builtin_function_or_method",
    "instance",
    "_Feature"
   ],
   "window_display": false
  }
 },
 "nbformat": 4,
 "nbformat_minor": 1
}
