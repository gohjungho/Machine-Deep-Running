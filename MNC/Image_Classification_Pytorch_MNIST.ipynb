{
  "cells": [
    {
      "cell_type": "markdown",
      "metadata": {
        "id": "WRLRverdiZMk"
      },
      "source": [
        "# PyTorch Image Classifier\n",
        "- Reference: https://colab.research.google.com/github/bentoml/gallery/blob/master/pytorch/cifar10-image-classification/pytorch-cifar10-image-classification.ipynb\n",
        "- 조교: 이정수 (bebeto@kaist.ac.kr)"
      ]
    },
    {
      "cell_type": "code",
      "execution_count": null,
      "metadata": {
        "id": "44QsIHS3iZMo"
      },
      "outputs": [],
      "source": [
        "%reload_ext autoreload\n",
        "%autoreload 2\n",
        "%matplotlib inline"
      ]
    },
    {
      "cell_type": "code",
      "execution_count": null,
      "metadata": {
        "id": "4sP5prpUiZMp",
        "outputId": "99b23f09-bd5a-4bfb-977d-c86212584fcd",
        "colab": {
          "base_uri": "https://localhost:8080/"
        }
      },
      "outputs": [
        {
          "output_type": "stream",
          "name": "stdout",
          "text": [
            "\u001b[K     |████████████████████████████████| 4.0 MB 6.8 MB/s \n",
            "\u001b[K     |████████████████████████████████| 748.8 MB 18 kB/s \n",
            "\u001b[K     |████████████████████████████████| 5.9 MB 59.6 MB/s \n",
            "\u001b[K     |████████████████████████████████| 2.2 MB 55.1 MB/s \n",
            "\u001b[K     |████████████████████████████████| 209 kB 79.2 MB/s \n",
            "\u001b[K     |████████████████████████████████| 131 kB 78.1 MB/s \n",
            "\u001b[K     |████████████████████████████████| 63 kB 3.4 MB/s \n",
            "\u001b[?25h  Installing build dependencies ... \u001b[?25l\u001b[?25hdone\n",
            "  Getting requirements to build wheel ... \u001b[?25l\u001b[?25hdone\n",
            "    Preparing wheel metadata ... \u001b[?25l\u001b[?25hdone\n",
            "\u001b[K     |████████████████████████████████| 1.3 MB 58.1 MB/s \n",
            "\u001b[K     |████████████████████████████████| 79 kB 11.6 MB/s \n",
            "\u001b[K     |████████████████████████████████| 1.1 MB 44.9 MB/s \n",
            "\u001b[K     |████████████████████████████████| 146 kB 72.8 MB/s \n",
            "\u001b[K     |████████████████████████████████| 86 kB 7.7 MB/s \n",
            "\u001b[K     |████████████████████████████████| 131 kB 67.0 MB/s \n",
            "\u001b[K     |████████████████████████████████| 109 kB 76.4 MB/s \n",
            "\u001b[K     |████████████████████████████████| 271 kB 78.4 MB/s \n",
            "\u001b[K     |████████████████████████████████| 160 kB 74.4 MB/s \n",
            "\u001b[K     |████████████████████████████████| 192 kB 82.2 MB/s \n",
            "\u001b[K     |████████████████████████████████| 546 kB 74.7 MB/s \n",
            "\u001b[K     |████████████████████████████████| 75 kB 6.1 MB/s \n",
            "\u001b[K     |████████████████████████████████| 79 kB 10.8 MB/s \n",
            "\u001b[K     |████████████████████████████████| 8.5 MB 51.4 MB/s \n",
            "\u001b[K     |████████████████████████████████| 127 kB 80.0 MB/s \n",
            "\u001b[K     |████████████████████████████████| 53 kB 2.8 MB/s \n",
            "\u001b[?25h  Building wheel for sqlalchemy-utils (setup.py) ... \u001b[?25l\u001b[?25hdone\n",
            "  Building wheel for cerberus (PEP 517) ... \u001b[?25l\u001b[?25hdone\n",
            "\u001b[31mERROR: pip's dependency resolver does not currently take into account all the packages that are installed. This behaviour is the source of the following dependency conflicts.\n",
            "torchtext 0.11.0 requires torch==1.10.0, but you have torch 1.6.0 which is incompatible.\n",
            "torchaudio 0.10.0+cu111 requires torch==1.10.0, but you have torch 1.6.0 which is incompatible.\n",
            "datascience 0.10.6 requires folium==0.2.1, but you have folium 0.8.3 which is incompatible.\n",
            "albumentations 0.1.12 requires imgaug<0.2.7,>=0.2.5, but you have imgaug 0.2.9 which is incompatible.\u001b[0m\n"
          ]
        }
      ],
      "source": [
        "!pip install -q bentoml \"torch==1.6.0\" \"torchvision==0.7.0\" \"pillow==7.2.0\"\n"
      ]
    },
    {
      "cell_type": "code",
      "execution_count": null,
      "metadata": {
        "id": "4a6vxk7ZiZMp"
      },
      "outputs": [],
      "source": [
        "import torch\n",
        "import torchvision\n",
        "import torchvision.transforms as transforms"
      ]
    },
    {
      "cell_type": "markdown",
      "metadata": {
        "id": "DnNP_uBHiZMq"
      },
      "source": [
        "# Training an image classifier\n",
        "\n",
        "We will do the following steps in order:\n",
        "\n",
        "* Load and normalizing the MNIST training and test datasets using torchvision\n",
        "* Define a Convolutional Neural Network\n",
        "* Define a loss function\n",
        "* Train the network on the training data\n",
        "* Test the network on the test data\n",
        "* Model Serving with BentoML\n",
        "\n",
        "\n",
        "## 1 Loading and Normalizing MNIST"
      ]
    },
    {
      "cell_type": "markdown",
      "metadata": {
        "id": "IfeTCz1jiZMq"
      },
      "source": [
        "The output of torchvision datasets are PILImage images of range [0, 1]. We transform them to Tensors of normalized range [-1, 1]."
      ]
    },
    {
      "cell_type": "code",
      "execution_count": null,
      "metadata": {
        "id": "4Ib2r5myiZMr"
      },
      "outputs": [],
      "source": [
        "transform = transforms.Compose(\n",
        "    [transforms.ToTensor(),\n",
        "     transforms.Normalize((0.5), (0.5))])\n",
        "\n",
        "trainset = torchvision.datasets.MNIST(root='./data', train=True,\n",
        "                                        download=True, transform=transform)\n",
        "trainloader = torch.utils.data.DataLoader(trainset, batch_size=4,\n",
        "                                          shuffle=True, num_workers=2)\n",
        "\n",
        "testset = torchvision.datasets.MNIST(root='./data', train=False,\n",
        "                                       download=True, transform=transform)\n",
        "testloader = torch.utils.data.DataLoader(testset, batch_size=4,\n",
        "                                         shuffle=False, num_workers=2)"
      ]
    },
    {
      "cell_type": "markdown",
      "metadata": {
        "id": "lZ8V_LsoiZMs"
      },
      "source": [
        "Let us show some of the training images, for fun."
      ]
    },
    {
      "cell_type": "code",
      "execution_count": null,
      "metadata": {
        "id": "Yzm9scoeiZMt",
        "colab": {
          "base_uri": "https://localhost:8080/",
          "height": 311
        },
        "outputId": "d96eca9a-12c3-4770-b9f7-9425bf0eab88"
      },
      "outputs": [
        {
          "output_type": "stream",
          "name": "stderr",
          "text": [
            "Clipping input data to the valid range for imshow with RGB data ([0..1] for floats or [0..255] for integers).\n"
          ]
        },
        {
          "output_type": "stream",
          "name": "stdout",
          "text": [
            "img scale min: -1.0 max: 1.0\n"
          ]
        },
        {
          "output_type": "display_data",
          "data": {
            "image/png": "[encoded data removed]",
            "text/plain": [
              "<Figure size 432x288 with 1 Axes>"
            ]
          },
          "metadata": {
            "needs_background": "light"
          }
        },
        {
          "output_type": "stream",
          "name": "stdout",
          "text": [
            "img scale min: 0.0 max: 1.0\n"
          ]
        },
        {
          "output_type": "display_data",
          "data": {
            "image/png": "[encoded data removed]",
            "text/plain": [
              "<Figure size 432x288 with 1 Axes>"
            ]
          },
          "metadata": {
            "needs_background": "light"
          }
        }
      ],
      "source": [
        "import matplotlib.pyplot as plt\n",
        "import numpy as np\n",
        "\n",
        "# functions to show an image\n",
        "\n",
        "# scale에 따른 시각화차이를 보여주기 위함\n",
        "def imshow(img):\n",
        "    print(f'img scale min: {img.min()} max: {img.max()}')\n",
        "    npimg = img.numpy()\n",
        "    plt.imshow(np.transpose(npimg, (1, 2, 0)))\n",
        "    plt.show()\n",
        "\n",
        "    plt.close()\n",
        "\n",
        "    img = img / 2 + 0.5     # unnormalize \n",
        "    print(f'img scale min: {img.min()} max: {img.max()}')\n",
        "    npimg = img.numpy()\n",
        "    plt.imshow(np.transpose(npimg, (1, 2, 0)))\n",
        "    plt.show()\n",
        "\n",
        "# get some random training images\n",
        "dataiter = iter(trainloader)\n",
        "images, labels = dataiter.next()\n",
        "\n",
        "# show images\n",
        "imshow_check(torchvision.utils.make_grid(images))"
      ]
    },
    {
      "cell_type": "markdown",
      "metadata": {
        "id": "pp6hP2KtiZMu"
      },
      "source": [
        "## 2 Define a Convolutional Neural Network\n",
        "\n",
        "Copy the neural network from the Neural Networks section before and modify it to take 3-channel images (instead of 1-channel images as it was defined)."
      ]
    },
    {
      "cell_type": "code",
      "source": [
        "import torch.nn as nn\n",
        "import torch.nn.functional as F"
      ],
      "metadata": {
        "id": "4bigoQzVoBTM"
      },
      "execution_count": null,
      "outputs": []
    },
    {
      "cell_type": "markdown",
      "source": [
        "# MLP (Multi Layer Perceptron)"
      ],
      "metadata": {
        "id": "ePwQTOxqozDj"
      }
    },
    {
      "cell_type": "code",
      "source": [
        "class MLP(nn.Module):\n",
        "    def __init__(self, num_classes = 10):\n",
        "        super(MLP, self).__init__()\n",
        "        self.feature = nn.Sequential(\n",
        "            nn.Linear(28*28, 100),\n",
        "            nn.ReLU(),\n",
        "            nn.Linear(100, 100),\n",
        "            nn.ReLU(),\n",
        "            nn.Linear(100, 16),\n",
        "            nn.ReLU()\n",
        "        )\n",
        "        self.classifier = nn.Linear(16, num_classes)\n",
        "\n",
        "\n",
        "    def forward(self, x, mode=None, return_feat=False):\n",
        "        x = x.view(x.size(0), -1) \n",
        "        x = self.feature(x)\n",
        "        x = self.classifier(x)\n",
        "        return x "
      ],
      "metadata": {
        "id": "B9j7U6HQnuEj"
      },
      "execution_count": null,
      "outputs": []
    },
    {
      "cell_type": "markdown",
      "source": [
        "# ResNet"
      ],
      "metadata": {
        "id": "3KCPWOScpB5C"
      }
    },
    {
      "cell_type": "code",
      "source": [
        "net = MLP()"
      ],
      "metadata": {
        "id": "BjSCDwFFpT6G"
      },
      "execution_count": null,
      "outputs": []
    },
    {
      "cell_type": "markdown",
      "metadata": {
        "id": "f6P_-Ei0iZMu"
      },
      "source": [
        "## 3 Define a Loss function and optimize"
      ]
    },
    {
      "cell_type": "markdown",
      "metadata": {
        "id": "9_MBPpIwiZMv"
      },
      "source": [
        "Let’s use a Classification Cross-Entropy loss and SGD with momentum."
      ]
    },
    {
      "cell_type": "code",
      "execution_count": null,
      "metadata": {
        "id": "_6osQxMGiZMv"
      },
      "outputs": [],
      "source": [
        "import torch.optim as optim\n",
        "\n",
        "criterion = nn.CrossEntropyLoss()\n",
        "optimizer = optim.SGD(net.parameters(), lr=0.005, momentum=0.9)"
      ]
    },
    {
      "cell_type": "markdown",
      "metadata": {
        "id": "aMEtQpwyiZMv"
      },
      "source": [
        "## 4 Train the network\n",
        "\n",
        "This is when things start to get interesting. We simply have to loop over our data iterator, and feed the inputs to the network and optimize."
      ]
    },
    {
      "cell_type": "code",
      "execution_count": null,
      "metadata": {
        "id": "MdBZ9-zbiZMw",
        "outputId": "c39eb844-492d-49a6-ff54-968f49ff1c0d",
        "colab": {
          "base_uri": "https://localhost:8080/"
        }
      },
      "outputs": [
        {
          "output_type": "stream",
          "name": "stdout",
          "text": [
            "[1,  2000] loss: 1.523\n",
            "[1,  4000] loss: 0.994\n",
            "[1,  6000] loss: 0.839\n",
            "[1,  8000] loss: 0.815\n",
            "[1, 10000] loss: 0.775\n",
            "[1, 12000] loss: 0.753\n",
            "[1, 14000] loss: 0.737\n",
            "Finished Training\n"
          ]
        }
      ],
      "source": [
        "for epoch in range(1):  # loop over the dataset multiple times\n",
        "\n",
        "    running_loss = 0.0\n",
        "    for i, data in enumerate(trainloader, 0):\n",
        "        # get the inputs; data is a list of [inputs, labels]\n",
        "        inputs, labels = data\n",
        "\n",
        "        # zero the parameter gradients\n",
        "        optimizer.zero_grad()\n",
        "\n",
        "        # forward + backward + optimize\n",
        "        outputs = net(inputs)\n",
        "        loss = criterion(outputs, labels)\n",
        "        loss.backward()\n",
        "        optimizer.step()\n",
        "\n",
        "        # print statistics\n",
        "        running_loss += loss.item()\n",
        "        if i % 2000 == 1999:    # print every 2000 mini-batches\n",
        "            print('[%d, %5d] loss: %.3f' %\n",
        "                  (epoch + 1, i + 1, running_loss / 2000))\n",
        "            running_loss = 0.0\n",
        "\n",
        "print('Finished Training')"
      ]
    },
    {
      "cell_type": "markdown",
      "metadata": {
        "id": "xioMZLv8iZMw"
      },
      "source": [
        "## 5 Test the network on the test data\n",
        "\n",
        "We have trained the network for 2 passes over the training dataset. But we need to check if the network has learnt anything at all.\n",
        "\n",
        "We will check this by predicting the class label that the neural network outputs, and checking it against the ground-truth. If the prediction is correct, we add the sample to the list of correct predictions.\n",
        "\n",
        "Okay, first step. Let us display an image from the test set to get familiar."
      ]
    },
    {
      "cell_type": "code",
      "execution_count": null,
      "metadata": {
        "id": "9Lo5F7bMiZMw",
        "outputId": "949f5009-6c38-4557-f13d-2993ade9caa2",
        "colab": {
          "base_uri": "https://localhost:8080/",
          "height": 311
        }
      },
      "outputs": [
        {
          "output_type": "stream",
          "name": "stderr",
          "text": [
            "Clipping input data to the valid range for imshow with RGB data ([0..1] for floats or [0..255] for integers).\n"
          ]
        },
        {
          "output_type": "stream",
          "name": "stdout",
          "text": [
            "img scale min: -1.0 max: 1.0\n"
          ]
        },
        {
          "output_type": "display_data",
          "data": {
            "image/png": "[encoded data removed]",
            "text/plain": [
              "<Figure size 432x288 with 1 Axes>"
            ]
          },
          "metadata": {
            "needs_background": "light"
          }
        },
        {
          "output_type": "stream",
          "name": "stdout",
          "text": [
            "img scale min: 0.0 max: 1.0\n"
          ]
        },
        {
          "output_type": "display_data",
          "data": {
            "image/png": "[encoded data removed]",
            "text/plain": [
              "<Figure size 432x288 with 1 Axes>"
            ]
          },
          "metadata": {
            "needs_background": "light"
          }
        }
      ],
      "source": [
        "dataiter = iter(testloader)\n",
        "images, labels = dataiter.next()\n",
        "\n",
        "# print images\n",
        "imshow(torchvision.utils.make_grid(images))"
      ]
    },
    {
      "cell_type": "markdown",
      "metadata": {
        "id": "Wys2TyF-iZMx"
      },
      "source": [
        "Let us look at how the network performs on the whole dataset."
      ]
    },
    {
      "cell_type": "code",
      "execution_count": null,
      "metadata": {
        "id": "tuYb595EiZMx",
        "outputId": "45743152-7cbf-4160-c6a0-6f9bc0e81518",
        "colab": {
          "base_uri": "https://localhost:8080/"
        }
      },
      "outputs": [
        {
          "output_type": "stream",
          "name": "stdout",
          "text": [
            "Accuracy of the network on the 10000 test images: 84 %\n"
          ]
        }
      ],
      "source": [
        "correct = 0\n",
        "total = 0\n",
        "with torch.no_grad():\n",
        "    for data in testloader:\n",
        "        images, labels = data\n",
        "        outputs = net(images)\n",
        "        _, predicted = torch.max(outputs.data, 1)\n",
        "        total += labels.size(0)\n",
        "        correct += (predicted == labels).sum().item()\n",
        "\n",
        "print('Accuracy of the network on the 10000 test images: %d %%' % (\n",
        "    100 * correct / total))"
      ]
    },
    {
      "cell_type": "code",
      "execution_count": null,
      "metadata": {
        "id": "UDtotP31iZM1"
      },
      "outputs": [],
      "source": [
        ""
      ]
    }
  ],
  "metadata": {
    "kernelspec": {
      "display_name": "bentoml-py36",
      "language": "python",
      "name": "bentoml-py36"
    },
    "language_info": {
      "codemirror_mode": {
        "name": "ipython",
        "version": 3
      },
      "file_extension": ".py",
      "mimetype": "text/x-python",
      "name": "python",
      "nbconvert_exporter": "python",
      "pygments_lexer": "ipython3",
      "version": "3.6.10"
    },
    "colab": {
      "name": "220114_Image_Classification_Pytorch - MNIST",
      "provenance": [],
      "collapsed_sections": []
    },
    "accelerator": "GPU"
  },
  "nbformat": 4,
  "nbformat_minor": 0
}
